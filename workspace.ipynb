{
 "cells": [
  {
   "cell_type": "code",
   "execution_count": 23,
   "metadata": {},
   "outputs": [
    {
     "data": {
      "text/plain": [
       "myprint (generic function with 1 method)"
      ]
     },
     "execution_count": 23,
     "metadata": {},
     "output_type": "execute_result"
    }
   ],
   "source": [
    "#using Pkg\n",
    "#Pkg.add([\"DataArrays\",\"DataFrames\",\"Plots\",\"CSV\"])\n",
    "using DataFrames, Plots, CSV\n",
    "function myprint(Obj)\n",
    "    show(stdout, \"text/plain\", Obj)\n",
    "end"
   ]
  },
  {
   "cell_type": "code",
   "execution_count": 76,
   "metadata": {},
   "outputs": [
    {
     "data": {
      "text/html": [
       "<table class=\"data-frame\"><thead><tr><th></th><th>Match_Id</th><th>Match_Date</th><th>Match_YYMMDD</th><th>Match_Type_Id</th><th>Match_Type</th><th>Season_Id</th><th>Season</th></tr><tr><th></th><th>Int64</th><th>String</th><th>Int64</th><th>Int64</th><th>String</th><th>Int64</th><th>String</th></tr></thead><tbody><p>13,751 rows × 377 columns (omitted printing of 370 columns)</p><tr><th>1</th><td>3551019</td><td>18-Oct-2019</td><td>20191018</td><td>7</td><td>Twenty20</td><td>3550002</td><td>2019-20</td></tr><tr><th>2</th><td>3551019</td><td>18-Oct-2019</td><td>20191018</td><td>7</td><td>Twenty20</td><td>3550002</td><td>2019-20</td></tr><tr><th>3</th><td>3551019</td><td>18-Oct-2019</td><td>20191018</td><td>7</td><td>Twenty20</td><td>3550002</td><td>2019-20</td></tr><tr><th>4</th><td>3551019</td><td>18-Oct-2019</td><td>20191018</td><td>7</td><td>Twenty20</td><td>3550002</td><td>2019-20</td></tr><tr><th>5</th><td>3551019</td><td>18-Oct-2019</td><td>20191018</td><td>7</td><td>Twenty20</td><td>3550002</td><td>2019-20</td></tr><tr><th>6</th><td>3551019</td><td>18-Oct-2019</td><td>20191018</td><td>7</td><td>Twenty20</td><td>3550002</td><td>2019-20</td></tr><tr><th>7</th><td>3551019</td><td>18-Oct-2019</td><td>20191018</td><td>7</td><td>Twenty20</td><td>3550002</td><td>2019-20</td></tr><tr><th>8</th><td>3551019</td><td>18-Oct-2019</td><td>20191018</td><td>7</td><td>Twenty20</td><td>3550002</td><td>2019-20</td></tr><tr><th>9</th><td>3551019</td><td>18-Oct-2019</td><td>20191018</td><td>7</td><td>Twenty20</td><td>3550002</td><td>2019-20</td></tr><tr><th>10</th><td>3551019</td><td>18-Oct-2019</td><td>20191018</td><td>7</td><td>Twenty20</td><td>3550002</td><td>2019-20</td></tr><tr><th>11</th><td>3551019</td><td>18-Oct-2019</td><td>20191018</td><td>7</td><td>Twenty20</td><td>3550002</td><td>2019-20</td></tr><tr><th>12</th><td>3551019</td><td>18-Oct-2019</td><td>20191018</td><td>7</td><td>Twenty20</td><td>3550002</td><td>2019-20</td></tr><tr><th>13</th><td>3551019</td><td>18-Oct-2019</td><td>20191018</td><td>7</td><td>Twenty20</td><td>3550002</td><td>2019-20</td></tr><tr><th>14</th><td>3551019</td><td>18-Oct-2019</td><td>20191018</td><td>7</td><td>Twenty20</td><td>3550002</td><td>2019-20</td></tr><tr><th>15</th><td>3551019</td><td>18-Oct-2019</td><td>20191018</td><td>7</td><td>Twenty20</td><td>3550002</td><td>2019-20</td></tr><tr><th>16</th><td>3551019</td><td>18-Oct-2019</td><td>20191018</td><td>7</td><td>Twenty20</td><td>3550002</td><td>2019-20</td></tr><tr><th>17</th><td>3551019</td><td>18-Oct-2019</td><td>20191018</td><td>7</td><td>Twenty20</td><td>3550002</td><td>2019-20</td></tr><tr><th>18</th><td>3551019</td><td>18-Oct-2019</td><td>20191018</td><td>7</td><td>Twenty20</td><td>3550002</td><td>2019-20</td></tr><tr><th>19</th><td>3551019</td><td>18-Oct-2019</td><td>20191018</td><td>7</td><td>Twenty20</td><td>3550002</td><td>2019-20</td></tr><tr><th>20</th><td>3551019</td><td>18-Oct-2019</td><td>20191018</td><td>7</td><td>Twenty20</td><td>3550002</td><td>2019-20</td></tr><tr><th>21</th><td>3551019</td><td>18-Oct-2019</td><td>20191018</td><td>7</td><td>Twenty20</td><td>3550002</td><td>2019-20</td></tr><tr><th>22</th><td>3551019</td><td>18-Oct-2019</td><td>20191018</td><td>7</td><td>Twenty20</td><td>3550002</td><td>2019-20</td></tr><tr><th>23</th><td>3551019</td><td>18-Oct-2019</td><td>20191018</td><td>7</td><td>Twenty20</td><td>3550002</td><td>2019-20</td></tr><tr><th>24</th><td>3551019</td><td>18-Oct-2019</td><td>20191018</td><td>7</td><td>Twenty20</td><td>3550002</td><td>2019-20</td></tr><tr><th>25</th><td>3551019</td><td>18-Oct-2019</td><td>20191018</td><td>7</td><td>Twenty20</td><td>3550002</td><td>2019-20</td></tr><tr><th>26</th><td>3551019</td><td>18-Oct-2019</td><td>20191018</td><td>7</td><td>Twenty20</td><td>3550002</td><td>2019-20</td></tr><tr><th>27</th><td>3551019</td><td>18-Oct-2019</td><td>20191018</td><td>7</td><td>Twenty20</td><td>3550002</td><td>2019-20</td></tr><tr><th>28</th><td>3551019</td><td>18-Oct-2019</td><td>20191018</td><td>7</td><td>Twenty20</td><td>3550002</td><td>2019-20</td></tr><tr><th>29</th><td>3551019</td><td>18-Oct-2019</td><td>20191018</td><td>7</td><td>Twenty20</td><td>3550002</td><td>2019-20</td></tr><tr><th>30</th><td>3551019</td><td>18-Oct-2019</td><td>20191018</td><td>7</td><td>Twenty20</td><td>3550002</td><td>2019-20</td></tr><tr><th>&vellip;</th><td>&vellip;</td><td>&vellip;</td><td>&vellip;</td><td>&vellip;</td><td>&vellip;</td><td>&vellip;</td><td>&vellip;</td></tr></tbody></table>"
      ],
      "text/latex": [
       "\\begin{tabular}{r|cccccccc}\n",
       "\t& Match\\_Id & Match\\_Date & Match\\_YYMMDD & Match\\_Type\\_Id & Match\\_Type & Season\\_Id & Season & \\\\\n",
       "\t\\hline\n",
       "\t& Int64 & String & Int64 & Int64 & String & Int64 & String & \\\\\n",
       "\t\\hline\n",
       "\t1 & 3551019 & 18-Oct-2019 & 20191018 & 7 & Twenty20 & 3550002 & 2019-20 & $\\dots$ \\\\\n",
       "\t2 & 3551019 & 18-Oct-2019 & 20191018 & 7 & Twenty20 & 3550002 & 2019-20 & $\\dots$ \\\\\n",
       "\t3 & 3551019 & 18-Oct-2019 & 20191018 & 7 & Twenty20 & 3550002 & 2019-20 & $\\dots$ \\\\\n",
       "\t4 & 3551019 & 18-Oct-2019 & 20191018 & 7 & Twenty20 & 3550002 & 2019-20 & $\\dots$ \\\\\n",
       "\t5 & 3551019 & 18-Oct-2019 & 20191018 & 7 & Twenty20 & 3550002 & 2019-20 & $\\dots$ \\\\\n",
       "\t6 & 3551019 & 18-Oct-2019 & 20191018 & 7 & Twenty20 & 3550002 & 2019-20 & $\\dots$ \\\\\n",
       "\t7 & 3551019 & 18-Oct-2019 & 20191018 & 7 & Twenty20 & 3550002 & 2019-20 & $\\dots$ \\\\\n",
       "\t8 & 3551019 & 18-Oct-2019 & 20191018 & 7 & Twenty20 & 3550002 & 2019-20 & $\\dots$ \\\\\n",
       "\t9 & 3551019 & 18-Oct-2019 & 20191018 & 7 & Twenty20 & 3550002 & 2019-20 & $\\dots$ \\\\\n",
       "\t10 & 3551019 & 18-Oct-2019 & 20191018 & 7 & Twenty20 & 3550002 & 2019-20 & $\\dots$ \\\\\n",
       "\t11 & 3551019 & 18-Oct-2019 & 20191018 & 7 & Twenty20 & 3550002 & 2019-20 & $\\dots$ \\\\\n",
       "\t12 & 3551019 & 18-Oct-2019 & 20191018 & 7 & Twenty20 & 3550002 & 2019-20 & $\\dots$ \\\\\n",
       "\t13 & 3551019 & 18-Oct-2019 & 20191018 & 7 & Twenty20 & 3550002 & 2019-20 & $\\dots$ \\\\\n",
       "\t14 & 3551019 & 18-Oct-2019 & 20191018 & 7 & Twenty20 & 3550002 & 2019-20 & $\\dots$ \\\\\n",
       "\t15 & 3551019 & 18-Oct-2019 & 20191018 & 7 & Twenty20 & 3550002 & 2019-20 & $\\dots$ \\\\\n",
       "\t16 & 3551019 & 18-Oct-2019 & 20191018 & 7 & Twenty20 & 3550002 & 2019-20 & $\\dots$ \\\\\n",
       "\t17 & 3551019 & 18-Oct-2019 & 20191018 & 7 & Twenty20 & 3550002 & 2019-20 & $\\dots$ \\\\\n",
       "\t18 & 3551019 & 18-Oct-2019 & 20191018 & 7 & Twenty20 & 3550002 & 2019-20 & $\\dots$ \\\\\n",
       "\t19 & 3551019 & 18-Oct-2019 & 20191018 & 7 & Twenty20 & 3550002 & 2019-20 & $\\dots$ \\\\\n",
       "\t20 & 3551019 & 18-Oct-2019 & 20191018 & 7 & Twenty20 & 3550002 & 2019-20 & $\\dots$ \\\\\n",
       "\t21 & 3551019 & 18-Oct-2019 & 20191018 & 7 & Twenty20 & 3550002 & 2019-20 & $\\dots$ \\\\\n",
       "\t22 & 3551019 & 18-Oct-2019 & 20191018 & 7 & Twenty20 & 3550002 & 2019-20 & $\\dots$ \\\\\n",
       "\t23 & 3551019 & 18-Oct-2019 & 20191018 & 7 & Twenty20 & 3550002 & 2019-20 & $\\dots$ \\\\\n",
       "\t24 & 3551019 & 18-Oct-2019 & 20191018 & 7 & Twenty20 & 3550002 & 2019-20 & $\\dots$ \\\\\n",
       "\t25 & 3551019 & 18-Oct-2019 & 20191018 & 7 & Twenty20 & 3550002 & 2019-20 & $\\dots$ \\\\\n",
       "\t26 & 3551019 & 18-Oct-2019 & 20191018 & 7 & Twenty20 & 3550002 & 2019-20 & $\\dots$ \\\\\n",
       "\t27 & 3551019 & 18-Oct-2019 & 20191018 & 7 & Twenty20 & 3550002 & 2019-20 & $\\dots$ \\\\\n",
       "\t28 & 3551019 & 18-Oct-2019 & 20191018 & 7 & Twenty20 & 3550002 & 2019-20 & $\\dots$ \\\\\n",
       "\t29 & 3551019 & 18-Oct-2019 & 20191018 & 7 & Twenty20 & 3550002 & 2019-20 & $\\dots$ \\\\\n",
       "\t30 & 3551019 & 18-Oct-2019 & 20191018 & 7 & Twenty20 & 3550002 & 2019-20 & $\\dots$ \\\\\n",
       "\t$\\dots$ & $\\dots$ & $\\dots$ & $\\dots$ & $\\dots$ & $\\dots$ & $\\dots$ & $\\dots$ &  \\\\\n",
       "\\end{tabular}\n"
      ],
      "text/plain": [
       "13751×377 DataFrame. Omitted printing of 372 columns\n",
       "│ Row   │ Match_Id │ Match_Date  │ Match_YYMMDD │ Match_Type_Id │ Match_Type │\n",
       "│       │ \u001b[90mInt64\u001b[39m    │ \u001b[90mString\u001b[39m      │ \u001b[90mInt64\u001b[39m        │ \u001b[90mInt64\u001b[39m         │ \u001b[90mString\u001b[39m     │\n",
       "├───────┼──────────┼─────────────┼──────────────┼───────────────┼────────────┤\n",
       "│ 1     │ 3551019  │ 18-Oct-2019 │ 20191018     │ 7             │ Twenty20   │\n",
       "│ 2     │ 3551019  │ 18-Oct-2019 │ 20191018     │ 7             │ Twenty20   │\n",
       "│ 3     │ 3551019  │ 18-Oct-2019 │ 20191018     │ 7             │ Twenty20   │\n",
       "│ 4     │ 3551019  │ 18-Oct-2019 │ 20191018     │ 7             │ Twenty20   │\n",
       "│ 5     │ 3551019  │ 18-Oct-2019 │ 20191018     │ 7             │ Twenty20   │\n",
       "│ 6     │ 3551019  │ 18-Oct-2019 │ 20191018     │ 7             │ Twenty20   │\n",
       "│ 7     │ 3551019  │ 18-Oct-2019 │ 20191018     │ 7             │ Twenty20   │\n",
       "│ 8     │ 3551019  │ 18-Oct-2019 │ 20191018     │ 7             │ Twenty20   │\n",
       "│ 9     │ 3551019  │ 18-Oct-2019 │ 20191018     │ 7             │ Twenty20   │\n",
       "│ 10    │ 3551019  │ 18-Oct-2019 │ 20191018     │ 7             │ Twenty20   │\n",
       "⋮\n",
       "│ 13741 │ 4390125  │ 08-Dec-2019 │ 20191208     │ 7             │ Twenty20   │\n",
       "│ 13742 │ 4390125  │ 08-Dec-2019 │ 20191208     │ 7             │ Twenty20   │\n",
       "│ 13743 │ 4390125  │ 08-Dec-2019 │ 20191208     │ 7             │ Twenty20   │\n",
       "│ 13744 │ 4390125  │ 08-Dec-2019 │ 20191208     │ 7             │ Twenty20   │\n",
       "│ 13745 │ 4390125  │ 08-Dec-2019 │ 20191208     │ 7             │ Twenty20   │\n",
       "│ 13746 │ 4390125  │ 08-Dec-2019 │ 20191208     │ 7             │ Twenty20   │\n",
       "│ 13747 │ 4390125  │ 08-Dec-2019 │ 20191208     │ 7             │ Twenty20   │\n",
       "│ 13748 │ 4390125  │ 08-Dec-2019 │ 20191208     │ 7             │ Twenty20   │\n",
       "│ 13749 │ 4390125  │ 08-Dec-2019 │ 20191208     │ 7             │ Twenty20   │\n",
       "│ 13750 │ 4390125  │ 08-Dec-2019 │ 20191208     │ 7             │ Twenty20   │\n",
       "│ 13751 │ 4390125  │ 08-Dec-2019 │ 20191208     │ 7             │ Twenty20   │"
      ]
     },
     "execution_count": 76,
     "metadata": {},
     "output_type": "execute_result"
    }
   ],
   "source": [
    "df = DataFrame!(CSV.File(\"Deliveries.txt\", normalizenames = true))"
   ]
  },
  {
   "cell_type": "code",
   "execution_count": 77,
   "metadata": {
    "scrolled": false
   },
   "outputs": [],
   "source": [
    "for i in 2:5\n",
    "    select!(df, Not(findall(occursin.(\"Fielder\"*string(i), names(df)))))\n",
    "end\n",
    "for name in names(df)\n",
    "    u = unique(df[!,name])\n",
    "    if length(u) == 1\n",
    "        select!(df, Not(name))\n",
    "    end\n",
    "end"
   ]
  },
  {
   "cell_type": "code",
   "execution_count": 78,
   "metadata": {},
   "outputs": [
    {
     "data": {
      "text/html": [
       "<table class=\"data-frame\"><thead><tr><th></th><th>Match_Id</th><th>Match_Date</th><th>Day_Night</th><th>Venue_Id</th><th>Venue</th><th>TeamA_At_Home</th><th>TeamB_At_Home</th></tr><tr><th></th><th>Int64</th><th>String</th><th>String</th><th>Int64</th><th>String</th><th>String</th><th>String</th></tr></thead><tbody><p>13,751 rows × 201 columns (omitted printing of 194 columns)</p><tr><th>1</th><td>3551019</td><td>18-Oct-2019</td><td>N</td><td>6</td><td>North Sydney Oval</td><td>Y</td><td>N</td></tr><tr><th>2</th><td>3551019</td><td>18-Oct-2019</td><td>N</td><td>6</td><td>North Sydney Oval</td><td>Y</td><td>N</td></tr><tr><th>3</th><td>3551019</td><td>18-Oct-2019</td><td>N</td><td>6</td><td>North Sydney Oval</td><td>Y</td><td>N</td></tr><tr><th>4</th><td>3551019</td><td>18-Oct-2019</td><td>N</td><td>6</td><td>North Sydney Oval</td><td>Y</td><td>N</td></tr><tr><th>5</th><td>3551019</td><td>18-Oct-2019</td><td>N</td><td>6</td><td>North Sydney Oval</td><td>Y</td><td>N</td></tr><tr><th>6</th><td>3551019</td><td>18-Oct-2019</td><td>N</td><td>6</td><td>North Sydney Oval</td><td>Y</td><td>N</td></tr><tr><th>7</th><td>3551019</td><td>18-Oct-2019</td><td>N</td><td>6</td><td>North Sydney Oval</td><td>Y</td><td>N</td></tr><tr><th>8</th><td>3551019</td><td>18-Oct-2019</td><td>N</td><td>6</td><td>North Sydney Oval</td><td>Y</td><td>N</td></tr><tr><th>9</th><td>3551019</td><td>18-Oct-2019</td><td>N</td><td>6</td><td>North Sydney Oval</td><td>Y</td><td>N</td></tr><tr><th>10</th><td>3551019</td><td>18-Oct-2019</td><td>N</td><td>6</td><td>North Sydney Oval</td><td>Y</td><td>N</td></tr><tr><th>11</th><td>3551019</td><td>18-Oct-2019</td><td>N</td><td>6</td><td>North Sydney Oval</td><td>Y</td><td>N</td></tr><tr><th>12</th><td>3551019</td><td>18-Oct-2019</td><td>N</td><td>6</td><td>North Sydney Oval</td><td>Y</td><td>N</td></tr><tr><th>13</th><td>3551019</td><td>18-Oct-2019</td><td>N</td><td>6</td><td>North Sydney Oval</td><td>Y</td><td>N</td></tr><tr><th>14</th><td>3551019</td><td>18-Oct-2019</td><td>N</td><td>6</td><td>North Sydney Oval</td><td>Y</td><td>N</td></tr><tr><th>15</th><td>3551019</td><td>18-Oct-2019</td><td>N</td><td>6</td><td>North Sydney Oval</td><td>Y</td><td>N</td></tr><tr><th>16</th><td>3551019</td><td>18-Oct-2019</td><td>N</td><td>6</td><td>North Sydney Oval</td><td>Y</td><td>N</td></tr><tr><th>17</th><td>3551019</td><td>18-Oct-2019</td><td>N</td><td>6</td><td>North Sydney Oval</td><td>Y</td><td>N</td></tr><tr><th>18</th><td>3551019</td><td>18-Oct-2019</td><td>N</td><td>6</td><td>North Sydney Oval</td><td>Y</td><td>N</td></tr><tr><th>19</th><td>3551019</td><td>18-Oct-2019</td><td>N</td><td>6</td><td>North Sydney Oval</td><td>Y</td><td>N</td></tr><tr><th>20</th><td>3551019</td><td>18-Oct-2019</td><td>N</td><td>6</td><td>North Sydney Oval</td><td>Y</td><td>N</td></tr><tr><th>21</th><td>3551019</td><td>18-Oct-2019</td><td>N</td><td>6</td><td>North Sydney Oval</td><td>Y</td><td>N</td></tr><tr><th>22</th><td>3551019</td><td>18-Oct-2019</td><td>N</td><td>6</td><td>North Sydney Oval</td><td>Y</td><td>N</td></tr><tr><th>23</th><td>3551019</td><td>18-Oct-2019</td><td>N</td><td>6</td><td>North Sydney Oval</td><td>Y</td><td>N</td></tr><tr><th>24</th><td>3551019</td><td>18-Oct-2019</td><td>N</td><td>6</td><td>North Sydney Oval</td><td>Y</td><td>N</td></tr><tr><th>25</th><td>3551019</td><td>18-Oct-2019</td><td>N</td><td>6</td><td>North Sydney Oval</td><td>Y</td><td>N</td></tr><tr><th>26</th><td>3551019</td><td>18-Oct-2019</td><td>N</td><td>6</td><td>North Sydney Oval</td><td>Y</td><td>N</td></tr><tr><th>27</th><td>3551019</td><td>18-Oct-2019</td><td>N</td><td>6</td><td>North Sydney Oval</td><td>Y</td><td>N</td></tr><tr><th>28</th><td>3551019</td><td>18-Oct-2019</td><td>N</td><td>6</td><td>North Sydney Oval</td><td>Y</td><td>N</td></tr><tr><th>29</th><td>3551019</td><td>18-Oct-2019</td><td>N</td><td>6</td><td>North Sydney Oval</td><td>Y</td><td>N</td></tr><tr><th>30</th><td>3551019</td><td>18-Oct-2019</td><td>N</td><td>6</td><td>North Sydney Oval</td><td>Y</td><td>N</td></tr><tr><th>&vellip;</th><td>&vellip;</td><td>&vellip;</td><td>&vellip;</td><td>&vellip;</td><td>&vellip;</td><td>&vellip;</td><td>&vellip;</td></tr></tbody></table>"
      ],
      "text/latex": [
       "\\begin{tabular}{r|cccccccc}\n",
       "\t& Match\\_Id & Match\\_Date & Day\\_Night & Venue\\_Id & Venue & TeamA\\_At\\_Home & TeamB\\_At\\_Home & \\\\\n",
       "\t\\hline\n",
       "\t& Int64 & String & String & Int64 & String & String & String & \\\\\n",
       "\t\\hline\n",
       "\t1 & 3551019 & 18-Oct-2019 & N & 6 & North Sydney Oval & Y & N & $\\dots$ \\\\\n",
       "\t2 & 3551019 & 18-Oct-2019 & N & 6 & North Sydney Oval & Y & N & $\\dots$ \\\\\n",
       "\t3 & 3551019 & 18-Oct-2019 & N & 6 & North Sydney Oval & Y & N & $\\dots$ \\\\\n",
       "\t4 & 3551019 & 18-Oct-2019 & N & 6 & North Sydney Oval & Y & N & $\\dots$ \\\\\n",
       "\t5 & 3551019 & 18-Oct-2019 & N & 6 & North Sydney Oval & Y & N & $\\dots$ \\\\\n",
       "\t6 & 3551019 & 18-Oct-2019 & N & 6 & North Sydney Oval & Y & N & $\\dots$ \\\\\n",
       "\t7 & 3551019 & 18-Oct-2019 & N & 6 & North Sydney Oval & Y & N & $\\dots$ \\\\\n",
       "\t8 & 3551019 & 18-Oct-2019 & N & 6 & North Sydney Oval & Y & N & $\\dots$ \\\\\n",
       "\t9 & 3551019 & 18-Oct-2019 & N & 6 & North Sydney Oval & Y & N & $\\dots$ \\\\\n",
       "\t10 & 3551019 & 18-Oct-2019 & N & 6 & North Sydney Oval & Y & N & $\\dots$ \\\\\n",
       "\t11 & 3551019 & 18-Oct-2019 & N & 6 & North Sydney Oval & Y & N & $\\dots$ \\\\\n",
       "\t12 & 3551019 & 18-Oct-2019 & N & 6 & North Sydney Oval & Y & N & $\\dots$ \\\\\n",
       "\t13 & 3551019 & 18-Oct-2019 & N & 6 & North Sydney Oval & Y & N & $\\dots$ \\\\\n",
       "\t14 & 3551019 & 18-Oct-2019 & N & 6 & North Sydney Oval & Y & N & $\\dots$ \\\\\n",
       "\t15 & 3551019 & 18-Oct-2019 & N & 6 & North Sydney Oval & Y & N & $\\dots$ \\\\\n",
       "\t16 & 3551019 & 18-Oct-2019 & N & 6 & North Sydney Oval & Y & N & $\\dots$ \\\\\n",
       "\t17 & 3551019 & 18-Oct-2019 & N & 6 & North Sydney Oval & Y & N & $\\dots$ \\\\\n",
       "\t18 & 3551019 & 18-Oct-2019 & N & 6 & North Sydney Oval & Y & N & $\\dots$ \\\\\n",
       "\t19 & 3551019 & 18-Oct-2019 & N & 6 & North Sydney Oval & Y & N & $\\dots$ \\\\\n",
       "\t20 & 3551019 & 18-Oct-2019 & N & 6 & North Sydney Oval & Y & N & $\\dots$ \\\\\n",
       "\t21 & 3551019 & 18-Oct-2019 & N & 6 & North Sydney Oval & Y & N & $\\dots$ \\\\\n",
       "\t22 & 3551019 & 18-Oct-2019 & N & 6 & North Sydney Oval & Y & N & $\\dots$ \\\\\n",
       "\t23 & 3551019 & 18-Oct-2019 & N & 6 & North Sydney Oval & Y & N & $\\dots$ \\\\\n",
       "\t24 & 3551019 & 18-Oct-2019 & N & 6 & North Sydney Oval & Y & N & $\\dots$ \\\\\n",
       "\t25 & 3551019 & 18-Oct-2019 & N & 6 & North Sydney Oval & Y & N & $\\dots$ \\\\\n",
       "\t26 & 3551019 & 18-Oct-2019 & N & 6 & North Sydney Oval & Y & N & $\\dots$ \\\\\n",
       "\t27 & 3551019 & 18-Oct-2019 & N & 6 & North Sydney Oval & Y & N & $\\dots$ \\\\\n",
       "\t28 & 3551019 & 18-Oct-2019 & N & 6 & North Sydney Oval & Y & N & $\\dots$ \\\\\n",
       "\t29 & 3551019 & 18-Oct-2019 & N & 6 & North Sydney Oval & Y & N & $\\dots$ \\\\\n",
       "\t30 & 3551019 & 18-Oct-2019 & N & 6 & North Sydney Oval & Y & N & $\\dots$ \\\\\n",
       "\t$\\dots$ & $\\dots$ & $\\dots$ & $\\dots$ & $\\dots$ & $\\dots$ & $\\dots$ & $\\dots$ &  \\\\\n",
       "\\end{tabular}\n"
      ],
      "text/plain": [
       "13751×201 DataFrame. Omitted printing of 196 columns\n",
       "│ Row   │ Match_Id │ Match_Date  │ Day_Night │ Venue_Id │ Venue              │\n",
       "│       │ \u001b[90mInt64\u001b[39m    │ \u001b[90mString\u001b[39m      │ \u001b[90mString\u001b[39m    │ \u001b[90mInt64\u001b[39m    │ \u001b[90mString\u001b[39m             │\n",
       "├───────┼──────────┼─────────────┼───────────┼──────────┼────────────────────┤\n",
       "│ 1     │ 3551019  │ 18-Oct-2019 │ N         │ 6        │ North Sydney Oval  │\n",
       "│ 2     │ 3551019  │ 18-Oct-2019 │ N         │ 6        │ North Sydney Oval  │\n",
       "│ 3     │ 3551019  │ 18-Oct-2019 │ N         │ 6        │ North Sydney Oval  │\n",
       "│ 4     │ 3551019  │ 18-Oct-2019 │ N         │ 6        │ North Sydney Oval  │\n",
       "│ 5     │ 3551019  │ 18-Oct-2019 │ N         │ 6        │ North Sydney Oval  │\n",
       "│ 6     │ 3551019  │ 18-Oct-2019 │ N         │ 6        │ North Sydney Oval  │\n",
       "│ 7     │ 3551019  │ 18-Oct-2019 │ N         │ 6        │ North Sydney Oval  │\n",
       "│ 8     │ 3551019  │ 18-Oct-2019 │ N         │ 6        │ North Sydney Oval  │\n",
       "│ 9     │ 3551019  │ 18-Oct-2019 │ N         │ 6        │ North Sydney Oval  │\n",
       "│ 10    │ 3551019  │ 18-Oct-2019 │ N         │ 6        │ North Sydney Oval  │\n",
       "⋮\n",
       "│ 13741 │ 4390125  │ 08-Dec-2019 │ N         │ 1002     │ Allan Border Field │\n",
       "│ 13742 │ 4390125  │ 08-Dec-2019 │ N         │ 1002     │ Allan Border Field │\n",
       "│ 13743 │ 4390125  │ 08-Dec-2019 │ N         │ 1002     │ Allan Border Field │\n",
       "│ 13744 │ 4390125  │ 08-Dec-2019 │ N         │ 1002     │ Allan Border Field │\n",
       "│ 13745 │ 4390125  │ 08-Dec-2019 │ N         │ 1002     │ Allan Border Field │\n",
       "│ 13746 │ 4390125  │ 08-Dec-2019 │ N         │ 1002     │ Allan Border Field │\n",
       "│ 13747 │ 4390125  │ 08-Dec-2019 │ N         │ 1002     │ Allan Border Field │\n",
       "│ 13748 │ 4390125  │ 08-Dec-2019 │ N         │ 1002     │ Allan Border Field │\n",
       "│ 13749 │ 4390125  │ 08-Dec-2019 │ N         │ 1002     │ Allan Border Field │\n",
       "│ 13750 │ 4390125  │ 08-Dec-2019 │ N         │ 1002     │ Allan Border Field │\n",
       "│ 13751 │ 4390125  │ 08-Dec-2019 │ N         │ 1002     │ Allan Border Field │"
      ]
     },
     "execution_count": 78,
     "metadata": {},
     "output_type": "execute_result"
    }
   ],
   "source": [
    "select!(df, Not(\"Match_YYMMDD\"))"
   ]
  },
  {
   "cell_type": "code",
   "execution_count": 88,
   "metadata": {},
   "outputs": [
    {
     "data": {
      "text/html": [
       "<table class=\"data-frame\"><thead><tr><th></th><th>Match_Id</th><th>Match_Date</th><th>Day_Night</th><th>Venue_Id</th><th>Venue</th><th>TeamB_At_Home</th><th>Team_Batting_At_Home</th></tr><tr><th></th><th>Int64</th><th>String</th><th>String</th><th>Int64</th><th>String</th><th>String</th><th>String</th></tr></thead><tbody><p>13,751 rows × 200 columns (omitted printing of 193 columns)</p><tr><th>1</th><td>3551019</td><td>18-Oct-2019</td><td>N</td><td>6</td><td>North Sydney Oval</td><td>N</td><td>Y</td></tr><tr><th>2</th><td>3551019</td><td>18-Oct-2019</td><td>N</td><td>6</td><td>North Sydney Oval</td><td>N</td><td>Y</td></tr><tr><th>3</th><td>3551019</td><td>18-Oct-2019</td><td>N</td><td>6</td><td>North Sydney Oval</td><td>N</td><td>Y</td></tr><tr><th>4</th><td>3551019</td><td>18-Oct-2019</td><td>N</td><td>6</td><td>North Sydney Oval</td><td>N</td><td>Y</td></tr><tr><th>5</th><td>3551019</td><td>18-Oct-2019</td><td>N</td><td>6</td><td>North Sydney Oval</td><td>N</td><td>Y</td></tr><tr><th>6</th><td>3551019</td><td>18-Oct-2019</td><td>N</td><td>6</td><td>North Sydney Oval</td><td>N</td><td>Y</td></tr><tr><th>7</th><td>3551019</td><td>18-Oct-2019</td><td>N</td><td>6</td><td>North Sydney Oval</td><td>N</td><td>Y</td></tr><tr><th>8</th><td>3551019</td><td>18-Oct-2019</td><td>N</td><td>6</td><td>North Sydney Oval</td><td>N</td><td>Y</td></tr><tr><th>9</th><td>3551019</td><td>18-Oct-2019</td><td>N</td><td>6</td><td>North Sydney Oval</td><td>N</td><td>Y</td></tr><tr><th>10</th><td>3551019</td><td>18-Oct-2019</td><td>N</td><td>6</td><td>North Sydney Oval</td><td>N</td><td>Y</td></tr><tr><th>11</th><td>3551019</td><td>18-Oct-2019</td><td>N</td><td>6</td><td>North Sydney Oval</td><td>N</td><td>Y</td></tr><tr><th>12</th><td>3551019</td><td>18-Oct-2019</td><td>N</td><td>6</td><td>North Sydney Oval</td><td>N</td><td>Y</td></tr><tr><th>13</th><td>3551019</td><td>18-Oct-2019</td><td>N</td><td>6</td><td>North Sydney Oval</td><td>N</td><td>Y</td></tr><tr><th>14</th><td>3551019</td><td>18-Oct-2019</td><td>N</td><td>6</td><td>North Sydney Oval</td><td>N</td><td>Y</td></tr><tr><th>15</th><td>3551019</td><td>18-Oct-2019</td><td>N</td><td>6</td><td>North Sydney Oval</td><td>N</td><td>Y</td></tr><tr><th>16</th><td>3551019</td><td>18-Oct-2019</td><td>N</td><td>6</td><td>North Sydney Oval</td><td>N</td><td>Y</td></tr><tr><th>17</th><td>3551019</td><td>18-Oct-2019</td><td>N</td><td>6</td><td>North Sydney Oval</td><td>N</td><td>Y</td></tr><tr><th>18</th><td>3551019</td><td>18-Oct-2019</td><td>N</td><td>6</td><td>North Sydney Oval</td><td>N</td><td>Y</td></tr><tr><th>19</th><td>3551019</td><td>18-Oct-2019</td><td>N</td><td>6</td><td>North Sydney Oval</td><td>N</td><td>Y</td></tr><tr><th>20</th><td>3551019</td><td>18-Oct-2019</td><td>N</td><td>6</td><td>North Sydney Oval</td><td>N</td><td>Y</td></tr><tr><th>21</th><td>3551019</td><td>18-Oct-2019</td><td>N</td><td>6</td><td>North Sydney Oval</td><td>N</td><td>Y</td></tr><tr><th>22</th><td>3551019</td><td>18-Oct-2019</td><td>N</td><td>6</td><td>North Sydney Oval</td><td>N</td><td>Y</td></tr><tr><th>23</th><td>3551019</td><td>18-Oct-2019</td><td>N</td><td>6</td><td>North Sydney Oval</td><td>N</td><td>Y</td></tr><tr><th>24</th><td>3551019</td><td>18-Oct-2019</td><td>N</td><td>6</td><td>North Sydney Oval</td><td>N</td><td>Y</td></tr><tr><th>25</th><td>3551019</td><td>18-Oct-2019</td><td>N</td><td>6</td><td>North Sydney Oval</td><td>N</td><td>Y</td></tr><tr><th>26</th><td>3551019</td><td>18-Oct-2019</td><td>N</td><td>6</td><td>North Sydney Oval</td><td>N</td><td>Y</td></tr><tr><th>27</th><td>3551019</td><td>18-Oct-2019</td><td>N</td><td>6</td><td>North Sydney Oval</td><td>N</td><td>Y</td></tr><tr><th>28</th><td>3551019</td><td>18-Oct-2019</td><td>N</td><td>6</td><td>North Sydney Oval</td><td>N</td><td>Y</td></tr><tr><th>29</th><td>3551019</td><td>18-Oct-2019</td><td>N</td><td>6</td><td>North Sydney Oval</td><td>N</td><td>Y</td></tr><tr><th>30</th><td>3551019</td><td>18-Oct-2019</td><td>N</td><td>6</td><td>North Sydney Oval</td><td>N</td><td>Y</td></tr><tr><th>&vellip;</th><td>&vellip;</td><td>&vellip;</td><td>&vellip;</td><td>&vellip;</td><td>&vellip;</td><td>&vellip;</td><td>&vellip;</td></tr></tbody></table>"
      ],
      "text/latex": [
       "\\begin{tabular}{r|cccccccc}\n",
       "\t& Match\\_Id & Match\\_Date & Day\\_Night & Venue\\_Id & Venue & TeamB\\_At\\_Home & Team\\_Batting\\_At\\_Home & \\\\\n",
       "\t\\hline\n",
       "\t& Int64 & String & String & Int64 & String & String & String & \\\\\n",
       "\t\\hline\n",
       "\t1 & 3551019 & 18-Oct-2019 & N & 6 & North Sydney Oval & N & Y & $\\dots$ \\\\\n",
       "\t2 & 3551019 & 18-Oct-2019 & N & 6 & North Sydney Oval & N & Y & $\\dots$ \\\\\n",
       "\t3 & 3551019 & 18-Oct-2019 & N & 6 & North Sydney Oval & N & Y & $\\dots$ \\\\\n",
       "\t4 & 3551019 & 18-Oct-2019 & N & 6 & North Sydney Oval & N & Y & $\\dots$ \\\\\n",
       "\t5 & 3551019 & 18-Oct-2019 & N & 6 & North Sydney Oval & N & Y & $\\dots$ \\\\\n",
       "\t6 & 3551019 & 18-Oct-2019 & N & 6 & North Sydney Oval & N & Y & $\\dots$ \\\\\n",
       "\t7 & 3551019 & 18-Oct-2019 & N & 6 & North Sydney Oval & N & Y & $\\dots$ \\\\\n",
       "\t8 & 3551019 & 18-Oct-2019 & N & 6 & North Sydney Oval & N & Y & $\\dots$ \\\\\n",
       "\t9 & 3551019 & 18-Oct-2019 & N & 6 & North Sydney Oval & N & Y & $\\dots$ \\\\\n",
       "\t10 & 3551019 & 18-Oct-2019 & N & 6 & North Sydney Oval & N & Y & $\\dots$ \\\\\n",
       "\t11 & 3551019 & 18-Oct-2019 & N & 6 & North Sydney Oval & N & Y & $\\dots$ \\\\\n",
       "\t12 & 3551019 & 18-Oct-2019 & N & 6 & North Sydney Oval & N & Y & $\\dots$ \\\\\n",
       "\t13 & 3551019 & 18-Oct-2019 & N & 6 & North Sydney Oval & N & Y & $\\dots$ \\\\\n",
       "\t14 & 3551019 & 18-Oct-2019 & N & 6 & North Sydney Oval & N & Y & $\\dots$ \\\\\n",
       "\t15 & 3551019 & 18-Oct-2019 & N & 6 & North Sydney Oval & N & Y & $\\dots$ \\\\\n",
       "\t16 & 3551019 & 18-Oct-2019 & N & 6 & North Sydney Oval & N & Y & $\\dots$ \\\\\n",
       "\t17 & 3551019 & 18-Oct-2019 & N & 6 & North Sydney Oval & N & Y & $\\dots$ \\\\\n",
       "\t18 & 3551019 & 18-Oct-2019 & N & 6 & North Sydney Oval & N & Y & $\\dots$ \\\\\n",
       "\t19 & 3551019 & 18-Oct-2019 & N & 6 & North Sydney Oval & N & Y & $\\dots$ \\\\\n",
       "\t20 & 3551019 & 18-Oct-2019 & N & 6 & North Sydney Oval & N & Y & $\\dots$ \\\\\n",
       "\t21 & 3551019 & 18-Oct-2019 & N & 6 & North Sydney Oval & N & Y & $\\dots$ \\\\\n",
       "\t22 & 3551019 & 18-Oct-2019 & N & 6 & North Sydney Oval & N & Y & $\\dots$ \\\\\n",
       "\t23 & 3551019 & 18-Oct-2019 & N & 6 & North Sydney Oval & N & Y & $\\dots$ \\\\\n",
       "\t24 & 3551019 & 18-Oct-2019 & N & 6 & North Sydney Oval & N & Y & $\\dots$ \\\\\n",
       "\t25 & 3551019 & 18-Oct-2019 & N & 6 & North Sydney Oval & N & Y & $\\dots$ \\\\\n",
       "\t26 & 3551019 & 18-Oct-2019 & N & 6 & North Sydney Oval & N & Y & $\\dots$ \\\\\n",
       "\t27 & 3551019 & 18-Oct-2019 & N & 6 & North Sydney Oval & N & Y & $\\dots$ \\\\\n",
       "\t28 & 3551019 & 18-Oct-2019 & N & 6 & North Sydney Oval & N & Y & $\\dots$ \\\\\n",
       "\t29 & 3551019 & 18-Oct-2019 & N & 6 & North Sydney Oval & N & Y & $\\dots$ \\\\\n",
       "\t30 & 3551019 & 18-Oct-2019 & N & 6 & North Sydney Oval & N & Y & $\\dots$ \\\\\n",
       "\t$\\dots$ & $\\dots$ & $\\dots$ & $\\dots$ & $\\dots$ & $\\dots$ & $\\dots$ & $\\dots$ &  \\\\\n",
       "\\end{tabular}\n"
      ],
      "text/plain": [
       "13751×200 DataFrame. Omitted printing of 195 columns\n",
       "│ Row   │ Match_Id │ Match_Date  │ Day_Night │ Venue_Id │ Venue              │\n",
       "│       │ \u001b[90mInt64\u001b[39m    │ \u001b[90mString\u001b[39m      │ \u001b[90mString\u001b[39m    │ \u001b[90mInt64\u001b[39m    │ \u001b[90mString\u001b[39m             │\n",
       "├───────┼──────────┼─────────────┼───────────┼──────────┼────────────────────┤\n",
       "│ 1     │ 3551019  │ 18-Oct-2019 │ N         │ 6        │ North Sydney Oval  │\n",
       "│ 2     │ 3551019  │ 18-Oct-2019 │ N         │ 6        │ North Sydney Oval  │\n",
       "│ 3     │ 3551019  │ 18-Oct-2019 │ N         │ 6        │ North Sydney Oval  │\n",
       "│ 4     │ 3551019  │ 18-Oct-2019 │ N         │ 6        │ North Sydney Oval  │\n",
       "│ 5     │ 3551019  │ 18-Oct-2019 │ N         │ 6        │ North Sydney Oval  │\n",
       "│ 6     │ 3551019  │ 18-Oct-2019 │ N         │ 6        │ North Sydney Oval  │\n",
       "│ 7     │ 3551019  │ 18-Oct-2019 │ N         │ 6        │ North Sydney Oval  │\n",
       "│ 8     │ 3551019  │ 18-Oct-2019 │ N         │ 6        │ North Sydney Oval  │\n",
       "│ 9     │ 3551019  │ 18-Oct-2019 │ N         │ 6        │ North Sydney Oval  │\n",
       "│ 10    │ 3551019  │ 18-Oct-2019 │ N         │ 6        │ North Sydney Oval  │\n",
       "⋮\n",
       "│ 13741 │ 4390125  │ 08-Dec-2019 │ N         │ 1002     │ Allan Border Field │\n",
       "│ 13742 │ 4390125  │ 08-Dec-2019 │ N         │ 1002     │ Allan Border Field │\n",
       "│ 13743 │ 4390125  │ 08-Dec-2019 │ N         │ 1002     │ Allan Border Field │\n",
       "│ 13744 │ 4390125  │ 08-Dec-2019 │ N         │ 1002     │ Allan Border Field │\n",
       "│ 13745 │ 4390125  │ 08-Dec-2019 │ N         │ 1002     │ Allan Border Field │\n",
       "│ 13746 │ 4390125  │ 08-Dec-2019 │ N         │ 1002     │ Allan Border Field │\n",
       "│ 13747 │ 4390125  │ 08-Dec-2019 │ N         │ 1002     │ Allan Border Field │\n",
       "│ 13748 │ 4390125  │ 08-Dec-2019 │ N         │ 1002     │ Allan Border Field │\n",
       "│ 13749 │ 4390125  │ 08-Dec-2019 │ N         │ 1002     │ Allan Border Field │\n",
       "│ 13750 │ 4390125  │ 08-Dec-2019 │ N         │ 1002     │ Allan Border Field │\n",
       "│ 13751 │ 4390125  │ 08-Dec-2019 │ N         │ 1002     │ Allan Border Field │"
      ]
     },
     "execution_count": 88,
     "metadata": {},
     "output_type": "execute_result"
    }
   ],
   "source": [
    "select!(df, Not(\"TeamA_At_Home\"))"
   ]
  },
  {
   "cell_type": "code",
   "execution_count": 90,
   "metadata": {},
   "outputs": [
    {
     "data": {
      "text/html": [
       "<table class=\"data-frame\"><thead><tr><th></th><th>Match_Id</th><th>Match_Date</th><th>Day_Night</th><th>Venue_Id</th><th>Venue</th><th>TeamB_At_Home</th><th>Team_Batting_At_Home</th></tr><tr><th></th><th>Int64</th><th>String</th><th>String</th><th>Int64</th><th>String</th><th>String</th><th>String</th></tr></thead><tbody><p>13,751 rows × 199 columns (omitted printing of 192 columns)</p><tr><th>1</th><td>3551019</td><td>18-Oct-2019</td><td>N</td><td>6</td><td>North Sydney Oval</td><td>N</td><td>Y</td></tr><tr><th>2</th><td>3551019</td><td>18-Oct-2019</td><td>N</td><td>6</td><td>North Sydney Oval</td><td>N</td><td>Y</td></tr><tr><th>3</th><td>3551019</td><td>18-Oct-2019</td><td>N</td><td>6</td><td>North Sydney Oval</td><td>N</td><td>Y</td></tr><tr><th>4</th><td>3551019</td><td>18-Oct-2019</td><td>N</td><td>6</td><td>North Sydney Oval</td><td>N</td><td>Y</td></tr><tr><th>5</th><td>3551019</td><td>18-Oct-2019</td><td>N</td><td>6</td><td>North Sydney Oval</td><td>N</td><td>Y</td></tr><tr><th>6</th><td>3551019</td><td>18-Oct-2019</td><td>N</td><td>6</td><td>North Sydney Oval</td><td>N</td><td>Y</td></tr><tr><th>7</th><td>3551019</td><td>18-Oct-2019</td><td>N</td><td>6</td><td>North Sydney Oval</td><td>N</td><td>Y</td></tr><tr><th>8</th><td>3551019</td><td>18-Oct-2019</td><td>N</td><td>6</td><td>North Sydney Oval</td><td>N</td><td>Y</td></tr><tr><th>9</th><td>3551019</td><td>18-Oct-2019</td><td>N</td><td>6</td><td>North Sydney Oval</td><td>N</td><td>Y</td></tr><tr><th>10</th><td>3551019</td><td>18-Oct-2019</td><td>N</td><td>6</td><td>North Sydney Oval</td><td>N</td><td>Y</td></tr><tr><th>11</th><td>3551019</td><td>18-Oct-2019</td><td>N</td><td>6</td><td>North Sydney Oval</td><td>N</td><td>Y</td></tr><tr><th>12</th><td>3551019</td><td>18-Oct-2019</td><td>N</td><td>6</td><td>North Sydney Oval</td><td>N</td><td>Y</td></tr><tr><th>13</th><td>3551019</td><td>18-Oct-2019</td><td>N</td><td>6</td><td>North Sydney Oval</td><td>N</td><td>Y</td></tr><tr><th>14</th><td>3551019</td><td>18-Oct-2019</td><td>N</td><td>6</td><td>North Sydney Oval</td><td>N</td><td>Y</td></tr><tr><th>15</th><td>3551019</td><td>18-Oct-2019</td><td>N</td><td>6</td><td>North Sydney Oval</td><td>N</td><td>Y</td></tr><tr><th>16</th><td>3551019</td><td>18-Oct-2019</td><td>N</td><td>6</td><td>North Sydney Oval</td><td>N</td><td>Y</td></tr><tr><th>17</th><td>3551019</td><td>18-Oct-2019</td><td>N</td><td>6</td><td>North Sydney Oval</td><td>N</td><td>Y</td></tr><tr><th>18</th><td>3551019</td><td>18-Oct-2019</td><td>N</td><td>6</td><td>North Sydney Oval</td><td>N</td><td>Y</td></tr><tr><th>19</th><td>3551019</td><td>18-Oct-2019</td><td>N</td><td>6</td><td>North Sydney Oval</td><td>N</td><td>Y</td></tr><tr><th>20</th><td>3551019</td><td>18-Oct-2019</td><td>N</td><td>6</td><td>North Sydney Oval</td><td>N</td><td>Y</td></tr><tr><th>21</th><td>3551019</td><td>18-Oct-2019</td><td>N</td><td>6</td><td>North Sydney Oval</td><td>N</td><td>Y</td></tr><tr><th>22</th><td>3551019</td><td>18-Oct-2019</td><td>N</td><td>6</td><td>North Sydney Oval</td><td>N</td><td>Y</td></tr><tr><th>23</th><td>3551019</td><td>18-Oct-2019</td><td>N</td><td>6</td><td>North Sydney Oval</td><td>N</td><td>Y</td></tr><tr><th>24</th><td>3551019</td><td>18-Oct-2019</td><td>N</td><td>6</td><td>North Sydney Oval</td><td>N</td><td>Y</td></tr><tr><th>25</th><td>3551019</td><td>18-Oct-2019</td><td>N</td><td>6</td><td>North Sydney Oval</td><td>N</td><td>Y</td></tr><tr><th>26</th><td>3551019</td><td>18-Oct-2019</td><td>N</td><td>6</td><td>North Sydney Oval</td><td>N</td><td>Y</td></tr><tr><th>27</th><td>3551019</td><td>18-Oct-2019</td><td>N</td><td>6</td><td>North Sydney Oval</td><td>N</td><td>Y</td></tr><tr><th>28</th><td>3551019</td><td>18-Oct-2019</td><td>N</td><td>6</td><td>North Sydney Oval</td><td>N</td><td>Y</td></tr><tr><th>29</th><td>3551019</td><td>18-Oct-2019</td><td>N</td><td>6</td><td>North Sydney Oval</td><td>N</td><td>Y</td></tr><tr><th>30</th><td>3551019</td><td>18-Oct-2019</td><td>N</td><td>6</td><td>North Sydney Oval</td><td>N</td><td>Y</td></tr><tr><th>&vellip;</th><td>&vellip;</td><td>&vellip;</td><td>&vellip;</td><td>&vellip;</td><td>&vellip;</td><td>&vellip;</td><td>&vellip;</td></tr></tbody></table>"
      ],
      "text/latex": [
       "\\begin{tabular}{r|cccccccc}\n",
       "\t& Match\\_Id & Match\\_Date & Day\\_Night & Venue\\_Id & Venue & TeamB\\_At\\_Home & Team\\_Batting\\_At\\_Home & \\\\\n",
       "\t\\hline\n",
       "\t& Int64 & String & String & Int64 & String & String & String & \\\\\n",
       "\t\\hline\n",
       "\t1 & 3551019 & 18-Oct-2019 & N & 6 & North Sydney Oval & N & Y & $\\dots$ \\\\\n",
       "\t2 & 3551019 & 18-Oct-2019 & N & 6 & North Sydney Oval & N & Y & $\\dots$ \\\\\n",
       "\t3 & 3551019 & 18-Oct-2019 & N & 6 & North Sydney Oval & N & Y & $\\dots$ \\\\\n",
       "\t4 & 3551019 & 18-Oct-2019 & N & 6 & North Sydney Oval & N & Y & $\\dots$ \\\\\n",
       "\t5 & 3551019 & 18-Oct-2019 & N & 6 & North Sydney Oval & N & Y & $\\dots$ \\\\\n",
       "\t6 & 3551019 & 18-Oct-2019 & N & 6 & North Sydney Oval & N & Y & $\\dots$ \\\\\n",
       "\t7 & 3551019 & 18-Oct-2019 & N & 6 & North Sydney Oval & N & Y & $\\dots$ \\\\\n",
       "\t8 & 3551019 & 18-Oct-2019 & N & 6 & North Sydney Oval & N & Y & $\\dots$ \\\\\n",
       "\t9 & 3551019 & 18-Oct-2019 & N & 6 & North Sydney Oval & N & Y & $\\dots$ \\\\\n",
       "\t10 & 3551019 & 18-Oct-2019 & N & 6 & North Sydney Oval & N & Y & $\\dots$ \\\\\n",
       "\t11 & 3551019 & 18-Oct-2019 & N & 6 & North Sydney Oval & N & Y & $\\dots$ \\\\\n",
       "\t12 & 3551019 & 18-Oct-2019 & N & 6 & North Sydney Oval & N & Y & $\\dots$ \\\\\n",
       "\t13 & 3551019 & 18-Oct-2019 & N & 6 & North Sydney Oval & N & Y & $\\dots$ \\\\\n",
       "\t14 & 3551019 & 18-Oct-2019 & N & 6 & North Sydney Oval & N & Y & $\\dots$ \\\\\n",
       "\t15 & 3551019 & 18-Oct-2019 & N & 6 & North Sydney Oval & N & Y & $\\dots$ \\\\\n",
       "\t16 & 3551019 & 18-Oct-2019 & N & 6 & North Sydney Oval & N & Y & $\\dots$ \\\\\n",
       "\t17 & 3551019 & 18-Oct-2019 & N & 6 & North Sydney Oval & N & Y & $\\dots$ \\\\\n",
       "\t18 & 3551019 & 18-Oct-2019 & N & 6 & North Sydney Oval & N & Y & $\\dots$ \\\\\n",
       "\t19 & 3551019 & 18-Oct-2019 & N & 6 & North Sydney Oval & N & Y & $\\dots$ \\\\\n",
       "\t20 & 3551019 & 18-Oct-2019 & N & 6 & North Sydney Oval & N & Y & $\\dots$ \\\\\n",
       "\t21 & 3551019 & 18-Oct-2019 & N & 6 & North Sydney Oval & N & Y & $\\dots$ \\\\\n",
       "\t22 & 3551019 & 18-Oct-2019 & N & 6 & North Sydney Oval & N & Y & $\\dots$ \\\\\n",
       "\t23 & 3551019 & 18-Oct-2019 & N & 6 & North Sydney Oval & N & Y & $\\dots$ \\\\\n",
       "\t24 & 3551019 & 18-Oct-2019 & N & 6 & North Sydney Oval & N & Y & $\\dots$ \\\\\n",
       "\t25 & 3551019 & 18-Oct-2019 & N & 6 & North Sydney Oval & N & Y & $\\dots$ \\\\\n",
       "\t26 & 3551019 & 18-Oct-2019 & N & 6 & North Sydney Oval & N & Y & $\\dots$ \\\\\n",
       "\t27 & 3551019 & 18-Oct-2019 & N & 6 & North Sydney Oval & N & Y & $\\dots$ \\\\\n",
       "\t28 & 3551019 & 18-Oct-2019 & N & 6 & North Sydney Oval & N & Y & $\\dots$ \\\\\n",
       "\t29 & 3551019 & 18-Oct-2019 & N & 6 & North Sydney Oval & N & Y & $\\dots$ \\\\\n",
       "\t30 & 3551019 & 18-Oct-2019 & N & 6 & North Sydney Oval & N & Y & $\\dots$ \\\\\n",
       "\t$\\dots$ & $\\dots$ & $\\dots$ & $\\dots$ & $\\dots$ & $\\dots$ & $\\dots$ & $\\dots$ &  \\\\\n",
       "\\end{tabular}\n"
      ],
      "text/plain": [
       "13751×199 DataFrame. Omitted printing of 194 columns\n",
       "│ Row   │ Match_Id │ Match_Date  │ Day_Night │ Venue_Id │ Venue              │\n",
       "│       │ \u001b[90mInt64\u001b[39m    │ \u001b[90mString\u001b[39m      │ \u001b[90mString\u001b[39m    │ \u001b[90mInt64\u001b[39m    │ \u001b[90mString\u001b[39m             │\n",
       "├───────┼──────────┼─────────────┼───────────┼──────────┼────────────────────┤\n",
       "│ 1     │ 3551019  │ 18-Oct-2019 │ N         │ 6        │ North Sydney Oval  │\n",
       "│ 2     │ 3551019  │ 18-Oct-2019 │ N         │ 6        │ North Sydney Oval  │\n",
       "│ 3     │ 3551019  │ 18-Oct-2019 │ N         │ 6        │ North Sydney Oval  │\n",
       "│ 4     │ 3551019  │ 18-Oct-2019 │ N         │ 6        │ North Sydney Oval  │\n",
       "│ 5     │ 3551019  │ 18-Oct-2019 │ N         │ 6        │ North Sydney Oval  │\n",
       "│ 6     │ 3551019  │ 18-Oct-2019 │ N         │ 6        │ North Sydney Oval  │\n",
       "│ 7     │ 3551019  │ 18-Oct-2019 │ N         │ 6        │ North Sydney Oval  │\n",
       "│ 8     │ 3551019  │ 18-Oct-2019 │ N         │ 6        │ North Sydney Oval  │\n",
       "│ 9     │ 3551019  │ 18-Oct-2019 │ N         │ 6        │ North Sydney Oval  │\n",
       "│ 10    │ 3551019  │ 18-Oct-2019 │ N         │ 6        │ North Sydney Oval  │\n",
       "⋮\n",
       "│ 13741 │ 4390125  │ 08-Dec-2019 │ N         │ 1002     │ Allan Border Field │\n",
       "│ 13742 │ 4390125  │ 08-Dec-2019 │ N         │ 1002     │ Allan Border Field │\n",
       "│ 13743 │ 4390125  │ 08-Dec-2019 │ N         │ 1002     │ Allan Border Field │\n",
       "│ 13744 │ 4390125  │ 08-Dec-2019 │ N         │ 1002     │ Allan Border Field │\n",
       "│ 13745 │ 4390125  │ 08-Dec-2019 │ N         │ 1002     │ Allan Border Field │\n",
       "│ 13746 │ 4390125  │ 08-Dec-2019 │ N         │ 1002     │ Allan Border Field │\n",
       "│ 13747 │ 4390125  │ 08-Dec-2019 │ N         │ 1002     │ Allan Border Field │\n",
       "│ 13748 │ 4390125  │ 08-Dec-2019 │ N         │ 1002     │ Allan Border Field │\n",
       "│ 13749 │ 4390125  │ 08-Dec-2019 │ N         │ 1002     │ Allan Border Field │\n",
       "│ 13750 │ 4390125  │ 08-Dec-2019 │ N         │ 1002     │ Allan Border Field │\n",
       "│ 13751 │ 4390125  │ 08-Dec-2019 │ N         │ 1002     │ Allan Border Field │"
      ]
     },
     "execution_count": 90,
     "metadata": {},
     "output_type": "execute_result"
    }
   ],
   "source": [
    "select!(df, Not(\"Toss_Won_By_Id\"))"
   ]
  },
  {
   "cell_type": "code",
   "execution_count": 95,
   "metadata": {},
   "outputs": [
    {
     "data": {
      "text/html": [
       "<table class=\"data-frame\"><thead><tr><th></th><th>Match_Id</th><th>Match_Date</th><th>Day_Night</th><th>Venue_Id</th><th>Venue</th><th>TeamB_At_Home</th><th>Team_Batting_At_Home</th></tr><tr><th></th><th>Int64</th><th>String</th><th>String</th><th>Int64</th><th>String</th><th>String</th><th>String</th></tr></thead><tbody><p>13,751 rows × 198 columns (omitted printing of 191 columns)</p><tr><th>1</th><td>3551019</td><td>18-Oct-2019</td><td>N</td><td>6</td><td>North Sydney Oval</td><td>N</td><td>Y</td></tr><tr><th>2</th><td>3551019</td><td>18-Oct-2019</td><td>N</td><td>6</td><td>North Sydney Oval</td><td>N</td><td>Y</td></tr><tr><th>3</th><td>3551019</td><td>18-Oct-2019</td><td>N</td><td>6</td><td>North Sydney Oval</td><td>N</td><td>Y</td></tr><tr><th>4</th><td>3551019</td><td>18-Oct-2019</td><td>N</td><td>6</td><td>North Sydney Oval</td><td>N</td><td>Y</td></tr><tr><th>5</th><td>3551019</td><td>18-Oct-2019</td><td>N</td><td>6</td><td>North Sydney Oval</td><td>N</td><td>Y</td></tr><tr><th>6</th><td>3551019</td><td>18-Oct-2019</td><td>N</td><td>6</td><td>North Sydney Oval</td><td>N</td><td>Y</td></tr><tr><th>7</th><td>3551019</td><td>18-Oct-2019</td><td>N</td><td>6</td><td>North Sydney Oval</td><td>N</td><td>Y</td></tr><tr><th>8</th><td>3551019</td><td>18-Oct-2019</td><td>N</td><td>6</td><td>North Sydney Oval</td><td>N</td><td>Y</td></tr><tr><th>9</th><td>3551019</td><td>18-Oct-2019</td><td>N</td><td>6</td><td>North Sydney Oval</td><td>N</td><td>Y</td></tr><tr><th>10</th><td>3551019</td><td>18-Oct-2019</td><td>N</td><td>6</td><td>North Sydney Oval</td><td>N</td><td>Y</td></tr><tr><th>11</th><td>3551019</td><td>18-Oct-2019</td><td>N</td><td>6</td><td>North Sydney Oval</td><td>N</td><td>Y</td></tr><tr><th>12</th><td>3551019</td><td>18-Oct-2019</td><td>N</td><td>6</td><td>North Sydney Oval</td><td>N</td><td>Y</td></tr><tr><th>13</th><td>3551019</td><td>18-Oct-2019</td><td>N</td><td>6</td><td>North Sydney Oval</td><td>N</td><td>Y</td></tr><tr><th>14</th><td>3551019</td><td>18-Oct-2019</td><td>N</td><td>6</td><td>North Sydney Oval</td><td>N</td><td>Y</td></tr><tr><th>15</th><td>3551019</td><td>18-Oct-2019</td><td>N</td><td>6</td><td>North Sydney Oval</td><td>N</td><td>Y</td></tr><tr><th>16</th><td>3551019</td><td>18-Oct-2019</td><td>N</td><td>6</td><td>North Sydney Oval</td><td>N</td><td>Y</td></tr><tr><th>17</th><td>3551019</td><td>18-Oct-2019</td><td>N</td><td>6</td><td>North Sydney Oval</td><td>N</td><td>Y</td></tr><tr><th>18</th><td>3551019</td><td>18-Oct-2019</td><td>N</td><td>6</td><td>North Sydney Oval</td><td>N</td><td>Y</td></tr><tr><th>19</th><td>3551019</td><td>18-Oct-2019</td><td>N</td><td>6</td><td>North Sydney Oval</td><td>N</td><td>Y</td></tr><tr><th>20</th><td>3551019</td><td>18-Oct-2019</td><td>N</td><td>6</td><td>North Sydney Oval</td><td>N</td><td>Y</td></tr><tr><th>21</th><td>3551019</td><td>18-Oct-2019</td><td>N</td><td>6</td><td>North Sydney Oval</td><td>N</td><td>Y</td></tr><tr><th>22</th><td>3551019</td><td>18-Oct-2019</td><td>N</td><td>6</td><td>North Sydney Oval</td><td>N</td><td>Y</td></tr><tr><th>23</th><td>3551019</td><td>18-Oct-2019</td><td>N</td><td>6</td><td>North Sydney Oval</td><td>N</td><td>Y</td></tr><tr><th>24</th><td>3551019</td><td>18-Oct-2019</td><td>N</td><td>6</td><td>North Sydney Oval</td><td>N</td><td>Y</td></tr><tr><th>25</th><td>3551019</td><td>18-Oct-2019</td><td>N</td><td>6</td><td>North Sydney Oval</td><td>N</td><td>Y</td></tr><tr><th>26</th><td>3551019</td><td>18-Oct-2019</td><td>N</td><td>6</td><td>North Sydney Oval</td><td>N</td><td>Y</td></tr><tr><th>27</th><td>3551019</td><td>18-Oct-2019</td><td>N</td><td>6</td><td>North Sydney Oval</td><td>N</td><td>Y</td></tr><tr><th>28</th><td>3551019</td><td>18-Oct-2019</td><td>N</td><td>6</td><td>North Sydney Oval</td><td>N</td><td>Y</td></tr><tr><th>29</th><td>3551019</td><td>18-Oct-2019</td><td>N</td><td>6</td><td>North Sydney Oval</td><td>N</td><td>Y</td></tr><tr><th>30</th><td>3551019</td><td>18-Oct-2019</td><td>N</td><td>6</td><td>North Sydney Oval</td><td>N</td><td>Y</td></tr><tr><th>&vellip;</th><td>&vellip;</td><td>&vellip;</td><td>&vellip;</td><td>&vellip;</td><td>&vellip;</td><td>&vellip;</td><td>&vellip;</td></tr></tbody></table>"
      ],
      "text/latex": [
       "\\begin{tabular}{r|cccccccc}\n",
       "\t& Match\\_Id & Match\\_Date & Day\\_Night & Venue\\_Id & Venue & TeamB\\_At\\_Home & Team\\_Batting\\_At\\_Home & \\\\\n",
       "\t\\hline\n",
       "\t& Int64 & String & String & Int64 & String & String & String & \\\\\n",
       "\t\\hline\n",
       "\t1 & 3551019 & 18-Oct-2019 & N & 6 & North Sydney Oval & N & Y & $\\dots$ \\\\\n",
       "\t2 & 3551019 & 18-Oct-2019 & N & 6 & North Sydney Oval & N & Y & $\\dots$ \\\\\n",
       "\t3 & 3551019 & 18-Oct-2019 & N & 6 & North Sydney Oval & N & Y & $\\dots$ \\\\\n",
       "\t4 & 3551019 & 18-Oct-2019 & N & 6 & North Sydney Oval & N & Y & $\\dots$ \\\\\n",
       "\t5 & 3551019 & 18-Oct-2019 & N & 6 & North Sydney Oval & N & Y & $\\dots$ \\\\\n",
       "\t6 & 3551019 & 18-Oct-2019 & N & 6 & North Sydney Oval & N & Y & $\\dots$ \\\\\n",
       "\t7 & 3551019 & 18-Oct-2019 & N & 6 & North Sydney Oval & N & Y & $\\dots$ \\\\\n",
       "\t8 & 3551019 & 18-Oct-2019 & N & 6 & North Sydney Oval & N & Y & $\\dots$ \\\\\n",
       "\t9 & 3551019 & 18-Oct-2019 & N & 6 & North Sydney Oval & N & Y & $\\dots$ \\\\\n",
       "\t10 & 3551019 & 18-Oct-2019 & N & 6 & North Sydney Oval & N & Y & $\\dots$ \\\\\n",
       "\t11 & 3551019 & 18-Oct-2019 & N & 6 & North Sydney Oval & N & Y & $\\dots$ \\\\\n",
       "\t12 & 3551019 & 18-Oct-2019 & N & 6 & North Sydney Oval & N & Y & $\\dots$ \\\\\n",
       "\t13 & 3551019 & 18-Oct-2019 & N & 6 & North Sydney Oval & N & Y & $\\dots$ \\\\\n",
       "\t14 & 3551019 & 18-Oct-2019 & N & 6 & North Sydney Oval & N & Y & $\\dots$ \\\\\n",
       "\t15 & 3551019 & 18-Oct-2019 & N & 6 & North Sydney Oval & N & Y & $\\dots$ \\\\\n",
       "\t16 & 3551019 & 18-Oct-2019 & N & 6 & North Sydney Oval & N & Y & $\\dots$ \\\\\n",
       "\t17 & 3551019 & 18-Oct-2019 & N & 6 & North Sydney Oval & N & Y & $\\dots$ \\\\\n",
       "\t18 & 3551019 & 18-Oct-2019 & N & 6 & North Sydney Oval & N & Y & $\\dots$ \\\\\n",
       "\t19 & 3551019 & 18-Oct-2019 & N & 6 & North Sydney Oval & N & Y & $\\dots$ \\\\\n",
       "\t20 & 3551019 & 18-Oct-2019 & N & 6 & North Sydney Oval & N & Y & $\\dots$ \\\\\n",
       "\t21 & 3551019 & 18-Oct-2019 & N & 6 & North Sydney Oval & N & Y & $\\dots$ \\\\\n",
       "\t22 & 3551019 & 18-Oct-2019 & N & 6 & North Sydney Oval & N & Y & $\\dots$ \\\\\n",
       "\t23 & 3551019 & 18-Oct-2019 & N & 6 & North Sydney Oval & N & Y & $\\dots$ \\\\\n",
       "\t24 & 3551019 & 18-Oct-2019 & N & 6 & North Sydney Oval & N & Y & $\\dots$ \\\\\n",
       "\t25 & 3551019 & 18-Oct-2019 & N & 6 & North Sydney Oval & N & Y & $\\dots$ \\\\\n",
       "\t26 & 3551019 & 18-Oct-2019 & N & 6 & North Sydney Oval & N & Y & $\\dots$ \\\\\n",
       "\t27 & 3551019 & 18-Oct-2019 & N & 6 & North Sydney Oval & N & Y & $\\dots$ \\\\\n",
       "\t28 & 3551019 & 18-Oct-2019 & N & 6 & North Sydney Oval & N & Y & $\\dots$ \\\\\n",
       "\t29 & 3551019 & 18-Oct-2019 & N & 6 & North Sydney Oval & N & Y & $\\dots$ \\\\\n",
       "\t30 & 3551019 & 18-Oct-2019 & N & 6 & North Sydney Oval & N & Y & $\\dots$ \\\\\n",
       "\t$\\dots$ & $\\dots$ & $\\dots$ & $\\dots$ & $\\dots$ & $\\dots$ & $\\dots$ & $\\dots$ &  \\\\\n",
       "\\end{tabular}\n"
      ],
      "text/plain": [
       "13751×198 DataFrame. Omitted printing of 193 columns\n",
       "│ Row   │ Match_Id │ Match_Date  │ Day_Night │ Venue_Id │ Venue              │\n",
       "│       │ \u001b[90mInt64\u001b[39m    │ \u001b[90mString\u001b[39m      │ \u001b[90mString\u001b[39m    │ \u001b[90mInt64\u001b[39m    │ \u001b[90mString\u001b[39m             │\n",
       "├───────┼──────────┼─────────────┼───────────┼──────────┼────────────────────┤\n",
       "│ 1     │ 3551019  │ 18-Oct-2019 │ N         │ 6        │ North Sydney Oval  │\n",
       "│ 2     │ 3551019  │ 18-Oct-2019 │ N         │ 6        │ North Sydney Oval  │\n",
       "│ 3     │ 3551019  │ 18-Oct-2019 │ N         │ 6        │ North Sydney Oval  │\n",
       "│ 4     │ 3551019  │ 18-Oct-2019 │ N         │ 6        │ North Sydney Oval  │\n",
       "│ 5     │ 3551019  │ 18-Oct-2019 │ N         │ 6        │ North Sydney Oval  │\n",
       "│ 6     │ 3551019  │ 18-Oct-2019 │ N         │ 6        │ North Sydney Oval  │\n",
       "│ 7     │ 3551019  │ 18-Oct-2019 │ N         │ 6        │ North Sydney Oval  │\n",
       "│ 8     │ 3551019  │ 18-Oct-2019 │ N         │ 6        │ North Sydney Oval  │\n",
       "│ 9     │ 3551019  │ 18-Oct-2019 │ N         │ 6        │ North Sydney Oval  │\n",
       "│ 10    │ 3551019  │ 18-Oct-2019 │ N         │ 6        │ North Sydney Oval  │\n",
       "⋮\n",
       "│ 13741 │ 4390125  │ 08-Dec-2019 │ N         │ 1002     │ Allan Border Field │\n",
       "│ 13742 │ 4390125  │ 08-Dec-2019 │ N         │ 1002     │ Allan Border Field │\n",
       "│ 13743 │ 4390125  │ 08-Dec-2019 │ N         │ 1002     │ Allan Border Field │\n",
       "│ 13744 │ 4390125  │ 08-Dec-2019 │ N         │ 1002     │ Allan Border Field │\n",
       "│ 13745 │ 4390125  │ 08-Dec-2019 │ N         │ 1002     │ Allan Border Field │\n",
       "│ 13746 │ 4390125  │ 08-Dec-2019 │ N         │ 1002     │ Allan Border Field │\n",
       "│ 13747 │ 4390125  │ 08-Dec-2019 │ N         │ 1002     │ Allan Border Field │\n",
       "│ 13748 │ 4390125  │ 08-Dec-2019 │ N         │ 1002     │ Allan Border Field │\n",
       "│ 13749 │ 4390125  │ 08-Dec-2019 │ N         │ 1002     │ Allan Border Field │\n",
       "│ 13750 │ 4390125  │ 08-Dec-2019 │ N         │ 1002     │ Allan Border Field │\n",
       "│ 13751 │ 4390125  │ 08-Dec-2019 │ N         │ 1002     │ Allan Border Field │"
      ]
     },
     "execution_count": 95,
     "metadata": {},
     "output_type": "execute_result"
    }
   ],
   "source": [
    "select!(df, Not(\"TeamA_ResultId\"))"
   ]
  },
  {
   "cell_type": "code",
   "execution_count": 97,
   "metadata": {},
   "outputs": [
    {
     "data": {
      "text/html": [
       "<table class=\"data-frame\"><thead><tr><th></th><th>Match_Id</th><th>Match_Date</th><th>Day_Night</th><th>Venue_Id</th><th>Venue</th><th>TeamB_At_Home</th><th>Team_Batting_At_Home</th></tr><tr><th></th><th>Int64</th><th>String</th><th>String</th><th>Int64</th><th>String</th><th>String</th><th>String</th></tr></thead><tbody><p>13,751 rows × 197 columns (omitted printing of 190 columns)</p><tr><th>1</th><td>3551019</td><td>18-Oct-2019</td><td>N</td><td>6</td><td>North Sydney Oval</td><td>N</td><td>Y</td></tr><tr><th>2</th><td>3551019</td><td>18-Oct-2019</td><td>N</td><td>6</td><td>North Sydney Oval</td><td>N</td><td>Y</td></tr><tr><th>3</th><td>3551019</td><td>18-Oct-2019</td><td>N</td><td>6</td><td>North Sydney Oval</td><td>N</td><td>Y</td></tr><tr><th>4</th><td>3551019</td><td>18-Oct-2019</td><td>N</td><td>6</td><td>North Sydney Oval</td><td>N</td><td>Y</td></tr><tr><th>5</th><td>3551019</td><td>18-Oct-2019</td><td>N</td><td>6</td><td>North Sydney Oval</td><td>N</td><td>Y</td></tr><tr><th>6</th><td>3551019</td><td>18-Oct-2019</td><td>N</td><td>6</td><td>North Sydney Oval</td><td>N</td><td>Y</td></tr><tr><th>7</th><td>3551019</td><td>18-Oct-2019</td><td>N</td><td>6</td><td>North Sydney Oval</td><td>N</td><td>Y</td></tr><tr><th>8</th><td>3551019</td><td>18-Oct-2019</td><td>N</td><td>6</td><td>North Sydney Oval</td><td>N</td><td>Y</td></tr><tr><th>9</th><td>3551019</td><td>18-Oct-2019</td><td>N</td><td>6</td><td>North Sydney Oval</td><td>N</td><td>Y</td></tr><tr><th>10</th><td>3551019</td><td>18-Oct-2019</td><td>N</td><td>6</td><td>North Sydney Oval</td><td>N</td><td>Y</td></tr><tr><th>11</th><td>3551019</td><td>18-Oct-2019</td><td>N</td><td>6</td><td>North Sydney Oval</td><td>N</td><td>Y</td></tr><tr><th>12</th><td>3551019</td><td>18-Oct-2019</td><td>N</td><td>6</td><td>North Sydney Oval</td><td>N</td><td>Y</td></tr><tr><th>13</th><td>3551019</td><td>18-Oct-2019</td><td>N</td><td>6</td><td>North Sydney Oval</td><td>N</td><td>Y</td></tr><tr><th>14</th><td>3551019</td><td>18-Oct-2019</td><td>N</td><td>6</td><td>North Sydney Oval</td><td>N</td><td>Y</td></tr><tr><th>15</th><td>3551019</td><td>18-Oct-2019</td><td>N</td><td>6</td><td>North Sydney Oval</td><td>N</td><td>Y</td></tr><tr><th>16</th><td>3551019</td><td>18-Oct-2019</td><td>N</td><td>6</td><td>North Sydney Oval</td><td>N</td><td>Y</td></tr><tr><th>17</th><td>3551019</td><td>18-Oct-2019</td><td>N</td><td>6</td><td>North Sydney Oval</td><td>N</td><td>Y</td></tr><tr><th>18</th><td>3551019</td><td>18-Oct-2019</td><td>N</td><td>6</td><td>North Sydney Oval</td><td>N</td><td>Y</td></tr><tr><th>19</th><td>3551019</td><td>18-Oct-2019</td><td>N</td><td>6</td><td>North Sydney Oval</td><td>N</td><td>Y</td></tr><tr><th>20</th><td>3551019</td><td>18-Oct-2019</td><td>N</td><td>6</td><td>North Sydney Oval</td><td>N</td><td>Y</td></tr><tr><th>21</th><td>3551019</td><td>18-Oct-2019</td><td>N</td><td>6</td><td>North Sydney Oval</td><td>N</td><td>Y</td></tr><tr><th>22</th><td>3551019</td><td>18-Oct-2019</td><td>N</td><td>6</td><td>North Sydney Oval</td><td>N</td><td>Y</td></tr><tr><th>23</th><td>3551019</td><td>18-Oct-2019</td><td>N</td><td>6</td><td>North Sydney Oval</td><td>N</td><td>Y</td></tr><tr><th>24</th><td>3551019</td><td>18-Oct-2019</td><td>N</td><td>6</td><td>North Sydney Oval</td><td>N</td><td>Y</td></tr><tr><th>25</th><td>3551019</td><td>18-Oct-2019</td><td>N</td><td>6</td><td>North Sydney Oval</td><td>N</td><td>Y</td></tr><tr><th>26</th><td>3551019</td><td>18-Oct-2019</td><td>N</td><td>6</td><td>North Sydney Oval</td><td>N</td><td>Y</td></tr><tr><th>27</th><td>3551019</td><td>18-Oct-2019</td><td>N</td><td>6</td><td>North Sydney Oval</td><td>N</td><td>Y</td></tr><tr><th>28</th><td>3551019</td><td>18-Oct-2019</td><td>N</td><td>6</td><td>North Sydney Oval</td><td>N</td><td>Y</td></tr><tr><th>29</th><td>3551019</td><td>18-Oct-2019</td><td>N</td><td>6</td><td>North Sydney Oval</td><td>N</td><td>Y</td></tr><tr><th>30</th><td>3551019</td><td>18-Oct-2019</td><td>N</td><td>6</td><td>North Sydney Oval</td><td>N</td><td>Y</td></tr><tr><th>&vellip;</th><td>&vellip;</td><td>&vellip;</td><td>&vellip;</td><td>&vellip;</td><td>&vellip;</td><td>&vellip;</td><td>&vellip;</td></tr></tbody></table>"
      ],
      "text/latex": [
       "\\begin{tabular}{r|cccccccc}\n",
       "\t& Match\\_Id & Match\\_Date & Day\\_Night & Venue\\_Id & Venue & TeamB\\_At\\_Home & Team\\_Batting\\_At\\_Home & \\\\\n",
       "\t\\hline\n",
       "\t& Int64 & String & String & Int64 & String & String & String & \\\\\n",
       "\t\\hline\n",
       "\t1 & 3551019 & 18-Oct-2019 & N & 6 & North Sydney Oval & N & Y & $\\dots$ \\\\\n",
       "\t2 & 3551019 & 18-Oct-2019 & N & 6 & North Sydney Oval & N & Y & $\\dots$ \\\\\n",
       "\t3 & 3551019 & 18-Oct-2019 & N & 6 & North Sydney Oval & N & Y & $\\dots$ \\\\\n",
       "\t4 & 3551019 & 18-Oct-2019 & N & 6 & North Sydney Oval & N & Y & $\\dots$ \\\\\n",
       "\t5 & 3551019 & 18-Oct-2019 & N & 6 & North Sydney Oval & N & Y & $\\dots$ \\\\\n",
       "\t6 & 3551019 & 18-Oct-2019 & N & 6 & North Sydney Oval & N & Y & $\\dots$ \\\\\n",
       "\t7 & 3551019 & 18-Oct-2019 & N & 6 & North Sydney Oval & N & Y & $\\dots$ \\\\\n",
       "\t8 & 3551019 & 18-Oct-2019 & N & 6 & North Sydney Oval & N & Y & $\\dots$ \\\\\n",
       "\t9 & 3551019 & 18-Oct-2019 & N & 6 & North Sydney Oval & N & Y & $\\dots$ \\\\\n",
       "\t10 & 3551019 & 18-Oct-2019 & N & 6 & North Sydney Oval & N & Y & $\\dots$ \\\\\n",
       "\t11 & 3551019 & 18-Oct-2019 & N & 6 & North Sydney Oval & N & Y & $\\dots$ \\\\\n",
       "\t12 & 3551019 & 18-Oct-2019 & N & 6 & North Sydney Oval & N & Y & $\\dots$ \\\\\n",
       "\t13 & 3551019 & 18-Oct-2019 & N & 6 & North Sydney Oval & N & Y & $\\dots$ \\\\\n",
       "\t14 & 3551019 & 18-Oct-2019 & N & 6 & North Sydney Oval & N & Y & $\\dots$ \\\\\n",
       "\t15 & 3551019 & 18-Oct-2019 & N & 6 & North Sydney Oval & N & Y & $\\dots$ \\\\\n",
       "\t16 & 3551019 & 18-Oct-2019 & N & 6 & North Sydney Oval & N & Y & $\\dots$ \\\\\n",
       "\t17 & 3551019 & 18-Oct-2019 & N & 6 & North Sydney Oval & N & Y & $\\dots$ \\\\\n",
       "\t18 & 3551019 & 18-Oct-2019 & N & 6 & North Sydney Oval & N & Y & $\\dots$ \\\\\n",
       "\t19 & 3551019 & 18-Oct-2019 & N & 6 & North Sydney Oval & N & Y & $\\dots$ \\\\\n",
       "\t20 & 3551019 & 18-Oct-2019 & N & 6 & North Sydney Oval & N & Y & $\\dots$ \\\\\n",
       "\t21 & 3551019 & 18-Oct-2019 & N & 6 & North Sydney Oval & N & Y & $\\dots$ \\\\\n",
       "\t22 & 3551019 & 18-Oct-2019 & N & 6 & North Sydney Oval & N & Y & $\\dots$ \\\\\n",
       "\t23 & 3551019 & 18-Oct-2019 & N & 6 & North Sydney Oval & N & Y & $\\dots$ \\\\\n",
       "\t24 & 3551019 & 18-Oct-2019 & N & 6 & North Sydney Oval & N & Y & $\\dots$ \\\\\n",
       "\t25 & 3551019 & 18-Oct-2019 & N & 6 & North Sydney Oval & N & Y & $\\dots$ \\\\\n",
       "\t26 & 3551019 & 18-Oct-2019 & N & 6 & North Sydney Oval & N & Y & $\\dots$ \\\\\n",
       "\t27 & 3551019 & 18-Oct-2019 & N & 6 & North Sydney Oval & N & Y & $\\dots$ \\\\\n",
       "\t28 & 3551019 & 18-Oct-2019 & N & 6 & North Sydney Oval & N & Y & $\\dots$ \\\\\n",
       "\t29 & 3551019 & 18-Oct-2019 & N & 6 & North Sydney Oval & N & Y & $\\dots$ \\\\\n",
       "\t30 & 3551019 & 18-Oct-2019 & N & 6 & North Sydney Oval & N & Y & $\\dots$ \\\\\n",
       "\t$\\dots$ & $\\dots$ & $\\dots$ & $\\dots$ & $\\dots$ & $\\dots$ & $\\dots$ & $\\dots$ &  \\\\\n",
       "\\end{tabular}\n"
      ],
      "text/plain": [
       "13751×197 DataFrame. Omitted printing of 192 columns\n",
       "│ Row   │ Match_Id │ Match_Date  │ Day_Night │ Venue_Id │ Venue              │\n",
       "│       │ \u001b[90mInt64\u001b[39m    │ \u001b[90mString\u001b[39m      │ \u001b[90mString\u001b[39m    │ \u001b[90mInt64\u001b[39m    │ \u001b[90mString\u001b[39m             │\n",
       "├───────┼──────────┼─────────────┼───────────┼──────────┼────────────────────┤\n",
       "│ 1     │ 3551019  │ 18-Oct-2019 │ N         │ 6        │ North Sydney Oval  │\n",
       "│ 2     │ 3551019  │ 18-Oct-2019 │ N         │ 6        │ North Sydney Oval  │\n",
       "│ 3     │ 3551019  │ 18-Oct-2019 │ N         │ 6        │ North Sydney Oval  │\n",
       "│ 4     │ 3551019  │ 18-Oct-2019 │ N         │ 6        │ North Sydney Oval  │\n",
       "│ 5     │ 3551019  │ 18-Oct-2019 │ N         │ 6        │ North Sydney Oval  │\n",
       "│ 6     │ 3551019  │ 18-Oct-2019 │ N         │ 6        │ North Sydney Oval  │\n",
       "│ 7     │ 3551019  │ 18-Oct-2019 │ N         │ 6        │ North Sydney Oval  │\n",
       "│ 8     │ 3551019  │ 18-Oct-2019 │ N         │ 6        │ North Sydney Oval  │\n",
       "│ 9     │ 3551019  │ 18-Oct-2019 │ N         │ 6        │ North Sydney Oval  │\n",
       "│ 10    │ 3551019  │ 18-Oct-2019 │ N         │ 6        │ North Sydney Oval  │\n",
       "⋮\n",
       "│ 13741 │ 4390125  │ 08-Dec-2019 │ N         │ 1002     │ Allan Border Field │\n",
       "│ 13742 │ 4390125  │ 08-Dec-2019 │ N         │ 1002     │ Allan Border Field │\n",
       "│ 13743 │ 4390125  │ 08-Dec-2019 │ N         │ 1002     │ Allan Border Field │\n",
       "│ 13744 │ 4390125  │ 08-Dec-2019 │ N         │ 1002     │ Allan Border Field │\n",
       "│ 13745 │ 4390125  │ 08-Dec-2019 │ N         │ 1002     │ Allan Border Field │\n",
       "│ 13746 │ 4390125  │ 08-Dec-2019 │ N         │ 1002     │ Allan Border Field │\n",
       "│ 13747 │ 4390125  │ 08-Dec-2019 │ N         │ 1002     │ Allan Border Field │\n",
       "│ 13748 │ 4390125  │ 08-Dec-2019 │ N         │ 1002     │ Allan Border Field │\n",
       "│ 13749 │ 4390125  │ 08-Dec-2019 │ N         │ 1002     │ Allan Border Field │\n",
       "│ 13750 │ 4390125  │ 08-Dec-2019 │ N         │ 1002     │ Allan Border Field │\n",
       "│ 13751 │ 4390125  │ 08-Dec-2019 │ N         │ 1002     │ Allan Border Field │"
      ]
     },
     "execution_count": 97,
     "metadata": {},
     "output_type": "execute_result"
    }
   ],
   "source": [
    "select!(df, Not(\"Team_Batting_Id\"))"
   ]
  },
  {
   "cell_type": "code",
   "execution_count": 103,
   "metadata": {},
   "outputs": [
    {
     "data": {
      "text/html": [
       "<table class=\"data-frame\"><thead><tr><th></th><th>Match_Id</th><th>Match_Date</th><th>Day_Night</th><th>Venue_Id</th><th>Venue</th><th>TeamB_At_Home</th><th>Team_Batting_At_Home</th></tr><tr><th></th><th>Int64</th><th>String</th><th>String</th><th>Int64</th><th>String</th><th>String</th><th>String</th></tr></thead><tbody><p>13,751 rows × 194 columns (omitted printing of 187 columns)</p><tr><th>1</th><td>3551019</td><td>18-Oct-2019</td><td>N</td><td>6</td><td>North Sydney Oval</td><td>N</td><td>Y</td></tr><tr><th>2</th><td>3551019</td><td>18-Oct-2019</td><td>N</td><td>6</td><td>North Sydney Oval</td><td>N</td><td>Y</td></tr><tr><th>3</th><td>3551019</td><td>18-Oct-2019</td><td>N</td><td>6</td><td>North Sydney Oval</td><td>N</td><td>Y</td></tr><tr><th>4</th><td>3551019</td><td>18-Oct-2019</td><td>N</td><td>6</td><td>North Sydney Oval</td><td>N</td><td>Y</td></tr><tr><th>5</th><td>3551019</td><td>18-Oct-2019</td><td>N</td><td>6</td><td>North Sydney Oval</td><td>N</td><td>Y</td></tr><tr><th>6</th><td>3551019</td><td>18-Oct-2019</td><td>N</td><td>6</td><td>North Sydney Oval</td><td>N</td><td>Y</td></tr><tr><th>7</th><td>3551019</td><td>18-Oct-2019</td><td>N</td><td>6</td><td>North Sydney Oval</td><td>N</td><td>Y</td></tr><tr><th>8</th><td>3551019</td><td>18-Oct-2019</td><td>N</td><td>6</td><td>North Sydney Oval</td><td>N</td><td>Y</td></tr><tr><th>9</th><td>3551019</td><td>18-Oct-2019</td><td>N</td><td>6</td><td>North Sydney Oval</td><td>N</td><td>Y</td></tr><tr><th>10</th><td>3551019</td><td>18-Oct-2019</td><td>N</td><td>6</td><td>North Sydney Oval</td><td>N</td><td>Y</td></tr><tr><th>11</th><td>3551019</td><td>18-Oct-2019</td><td>N</td><td>6</td><td>North Sydney Oval</td><td>N</td><td>Y</td></tr><tr><th>12</th><td>3551019</td><td>18-Oct-2019</td><td>N</td><td>6</td><td>North Sydney Oval</td><td>N</td><td>Y</td></tr><tr><th>13</th><td>3551019</td><td>18-Oct-2019</td><td>N</td><td>6</td><td>North Sydney Oval</td><td>N</td><td>Y</td></tr><tr><th>14</th><td>3551019</td><td>18-Oct-2019</td><td>N</td><td>6</td><td>North Sydney Oval</td><td>N</td><td>Y</td></tr><tr><th>15</th><td>3551019</td><td>18-Oct-2019</td><td>N</td><td>6</td><td>North Sydney Oval</td><td>N</td><td>Y</td></tr><tr><th>16</th><td>3551019</td><td>18-Oct-2019</td><td>N</td><td>6</td><td>North Sydney Oval</td><td>N</td><td>Y</td></tr><tr><th>17</th><td>3551019</td><td>18-Oct-2019</td><td>N</td><td>6</td><td>North Sydney Oval</td><td>N</td><td>Y</td></tr><tr><th>18</th><td>3551019</td><td>18-Oct-2019</td><td>N</td><td>6</td><td>North Sydney Oval</td><td>N</td><td>Y</td></tr><tr><th>19</th><td>3551019</td><td>18-Oct-2019</td><td>N</td><td>6</td><td>North Sydney Oval</td><td>N</td><td>Y</td></tr><tr><th>20</th><td>3551019</td><td>18-Oct-2019</td><td>N</td><td>6</td><td>North Sydney Oval</td><td>N</td><td>Y</td></tr><tr><th>21</th><td>3551019</td><td>18-Oct-2019</td><td>N</td><td>6</td><td>North Sydney Oval</td><td>N</td><td>Y</td></tr><tr><th>22</th><td>3551019</td><td>18-Oct-2019</td><td>N</td><td>6</td><td>North Sydney Oval</td><td>N</td><td>Y</td></tr><tr><th>23</th><td>3551019</td><td>18-Oct-2019</td><td>N</td><td>6</td><td>North Sydney Oval</td><td>N</td><td>Y</td></tr><tr><th>24</th><td>3551019</td><td>18-Oct-2019</td><td>N</td><td>6</td><td>North Sydney Oval</td><td>N</td><td>Y</td></tr><tr><th>25</th><td>3551019</td><td>18-Oct-2019</td><td>N</td><td>6</td><td>North Sydney Oval</td><td>N</td><td>Y</td></tr><tr><th>26</th><td>3551019</td><td>18-Oct-2019</td><td>N</td><td>6</td><td>North Sydney Oval</td><td>N</td><td>Y</td></tr><tr><th>27</th><td>3551019</td><td>18-Oct-2019</td><td>N</td><td>6</td><td>North Sydney Oval</td><td>N</td><td>Y</td></tr><tr><th>28</th><td>3551019</td><td>18-Oct-2019</td><td>N</td><td>6</td><td>North Sydney Oval</td><td>N</td><td>Y</td></tr><tr><th>29</th><td>3551019</td><td>18-Oct-2019</td><td>N</td><td>6</td><td>North Sydney Oval</td><td>N</td><td>Y</td></tr><tr><th>30</th><td>3551019</td><td>18-Oct-2019</td><td>N</td><td>6</td><td>North Sydney Oval</td><td>N</td><td>Y</td></tr><tr><th>&vellip;</th><td>&vellip;</td><td>&vellip;</td><td>&vellip;</td><td>&vellip;</td><td>&vellip;</td><td>&vellip;</td><td>&vellip;</td></tr></tbody></table>"
      ],
      "text/latex": [
       "\\begin{tabular}{r|cccccccc}\n",
       "\t& Match\\_Id & Match\\_Date & Day\\_Night & Venue\\_Id & Venue & TeamB\\_At\\_Home & Team\\_Batting\\_At\\_Home & \\\\\n",
       "\t\\hline\n",
       "\t& Int64 & String & String & Int64 & String & String & String & \\\\\n",
       "\t\\hline\n",
       "\t1 & 3551019 & 18-Oct-2019 & N & 6 & North Sydney Oval & N & Y & $\\dots$ \\\\\n",
       "\t2 & 3551019 & 18-Oct-2019 & N & 6 & North Sydney Oval & N & Y & $\\dots$ \\\\\n",
       "\t3 & 3551019 & 18-Oct-2019 & N & 6 & North Sydney Oval & N & Y & $\\dots$ \\\\\n",
       "\t4 & 3551019 & 18-Oct-2019 & N & 6 & North Sydney Oval & N & Y & $\\dots$ \\\\\n",
       "\t5 & 3551019 & 18-Oct-2019 & N & 6 & North Sydney Oval & N & Y & $\\dots$ \\\\\n",
       "\t6 & 3551019 & 18-Oct-2019 & N & 6 & North Sydney Oval & N & Y & $\\dots$ \\\\\n",
       "\t7 & 3551019 & 18-Oct-2019 & N & 6 & North Sydney Oval & N & Y & $\\dots$ \\\\\n",
       "\t8 & 3551019 & 18-Oct-2019 & N & 6 & North Sydney Oval & N & Y & $\\dots$ \\\\\n",
       "\t9 & 3551019 & 18-Oct-2019 & N & 6 & North Sydney Oval & N & Y & $\\dots$ \\\\\n",
       "\t10 & 3551019 & 18-Oct-2019 & N & 6 & North Sydney Oval & N & Y & $\\dots$ \\\\\n",
       "\t11 & 3551019 & 18-Oct-2019 & N & 6 & North Sydney Oval & N & Y & $\\dots$ \\\\\n",
       "\t12 & 3551019 & 18-Oct-2019 & N & 6 & North Sydney Oval & N & Y & $\\dots$ \\\\\n",
       "\t13 & 3551019 & 18-Oct-2019 & N & 6 & North Sydney Oval & N & Y & $\\dots$ \\\\\n",
       "\t14 & 3551019 & 18-Oct-2019 & N & 6 & North Sydney Oval & N & Y & $\\dots$ \\\\\n",
       "\t15 & 3551019 & 18-Oct-2019 & N & 6 & North Sydney Oval & N & Y & $\\dots$ \\\\\n",
       "\t16 & 3551019 & 18-Oct-2019 & N & 6 & North Sydney Oval & N & Y & $\\dots$ \\\\\n",
       "\t17 & 3551019 & 18-Oct-2019 & N & 6 & North Sydney Oval & N & Y & $\\dots$ \\\\\n",
       "\t18 & 3551019 & 18-Oct-2019 & N & 6 & North Sydney Oval & N & Y & $\\dots$ \\\\\n",
       "\t19 & 3551019 & 18-Oct-2019 & N & 6 & North Sydney Oval & N & Y & $\\dots$ \\\\\n",
       "\t20 & 3551019 & 18-Oct-2019 & N & 6 & North Sydney Oval & N & Y & $\\dots$ \\\\\n",
       "\t21 & 3551019 & 18-Oct-2019 & N & 6 & North Sydney Oval & N & Y & $\\dots$ \\\\\n",
       "\t22 & 3551019 & 18-Oct-2019 & N & 6 & North Sydney Oval & N & Y & $\\dots$ \\\\\n",
       "\t23 & 3551019 & 18-Oct-2019 & N & 6 & North Sydney Oval & N & Y & $\\dots$ \\\\\n",
       "\t24 & 3551019 & 18-Oct-2019 & N & 6 & North Sydney Oval & N & Y & $\\dots$ \\\\\n",
       "\t25 & 3551019 & 18-Oct-2019 & N & 6 & North Sydney Oval & N & Y & $\\dots$ \\\\\n",
       "\t26 & 3551019 & 18-Oct-2019 & N & 6 & North Sydney Oval & N & Y & $\\dots$ \\\\\n",
       "\t27 & 3551019 & 18-Oct-2019 & N & 6 & North Sydney Oval & N & Y & $\\dots$ \\\\\n",
       "\t28 & 3551019 & 18-Oct-2019 & N & 6 & North Sydney Oval & N & Y & $\\dots$ \\\\\n",
       "\t29 & 3551019 & 18-Oct-2019 & N & 6 & North Sydney Oval & N & Y & $\\dots$ \\\\\n",
       "\t30 & 3551019 & 18-Oct-2019 & N & 6 & North Sydney Oval & N & Y & $\\dots$ \\\\\n",
       "\t$\\dots$ & $\\dots$ & $\\dots$ & $\\dots$ & $\\dots$ & $\\dots$ & $\\dots$ & $\\dots$ &  \\\\\n",
       "\\end{tabular}\n"
      ],
      "text/plain": [
       "13751×194 DataFrame. Omitted printing of 189 columns\n",
       "│ Row   │ Match_Id │ Match_Date  │ Day_Night │ Venue_Id │ Venue              │\n",
       "│       │ \u001b[90mInt64\u001b[39m    │ \u001b[90mString\u001b[39m      │ \u001b[90mString\u001b[39m    │ \u001b[90mInt64\u001b[39m    │ \u001b[90mString\u001b[39m             │\n",
       "├───────┼──────────┼─────────────┼───────────┼──────────┼────────────────────┤\n",
       "│ 1     │ 3551019  │ 18-Oct-2019 │ N         │ 6        │ North Sydney Oval  │\n",
       "│ 2     │ 3551019  │ 18-Oct-2019 │ N         │ 6        │ North Sydney Oval  │\n",
       "│ 3     │ 3551019  │ 18-Oct-2019 │ N         │ 6        │ North Sydney Oval  │\n",
       "│ 4     │ 3551019  │ 18-Oct-2019 │ N         │ 6        │ North Sydney Oval  │\n",
       "│ 5     │ 3551019  │ 18-Oct-2019 │ N         │ 6        │ North Sydney Oval  │\n",
       "│ 6     │ 3551019  │ 18-Oct-2019 │ N         │ 6        │ North Sydney Oval  │\n",
       "│ 7     │ 3551019  │ 18-Oct-2019 │ N         │ 6        │ North Sydney Oval  │\n",
       "│ 8     │ 3551019  │ 18-Oct-2019 │ N         │ 6        │ North Sydney Oval  │\n",
       "│ 9     │ 3551019  │ 18-Oct-2019 │ N         │ 6        │ North Sydney Oval  │\n",
       "│ 10    │ 3551019  │ 18-Oct-2019 │ N         │ 6        │ North Sydney Oval  │\n",
       "⋮\n",
       "│ 13741 │ 4390125  │ 08-Dec-2019 │ N         │ 1002     │ Allan Border Field │\n",
       "│ 13742 │ 4390125  │ 08-Dec-2019 │ N         │ 1002     │ Allan Border Field │\n",
       "│ 13743 │ 4390125  │ 08-Dec-2019 │ N         │ 1002     │ Allan Border Field │\n",
       "│ 13744 │ 4390125  │ 08-Dec-2019 │ N         │ 1002     │ Allan Border Field │\n",
       "│ 13745 │ 4390125  │ 08-Dec-2019 │ N         │ 1002     │ Allan Border Field │\n",
       "│ 13746 │ 4390125  │ 08-Dec-2019 │ N         │ 1002     │ Allan Border Field │\n",
       "│ 13747 │ 4390125  │ 08-Dec-2019 │ N         │ 1002     │ Allan Border Field │\n",
       "│ 13748 │ 4390125  │ 08-Dec-2019 │ N         │ 1002     │ Allan Border Field │\n",
       "│ 13749 │ 4390125  │ 08-Dec-2019 │ N         │ 1002     │ Allan Border Field │\n",
       "│ 13750 │ 4390125  │ 08-Dec-2019 │ N         │ 1002     │ Allan Border Field │\n",
       "│ 13751 │ 4390125  │ 08-Dec-2019 │ N         │ 1002     │ Allan Border Field │"
      ]
     },
     "execution_count": 103,
     "metadata": {},
     "output_type": "execute_result"
    }
   ],
   "source": [
    "select!(df, Not([\"Time_of_Day_Hour_\", \"Time_of_Day_Min_\", \"Striker_Id\"]))"
   ]
  },
  {
   "cell_type": "code",
   "execution_count": 105,
   "metadata": {},
   "outputs": [
    {
     "data": {
      "text/html": [
       "<table class=\"data-frame\"><thead><tr><th></th><th>Match_Id</th><th>Match_Date</th><th>Day_Night</th><th>Venue_Id</th><th>Venue</th><th>TeamB_At_Home</th><th>Team_Batting_At_Home</th></tr><tr><th></th><th>Int64</th><th>String</th><th>String</th><th>Int64</th><th>String</th><th>String</th><th>String</th></tr></thead><tbody><p>13,751 rows × 193 columns (omitted printing of 186 columns)</p><tr><th>1</th><td>3551019</td><td>18-Oct-2019</td><td>N</td><td>6</td><td>North Sydney Oval</td><td>N</td><td>Y</td></tr><tr><th>2</th><td>3551019</td><td>18-Oct-2019</td><td>N</td><td>6</td><td>North Sydney Oval</td><td>N</td><td>Y</td></tr><tr><th>3</th><td>3551019</td><td>18-Oct-2019</td><td>N</td><td>6</td><td>North Sydney Oval</td><td>N</td><td>Y</td></tr><tr><th>4</th><td>3551019</td><td>18-Oct-2019</td><td>N</td><td>6</td><td>North Sydney Oval</td><td>N</td><td>Y</td></tr><tr><th>5</th><td>3551019</td><td>18-Oct-2019</td><td>N</td><td>6</td><td>North Sydney Oval</td><td>N</td><td>Y</td></tr><tr><th>6</th><td>3551019</td><td>18-Oct-2019</td><td>N</td><td>6</td><td>North Sydney Oval</td><td>N</td><td>Y</td></tr><tr><th>7</th><td>3551019</td><td>18-Oct-2019</td><td>N</td><td>6</td><td>North Sydney Oval</td><td>N</td><td>Y</td></tr><tr><th>8</th><td>3551019</td><td>18-Oct-2019</td><td>N</td><td>6</td><td>North Sydney Oval</td><td>N</td><td>Y</td></tr><tr><th>9</th><td>3551019</td><td>18-Oct-2019</td><td>N</td><td>6</td><td>North Sydney Oval</td><td>N</td><td>Y</td></tr><tr><th>10</th><td>3551019</td><td>18-Oct-2019</td><td>N</td><td>6</td><td>North Sydney Oval</td><td>N</td><td>Y</td></tr><tr><th>11</th><td>3551019</td><td>18-Oct-2019</td><td>N</td><td>6</td><td>North Sydney Oval</td><td>N</td><td>Y</td></tr><tr><th>12</th><td>3551019</td><td>18-Oct-2019</td><td>N</td><td>6</td><td>North Sydney Oval</td><td>N</td><td>Y</td></tr><tr><th>13</th><td>3551019</td><td>18-Oct-2019</td><td>N</td><td>6</td><td>North Sydney Oval</td><td>N</td><td>Y</td></tr><tr><th>14</th><td>3551019</td><td>18-Oct-2019</td><td>N</td><td>6</td><td>North Sydney Oval</td><td>N</td><td>Y</td></tr><tr><th>15</th><td>3551019</td><td>18-Oct-2019</td><td>N</td><td>6</td><td>North Sydney Oval</td><td>N</td><td>Y</td></tr><tr><th>16</th><td>3551019</td><td>18-Oct-2019</td><td>N</td><td>6</td><td>North Sydney Oval</td><td>N</td><td>Y</td></tr><tr><th>17</th><td>3551019</td><td>18-Oct-2019</td><td>N</td><td>6</td><td>North Sydney Oval</td><td>N</td><td>Y</td></tr><tr><th>18</th><td>3551019</td><td>18-Oct-2019</td><td>N</td><td>6</td><td>North Sydney Oval</td><td>N</td><td>Y</td></tr><tr><th>19</th><td>3551019</td><td>18-Oct-2019</td><td>N</td><td>6</td><td>North Sydney Oval</td><td>N</td><td>Y</td></tr><tr><th>20</th><td>3551019</td><td>18-Oct-2019</td><td>N</td><td>6</td><td>North Sydney Oval</td><td>N</td><td>Y</td></tr><tr><th>21</th><td>3551019</td><td>18-Oct-2019</td><td>N</td><td>6</td><td>North Sydney Oval</td><td>N</td><td>Y</td></tr><tr><th>22</th><td>3551019</td><td>18-Oct-2019</td><td>N</td><td>6</td><td>North Sydney Oval</td><td>N</td><td>Y</td></tr><tr><th>23</th><td>3551019</td><td>18-Oct-2019</td><td>N</td><td>6</td><td>North Sydney Oval</td><td>N</td><td>Y</td></tr><tr><th>24</th><td>3551019</td><td>18-Oct-2019</td><td>N</td><td>6</td><td>North Sydney Oval</td><td>N</td><td>Y</td></tr><tr><th>25</th><td>3551019</td><td>18-Oct-2019</td><td>N</td><td>6</td><td>North Sydney Oval</td><td>N</td><td>Y</td></tr><tr><th>26</th><td>3551019</td><td>18-Oct-2019</td><td>N</td><td>6</td><td>North Sydney Oval</td><td>N</td><td>Y</td></tr><tr><th>27</th><td>3551019</td><td>18-Oct-2019</td><td>N</td><td>6</td><td>North Sydney Oval</td><td>N</td><td>Y</td></tr><tr><th>28</th><td>3551019</td><td>18-Oct-2019</td><td>N</td><td>6</td><td>North Sydney Oval</td><td>N</td><td>Y</td></tr><tr><th>29</th><td>3551019</td><td>18-Oct-2019</td><td>N</td><td>6</td><td>North Sydney Oval</td><td>N</td><td>Y</td></tr><tr><th>30</th><td>3551019</td><td>18-Oct-2019</td><td>N</td><td>6</td><td>North Sydney Oval</td><td>N</td><td>Y</td></tr><tr><th>&vellip;</th><td>&vellip;</td><td>&vellip;</td><td>&vellip;</td><td>&vellip;</td><td>&vellip;</td><td>&vellip;</td><td>&vellip;</td></tr></tbody></table>"
      ],
      "text/latex": [
       "\\begin{tabular}{r|cccccccc}\n",
       "\t& Match\\_Id & Match\\_Date & Day\\_Night & Venue\\_Id & Venue & TeamB\\_At\\_Home & Team\\_Batting\\_At\\_Home & \\\\\n",
       "\t\\hline\n",
       "\t& Int64 & String & String & Int64 & String & String & String & \\\\\n",
       "\t\\hline\n",
       "\t1 & 3551019 & 18-Oct-2019 & N & 6 & North Sydney Oval & N & Y & $\\dots$ \\\\\n",
       "\t2 & 3551019 & 18-Oct-2019 & N & 6 & North Sydney Oval & N & Y & $\\dots$ \\\\\n",
       "\t3 & 3551019 & 18-Oct-2019 & N & 6 & North Sydney Oval & N & Y & $\\dots$ \\\\\n",
       "\t4 & 3551019 & 18-Oct-2019 & N & 6 & North Sydney Oval & N & Y & $\\dots$ \\\\\n",
       "\t5 & 3551019 & 18-Oct-2019 & N & 6 & North Sydney Oval & N & Y & $\\dots$ \\\\\n",
       "\t6 & 3551019 & 18-Oct-2019 & N & 6 & North Sydney Oval & N & Y & $\\dots$ \\\\\n",
       "\t7 & 3551019 & 18-Oct-2019 & N & 6 & North Sydney Oval & N & Y & $\\dots$ \\\\\n",
       "\t8 & 3551019 & 18-Oct-2019 & N & 6 & North Sydney Oval & N & Y & $\\dots$ \\\\\n",
       "\t9 & 3551019 & 18-Oct-2019 & N & 6 & North Sydney Oval & N & Y & $\\dots$ \\\\\n",
       "\t10 & 3551019 & 18-Oct-2019 & N & 6 & North Sydney Oval & N & Y & $\\dots$ \\\\\n",
       "\t11 & 3551019 & 18-Oct-2019 & N & 6 & North Sydney Oval & N & Y & $\\dots$ \\\\\n",
       "\t12 & 3551019 & 18-Oct-2019 & N & 6 & North Sydney Oval & N & Y & $\\dots$ \\\\\n",
       "\t13 & 3551019 & 18-Oct-2019 & N & 6 & North Sydney Oval & N & Y & $\\dots$ \\\\\n",
       "\t14 & 3551019 & 18-Oct-2019 & N & 6 & North Sydney Oval & N & Y & $\\dots$ \\\\\n",
       "\t15 & 3551019 & 18-Oct-2019 & N & 6 & North Sydney Oval & N & Y & $\\dots$ \\\\\n",
       "\t16 & 3551019 & 18-Oct-2019 & N & 6 & North Sydney Oval & N & Y & $\\dots$ \\\\\n",
       "\t17 & 3551019 & 18-Oct-2019 & N & 6 & North Sydney Oval & N & Y & $\\dots$ \\\\\n",
       "\t18 & 3551019 & 18-Oct-2019 & N & 6 & North Sydney Oval & N & Y & $\\dots$ \\\\\n",
       "\t19 & 3551019 & 18-Oct-2019 & N & 6 & North Sydney Oval & N & Y & $\\dots$ \\\\\n",
       "\t20 & 3551019 & 18-Oct-2019 & N & 6 & North Sydney Oval & N & Y & $\\dots$ \\\\\n",
       "\t21 & 3551019 & 18-Oct-2019 & N & 6 & North Sydney Oval & N & Y & $\\dots$ \\\\\n",
       "\t22 & 3551019 & 18-Oct-2019 & N & 6 & North Sydney Oval & N & Y & $\\dots$ \\\\\n",
       "\t23 & 3551019 & 18-Oct-2019 & N & 6 & North Sydney Oval & N & Y & $\\dots$ \\\\\n",
       "\t24 & 3551019 & 18-Oct-2019 & N & 6 & North Sydney Oval & N & Y & $\\dots$ \\\\\n",
       "\t25 & 3551019 & 18-Oct-2019 & N & 6 & North Sydney Oval & N & Y & $\\dots$ \\\\\n",
       "\t26 & 3551019 & 18-Oct-2019 & N & 6 & North Sydney Oval & N & Y & $\\dots$ \\\\\n",
       "\t27 & 3551019 & 18-Oct-2019 & N & 6 & North Sydney Oval & N & Y & $\\dots$ \\\\\n",
       "\t28 & 3551019 & 18-Oct-2019 & N & 6 & North Sydney Oval & N & Y & $\\dots$ \\\\\n",
       "\t29 & 3551019 & 18-Oct-2019 & N & 6 & North Sydney Oval & N & Y & $\\dots$ \\\\\n",
       "\t30 & 3551019 & 18-Oct-2019 & N & 6 & North Sydney Oval & N & Y & $\\dots$ \\\\\n",
       "\t$\\dots$ & $\\dots$ & $\\dots$ & $\\dots$ & $\\dots$ & $\\dots$ & $\\dots$ & $\\dots$ &  \\\\\n",
       "\\end{tabular}\n"
      ],
      "text/plain": [
       "13751×193 DataFrame. Omitted printing of 188 columns\n",
       "│ Row   │ Match_Id │ Match_Date  │ Day_Night │ Venue_Id │ Venue              │\n",
       "│       │ \u001b[90mInt64\u001b[39m    │ \u001b[90mString\u001b[39m      │ \u001b[90mString\u001b[39m    │ \u001b[90mInt64\u001b[39m    │ \u001b[90mString\u001b[39m             │\n",
       "├───────┼──────────┼─────────────┼───────────┼──────────┼────────────────────┤\n",
       "│ 1     │ 3551019  │ 18-Oct-2019 │ N         │ 6        │ North Sydney Oval  │\n",
       "│ 2     │ 3551019  │ 18-Oct-2019 │ N         │ 6        │ North Sydney Oval  │\n",
       "│ 3     │ 3551019  │ 18-Oct-2019 │ N         │ 6        │ North Sydney Oval  │\n",
       "│ 4     │ 3551019  │ 18-Oct-2019 │ N         │ 6        │ North Sydney Oval  │\n",
       "│ 5     │ 3551019  │ 18-Oct-2019 │ N         │ 6        │ North Sydney Oval  │\n",
       "│ 6     │ 3551019  │ 18-Oct-2019 │ N         │ 6        │ North Sydney Oval  │\n",
       "│ 7     │ 3551019  │ 18-Oct-2019 │ N         │ 6        │ North Sydney Oval  │\n",
       "│ 8     │ 3551019  │ 18-Oct-2019 │ N         │ 6        │ North Sydney Oval  │\n",
       "│ 9     │ 3551019  │ 18-Oct-2019 │ N         │ 6        │ North Sydney Oval  │\n",
       "│ 10    │ 3551019  │ 18-Oct-2019 │ N         │ 6        │ North Sydney Oval  │\n",
       "⋮\n",
       "│ 13741 │ 4390125  │ 08-Dec-2019 │ N         │ 1002     │ Allan Border Field │\n",
       "│ 13742 │ 4390125  │ 08-Dec-2019 │ N         │ 1002     │ Allan Border Field │\n",
       "│ 13743 │ 4390125  │ 08-Dec-2019 │ N         │ 1002     │ Allan Border Field │\n",
       "│ 13744 │ 4390125  │ 08-Dec-2019 │ N         │ 1002     │ Allan Border Field │\n",
       "│ 13745 │ 4390125  │ 08-Dec-2019 │ N         │ 1002     │ Allan Border Field │\n",
       "│ 13746 │ 4390125  │ 08-Dec-2019 │ N         │ 1002     │ Allan Border Field │\n",
       "│ 13747 │ 4390125  │ 08-Dec-2019 │ N         │ 1002     │ Allan Border Field │\n",
       "│ 13748 │ 4390125  │ 08-Dec-2019 │ N         │ 1002     │ Allan Border Field │\n",
       "│ 13749 │ 4390125  │ 08-Dec-2019 │ N         │ 1002     │ Allan Border Field │\n",
       "│ 13750 │ 4390125  │ 08-Dec-2019 │ N         │ 1002     │ Allan Border Field │\n",
       "│ 13751 │ 4390125  │ 08-Dec-2019 │ N         │ 1002     │ Allan Border Field │"
      ]
     },
     "execution_count": 105,
     "metadata": {},
     "output_type": "execute_result"
    }
   ],
   "source": [
    "select!(df, Not(\"Striker_Hand_Id\"))"
   ]
  },
  {
   "cell_type": "code",
   "execution_count": 107,
   "metadata": {},
   "outputs": [
    {
     "data": {
      "text/html": [
       "<table class=\"data-frame\"><thead><tr><th></th><th>Match_Id</th><th>Match_Date</th><th>Day_Night</th><th>Venue_Id</th><th>Venue</th><th>TeamB_At_Home</th><th>Team_Batting_At_Home</th></tr><tr><th></th><th>Int64</th><th>String</th><th>String</th><th>Int64</th><th>String</th><th>String</th><th>String</th></tr></thead><tbody><p>13,751 rows × 192 columns (omitted printing of 185 columns)</p><tr><th>1</th><td>3551019</td><td>18-Oct-2019</td><td>N</td><td>6</td><td>North Sydney Oval</td><td>N</td><td>Y</td></tr><tr><th>2</th><td>3551019</td><td>18-Oct-2019</td><td>N</td><td>6</td><td>North Sydney Oval</td><td>N</td><td>Y</td></tr><tr><th>3</th><td>3551019</td><td>18-Oct-2019</td><td>N</td><td>6</td><td>North Sydney Oval</td><td>N</td><td>Y</td></tr><tr><th>4</th><td>3551019</td><td>18-Oct-2019</td><td>N</td><td>6</td><td>North Sydney Oval</td><td>N</td><td>Y</td></tr><tr><th>5</th><td>3551019</td><td>18-Oct-2019</td><td>N</td><td>6</td><td>North Sydney Oval</td><td>N</td><td>Y</td></tr><tr><th>6</th><td>3551019</td><td>18-Oct-2019</td><td>N</td><td>6</td><td>North Sydney Oval</td><td>N</td><td>Y</td></tr><tr><th>7</th><td>3551019</td><td>18-Oct-2019</td><td>N</td><td>6</td><td>North Sydney Oval</td><td>N</td><td>Y</td></tr><tr><th>8</th><td>3551019</td><td>18-Oct-2019</td><td>N</td><td>6</td><td>North Sydney Oval</td><td>N</td><td>Y</td></tr><tr><th>9</th><td>3551019</td><td>18-Oct-2019</td><td>N</td><td>6</td><td>North Sydney Oval</td><td>N</td><td>Y</td></tr><tr><th>10</th><td>3551019</td><td>18-Oct-2019</td><td>N</td><td>6</td><td>North Sydney Oval</td><td>N</td><td>Y</td></tr><tr><th>11</th><td>3551019</td><td>18-Oct-2019</td><td>N</td><td>6</td><td>North Sydney Oval</td><td>N</td><td>Y</td></tr><tr><th>12</th><td>3551019</td><td>18-Oct-2019</td><td>N</td><td>6</td><td>North Sydney Oval</td><td>N</td><td>Y</td></tr><tr><th>13</th><td>3551019</td><td>18-Oct-2019</td><td>N</td><td>6</td><td>North Sydney Oval</td><td>N</td><td>Y</td></tr><tr><th>14</th><td>3551019</td><td>18-Oct-2019</td><td>N</td><td>6</td><td>North Sydney Oval</td><td>N</td><td>Y</td></tr><tr><th>15</th><td>3551019</td><td>18-Oct-2019</td><td>N</td><td>6</td><td>North Sydney Oval</td><td>N</td><td>Y</td></tr><tr><th>16</th><td>3551019</td><td>18-Oct-2019</td><td>N</td><td>6</td><td>North Sydney Oval</td><td>N</td><td>Y</td></tr><tr><th>17</th><td>3551019</td><td>18-Oct-2019</td><td>N</td><td>6</td><td>North Sydney Oval</td><td>N</td><td>Y</td></tr><tr><th>18</th><td>3551019</td><td>18-Oct-2019</td><td>N</td><td>6</td><td>North Sydney Oval</td><td>N</td><td>Y</td></tr><tr><th>19</th><td>3551019</td><td>18-Oct-2019</td><td>N</td><td>6</td><td>North Sydney Oval</td><td>N</td><td>Y</td></tr><tr><th>20</th><td>3551019</td><td>18-Oct-2019</td><td>N</td><td>6</td><td>North Sydney Oval</td><td>N</td><td>Y</td></tr><tr><th>21</th><td>3551019</td><td>18-Oct-2019</td><td>N</td><td>6</td><td>North Sydney Oval</td><td>N</td><td>Y</td></tr><tr><th>22</th><td>3551019</td><td>18-Oct-2019</td><td>N</td><td>6</td><td>North Sydney Oval</td><td>N</td><td>Y</td></tr><tr><th>23</th><td>3551019</td><td>18-Oct-2019</td><td>N</td><td>6</td><td>North Sydney Oval</td><td>N</td><td>Y</td></tr><tr><th>24</th><td>3551019</td><td>18-Oct-2019</td><td>N</td><td>6</td><td>North Sydney Oval</td><td>N</td><td>Y</td></tr><tr><th>25</th><td>3551019</td><td>18-Oct-2019</td><td>N</td><td>6</td><td>North Sydney Oval</td><td>N</td><td>Y</td></tr><tr><th>26</th><td>3551019</td><td>18-Oct-2019</td><td>N</td><td>6</td><td>North Sydney Oval</td><td>N</td><td>Y</td></tr><tr><th>27</th><td>3551019</td><td>18-Oct-2019</td><td>N</td><td>6</td><td>North Sydney Oval</td><td>N</td><td>Y</td></tr><tr><th>28</th><td>3551019</td><td>18-Oct-2019</td><td>N</td><td>6</td><td>North Sydney Oval</td><td>N</td><td>Y</td></tr><tr><th>29</th><td>3551019</td><td>18-Oct-2019</td><td>N</td><td>6</td><td>North Sydney Oval</td><td>N</td><td>Y</td></tr><tr><th>30</th><td>3551019</td><td>18-Oct-2019</td><td>N</td><td>6</td><td>North Sydney Oval</td><td>N</td><td>Y</td></tr><tr><th>&vellip;</th><td>&vellip;</td><td>&vellip;</td><td>&vellip;</td><td>&vellip;</td><td>&vellip;</td><td>&vellip;</td><td>&vellip;</td></tr></tbody></table>"
      ],
      "text/latex": [
       "\\begin{tabular}{r|cccccccc}\n",
       "\t& Match\\_Id & Match\\_Date & Day\\_Night & Venue\\_Id & Venue & TeamB\\_At\\_Home & Team\\_Batting\\_At\\_Home & \\\\\n",
       "\t\\hline\n",
       "\t& Int64 & String & String & Int64 & String & String & String & \\\\\n",
       "\t\\hline\n",
       "\t1 & 3551019 & 18-Oct-2019 & N & 6 & North Sydney Oval & N & Y & $\\dots$ \\\\\n",
       "\t2 & 3551019 & 18-Oct-2019 & N & 6 & North Sydney Oval & N & Y & $\\dots$ \\\\\n",
       "\t3 & 3551019 & 18-Oct-2019 & N & 6 & North Sydney Oval & N & Y & $\\dots$ \\\\\n",
       "\t4 & 3551019 & 18-Oct-2019 & N & 6 & North Sydney Oval & N & Y & $\\dots$ \\\\\n",
       "\t5 & 3551019 & 18-Oct-2019 & N & 6 & North Sydney Oval & N & Y & $\\dots$ \\\\\n",
       "\t6 & 3551019 & 18-Oct-2019 & N & 6 & North Sydney Oval & N & Y & $\\dots$ \\\\\n",
       "\t7 & 3551019 & 18-Oct-2019 & N & 6 & North Sydney Oval & N & Y & $\\dots$ \\\\\n",
       "\t8 & 3551019 & 18-Oct-2019 & N & 6 & North Sydney Oval & N & Y & $\\dots$ \\\\\n",
       "\t9 & 3551019 & 18-Oct-2019 & N & 6 & North Sydney Oval & N & Y & $\\dots$ \\\\\n",
       "\t10 & 3551019 & 18-Oct-2019 & N & 6 & North Sydney Oval & N & Y & $\\dots$ \\\\\n",
       "\t11 & 3551019 & 18-Oct-2019 & N & 6 & North Sydney Oval & N & Y & $\\dots$ \\\\\n",
       "\t12 & 3551019 & 18-Oct-2019 & N & 6 & North Sydney Oval & N & Y & $\\dots$ \\\\\n",
       "\t13 & 3551019 & 18-Oct-2019 & N & 6 & North Sydney Oval & N & Y & $\\dots$ \\\\\n",
       "\t14 & 3551019 & 18-Oct-2019 & N & 6 & North Sydney Oval & N & Y & $\\dots$ \\\\\n",
       "\t15 & 3551019 & 18-Oct-2019 & N & 6 & North Sydney Oval & N & Y & $\\dots$ \\\\\n",
       "\t16 & 3551019 & 18-Oct-2019 & N & 6 & North Sydney Oval & N & Y & $\\dots$ \\\\\n",
       "\t17 & 3551019 & 18-Oct-2019 & N & 6 & North Sydney Oval & N & Y & $\\dots$ \\\\\n",
       "\t18 & 3551019 & 18-Oct-2019 & N & 6 & North Sydney Oval & N & Y & $\\dots$ \\\\\n",
       "\t19 & 3551019 & 18-Oct-2019 & N & 6 & North Sydney Oval & N & Y & $\\dots$ \\\\\n",
       "\t20 & 3551019 & 18-Oct-2019 & N & 6 & North Sydney Oval & N & Y & $\\dots$ \\\\\n",
       "\t21 & 3551019 & 18-Oct-2019 & N & 6 & North Sydney Oval & N & Y & $\\dots$ \\\\\n",
       "\t22 & 3551019 & 18-Oct-2019 & N & 6 & North Sydney Oval & N & Y & $\\dots$ \\\\\n",
       "\t23 & 3551019 & 18-Oct-2019 & N & 6 & North Sydney Oval & N & Y & $\\dots$ \\\\\n",
       "\t24 & 3551019 & 18-Oct-2019 & N & 6 & North Sydney Oval & N & Y & $\\dots$ \\\\\n",
       "\t25 & 3551019 & 18-Oct-2019 & N & 6 & North Sydney Oval & N & Y & $\\dots$ \\\\\n",
       "\t26 & 3551019 & 18-Oct-2019 & N & 6 & North Sydney Oval & N & Y & $\\dots$ \\\\\n",
       "\t27 & 3551019 & 18-Oct-2019 & N & 6 & North Sydney Oval & N & Y & $\\dots$ \\\\\n",
       "\t28 & 3551019 & 18-Oct-2019 & N & 6 & North Sydney Oval & N & Y & $\\dots$ \\\\\n",
       "\t29 & 3551019 & 18-Oct-2019 & N & 6 & North Sydney Oval & N & Y & $\\dots$ \\\\\n",
       "\t30 & 3551019 & 18-Oct-2019 & N & 6 & North Sydney Oval & N & Y & $\\dots$ \\\\\n",
       "\t$\\dots$ & $\\dots$ & $\\dots$ & $\\dots$ & $\\dots$ & $\\dots$ & $\\dots$ & $\\dots$ &  \\\\\n",
       "\\end{tabular}\n"
      ],
      "text/plain": [
       "13751×192 DataFrame. Omitted printing of 187 columns\n",
       "│ Row   │ Match_Id │ Match_Date  │ Day_Night │ Venue_Id │ Venue              │\n",
       "│       │ \u001b[90mInt64\u001b[39m    │ \u001b[90mString\u001b[39m      │ \u001b[90mString\u001b[39m    │ \u001b[90mInt64\u001b[39m    │ \u001b[90mString\u001b[39m             │\n",
       "├───────┼──────────┼─────────────┼───────────┼──────────┼────────────────────┤\n",
       "│ 1     │ 3551019  │ 18-Oct-2019 │ N         │ 6        │ North Sydney Oval  │\n",
       "│ 2     │ 3551019  │ 18-Oct-2019 │ N         │ 6        │ North Sydney Oval  │\n",
       "│ 3     │ 3551019  │ 18-Oct-2019 │ N         │ 6        │ North Sydney Oval  │\n",
       "│ 4     │ 3551019  │ 18-Oct-2019 │ N         │ 6        │ North Sydney Oval  │\n",
       "│ 5     │ 3551019  │ 18-Oct-2019 │ N         │ 6        │ North Sydney Oval  │\n",
       "│ 6     │ 3551019  │ 18-Oct-2019 │ N         │ 6        │ North Sydney Oval  │\n",
       "│ 7     │ 3551019  │ 18-Oct-2019 │ N         │ 6        │ North Sydney Oval  │\n",
       "│ 8     │ 3551019  │ 18-Oct-2019 │ N         │ 6        │ North Sydney Oval  │\n",
       "│ 9     │ 3551019  │ 18-Oct-2019 │ N         │ 6        │ North Sydney Oval  │\n",
       "│ 10    │ 3551019  │ 18-Oct-2019 │ N         │ 6        │ North Sydney Oval  │\n",
       "⋮\n",
       "│ 13741 │ 4390125  │ 08-Dec-2019 │ N         │ 1002     │ Allan Border Field │\n",
       "│ 13742 │ 4390125  │ 08-Dec-2019 │ N         │ 1002     │ Allan Border Field │\n",
       "│ 13743 │ 4390125  │ 08-Dec-2019 │ N         │ 1002     │ Allan Border Field │\n",
       "│ 13744 │ 4390125  │ 08-Dec-2019 │ N         │ 1002     │ Allan Border Field │\n",
       "│ 13745 │ 4390125  │ 08-Dec-2019 │ N         │ 1002     │ Allan Border Field │\n",
       "│ 13746 │ 4390125  │ 08-Dec-2019 │ N         │ 1002     │ Allan Border Field │\n",
       "│ 13747 │ 4390125  │ 08-Dec-2019 │ N         │ 1002     │ Allan Border Field │\n",
       "│ 13748 │ 4390125  │ 08-Dec-2019 │ N         │ 1002     │ Allan Border Field │\n",
       "│ 13749 │ 4390125  │ 08-Dec-2019 │ N         │ 1002     │ Allan Border Field │\n",
       "│ 13750 │ 4390125  │ 08-Dec-2019 │ N         │ 1002     │ Allan Border Field │\n",
       "│ 13751 │ 4390125  │ 08-Dec-2019 │ N         │ 1002     │ Allan Border Field │"
      ]
     },
     "execution_count": 107,
     "metadata": {},
     "output_type": "execute_result"
    }
   ],
   "source": [
    "select!(df, Not(\"Non_Striker_Id\"))"
   ]
  },
  {
   "cell_type": "code",
   "execution_count": 110,
   "metadata": {},
   "outputs": [
    {
     "data": {
      "text/html": [
       "<table class=\"data-frame\"><thead><tr><th></th><th>Match_Id</th><th>Match_Date</th><th>Day_Night</th><th>Venue_Id</th><th>Venue</th><th>TeamB_At_Home</th><th>Team_Batting_At_Home</th></tr><tr><th></th><th>Int64</th><th>String</th><th>String</th><th>Int64</th><th>String</th><th>String</th><th>String</th></tr></thead><tbody><p>13,751 rows × 190 columns (omitted printing of 183 columns)</p><tr><th>1</th><td>3551019</td><td>18-Oct-2019</td><td>N</td><td>6</td><td>North Sydney Oval</td><td>N</td><td>Y</td></tr><tr><th>2</th><td>3551019</td><td>18-Oct-2019</td><td>N</td><td>6</td><td>North Sydney Oval</td><td>N</td><td>Y</td></tr><tr><th>3</th><td>3551019</td><td>18-Oct-2019</td><td>N</td><td>6</td><td>North Sydney Oval</td><td>N</td><td>Y</td></tr><tr><th>4</th><td>3551019</td><td>18-Oct-2019</td><td>N</td><td>6</td><td>North Sydney Oval</td><td>N</td><td>Y</td></tr><tr><th>5</th><td>3551019</td><td>18-Oct-2019</td><td>N</td><td>6</td><td>North Sydney Oval</td><td>N</td><td>Y</td></tr><tr><th>6</th><td>3551019</td><td>18-Oct-2019</td><td>N</td><td>6</td><td>North Sydney Oval</td><td>N</td><td>Y</td></tr><tr><th>7</th><td>3551019</td><td>18-Oct-2019</td><td>N</td><td>6</td><td>North Sydney Oval</td><td>N</td><td>Y</td></tr><tr><th>8</th><td>3551019</td><td>18-Oct-2019</td><td>N</td><td>6</td><td>North Sydney Oval</td><td>N</td><td>Y</td></tr><tr><th>9</th><td>3551019</td><td>18-Oct-2019</td><td>N</td><td>6</td><td>North Sydney Oval</td><td>N</td><td>Y</td></tr><tr><th>10</th><td>3551019</td><td>18-Oct-2019</td><td>N</td><td>6</td><td>North Sydney Oval</td><td>N</td><td>Y</td></tr><tr><th>11</th><td>3551019</td><td>18-Oct-2019</td><td>N</td><td>6</td><td>North Sydney Oval</td><td>N</td><td>Y</td></tr><tr><th>12</th><td>3551019</td><td>18-Oct-2019</td><td>N</td><td>6</td><td>North Sydney Oval</td><td>N</td><td>Y</td></tr><tr><th>13</th><td>3551019</td><td>18-Oct-2019</td><td>N</td><td>6</td><td>North Sydney Oval</td><td>N</td><td>Y</td></tr><tr><th>14</th><td>3551019</td><td>18-Oct-2019</td><td>N</td><td>6</td><td>North Sydney Oval</td><td>N</td><td>Y</td></tr><tr><th>15</th><td>3551019</td><td>18-Oct-2019</td><td>N</td><td>6</td><td>North Sydney Oval</td><td>N</td><td>Y</td></tr><tr><th>16</th><td>3551019</td><td>18-Oct-2019</td><td>N</td><td>6</td><td>North Sydney Oval</td><td>N</td><td>Y</td></tr><tr><th>17</th><td>3551019</td><td>18-Oct-2019</td><td>N</td><td>6</td><td>North Sydney Oval</td><td>N</td><td>Y</td></tr><tr><th>18</th><td>3551019</td><td>18-Oct-2019</td><td>N</td><td>6</td><td>North Sydney Oval</td><td>N</td><td>Y</td></tr><tr><th>19</th><td>3551019</td><td>18-Oct-2019</td><td>N</td><td>6</td><td>North Sydney Oval</td><td>N</td><td>Y</td></tr><tr><th>20</th><td>3551019</td><td>18-Oct-2019</td><td>N</td><td>6</td><td>North Sydney Oval</td><td>N</td><td>Y</td></tr><tr><th>21</th><td>3551019</td><td>18-Oct-2019</td><td>N</td><td>6</td><td>North Sydney Oval</td><td>N</td><td>Y</td></tr><tr><th>22</th><td>3551019</td><td>18-Oct-2019</td><td>N</td><td>6</td><td>North Sydney Oval</td><td>N</td><td>Y</td></tr><tr><th>23</th><td>3551019</td><td>18-Oct-2019</td><td>N</td><td>6</td><td>North Sydney Oval</td><td>N</td><td>Y</td></tr><tr><th>24</th><td>3551019</td><td>18-Oct-2019</td><td>N</td><td>6</td><td>North Sydney Oval</td><td>N</td><td>Y</td></tr><tr><th>25</th><td>3551019</td><td>18-Oct-2019</td><td>N</td><td>6</td><td>North Sydney Oval</td><td>N</td><td>Y</td></tr><tr><th>26</th><td>3551019</td><td>18-Oct-2019</td><td>N</td><td>6</td><td>North Sydney Oval</td><td>N</td><td>Y</td></tr><tr><th>27</th><td>3551019</td><td>18-Oct-2019</td><td>N</td><td>6</td><td>North Sydney Oval</td><td>N</td><td>Y</td></tr><tr><th>28</th><td>3551019</td><td>18-Oct-2019</td><td>N</td><td>6</td><td>North Sydney Oval</td><td>N</td><td>Y</td></tr><tr><th>29</th><td>3551019</td><td>18-Oct-2019</td><td>N</td><td>6</td><td>North Sydney Oval</td><td>N</td><td>Y</td></tr><tr><th>30</th><td>3551019</td><td>18-Oct-2019</td><td>N</td><td>6</td><td>North Sydney Oval</td><td>N</td><td>Y</td></tr><tr><th>&vellip;</th><td>&vellip;</td><td>&vellip;</td><td>&vellip;</td><td>&vellip;</td><td>&vellip;</td><td>&vellip;</td><td>&vellip;</td></tr></tbody></table>"
      ],
      "text/latex": [
       "\\begin{tabular}{r|cccccccc}\n",
       "\t& Match\\_Id & Match\\_Date & Day\\_Night & Venue\\_Id & Venue & TeamB\\_At\\_Home & Team\\_Batting\\_At\\_Home & \\\\\n",
       "\t\\hline\n",
       "\t& Int64 & String & String & Int64 & String & String & String & \\\\\n",
       "\t\\hline\n",
       "\t1 & 3551019 & 18-Oct-2019 & N & 6 & North Sydney Oval & N & Y & $\\dots$ \\\\\n",
       "\t2 & 3551019 & 18-Oct-2019 & N & 6 & North Sydney Oval & N & Y & $\\dots$ \\\\\n",
       "\t3 & 3551019 & 18-Oct-2019 & N & 6 & North Sydney Oval & N & Y & $\\dots$ \\\\\n",
       "\t4 & 3551019 & 18-Oct-2019 & N & 6 & North Sydney Oval & N & Y & $\\dots$ \\\\\n",
       "\t5 & 3551019 & 18-Oct-2019 & N & 6 & North Sydney Oval & N & Y & $\\dots$ \\\\\n",
       "\t6 & 3551019 & 18-Oct-2019 & N & 6 & North Sydney Oval & N & Y & $\\dots$ \\\\\n",
       "\t7 & 3551019 & 18-Oct-2019 & N & 6 & North Sydney Oval & N & Y & $\\dots$ \\\\\n",
       "\t8 & 3551019 & 18-Oct-2019 & N & 6 & North Sydney Oval & N & Y & $\\dots$ \\\\\n",
       "\t9 & 3551019 & 18-Oct-2019 & N & 6 & North Sydney Oval & N & Y & $\\dots$ \\\\\n",
       "\t10 & 3551019 & 18-Oct-2019 & N & 6 & North Sydney Oval & N & Y & $\\dots$ \\\\\n",
       "\t11 & 3551019 & 18-Oct-2019 & N & 6 & North Sydney Oval & N & Y & $\\dots$ \\\\\n",
       "\t12 & 3551019 & 18-Oct-2019 & N & 6 & North Sydney Oval & N & Y & $\\dots$ \\\\\n",
       "\t13 & 3551019 & 18-Oct-2019 & N & 6 & North Sydney Oval & N & Y & $\\dots$ \\\\\n",
       "\t14 & 3551019 & 18-Oct-2019 & N & 6 & North Sydney Oval & N & Y & $\\dots$ \\\\\n",
       "\t15 & 3551019 & 18-Oct-2019 & N & 6 & North Sydney Oval & N & Y & $\\dots$ \\\\\n",
       "\t16 & 3551019 & 18-Oct-2019 & N & 6 & North Sydney Oval & N & Y & $\\dots$ \\\\\n",
       "\t17 & 3551019 & 18-Oct-2019 & N & 6 & North Sydney Oval & N & Y & $\\dots$ \\\\\n",
       "\t18 & 3551019 & 18-Oct-2019 & N & 6 & North Sydney Oval & N & Y & $\\dots$ \\\\\n",
       "\t19 & 3551019 & 18-Oct-2019 & N & 6 & North Sydney Oval & N & Y & $\\dots$ \\\\\n",
       "\t20 & 3551019 & 18-Oct-2019 & N & 6 & North Sydney Oval & N & Y & $\\dots$ \\\\\n",
       "\t21 & 3551019 & 18-Oct-2019 & N & 6 & North Sydney Oval & N & Y & $\\dots$ \\\\\n",
       "\t22 & 3551019 & 18-Oct-2019 & N & 6 & North Sydney Oval & N & Y & $\\dots$ \\\\\n",
       "\t23 & 3551019 & 18-Oct-2019 & N & 6 & North Sydney Oval & N & Y & $\\dots$ \\\\\n",
       "\t24 & 3551019 & 18-Oct-2019 & N & 6 & North Sydney Oval & N & Y & $\\dots$ \\\\\n",
       "\t25 & 3551019 & 18-Oct-2019 & N & 6 & North Sydney Oval & N & Y & $\\dots$ \\\\\n",
       "\t26 & 3551019 & 18-Oct-2019 & N & 6 & North Sydney Oval & N & Y & $\\dots$ \\\\\n",
       "\t27 & 3551019 & 18-Oct-2019 & N & 6 & North Sydney Oval & N & Y & $\\dots$ \\\\\n",
       "\t28 & 3551019 & 18-Oct-2019 & N & 6 & North Sydney Oval & N & Y & $\\dots$ \\\\\n",
       "\t29 & 3551019 & 18-Oct-2019 & N & 6 & North Sydney Oval & N & Y & $\\dots$ \\\\\n",
       "\t30 & 3551019 & 18-Oct-2019 & N & 6 & North Sydney Oval & N & Y & $\\dots$ \\\\\n",
       "\t$\\dots$ & $\\dots$ & $\\dots$ & $\\dots$ & $\\dots$ & $\\dots$ & $\\dots$ & $\\dots$ &  \\\\\n",
       "\\end{tabular}\n"
      ],
      "text/plain": [
       "13751×190 DataFrame. Omitted printing of 185 columns\n",
       "│ Row   │ Match_Id │ Match_Date  │ Day_Night │ Venue_Id │ Venue              │\n",
       "│       │ \u001b[90mInt64\u001b[39m    │ \u001b[90mString\u001b[39m      │ \u001b[90mString\u001b[39m    │ \u001b[90mInt64\u001b[39m    │ \u001b[90mString\u001b[39m             │\n",
       "├───────┼──────────┼─────────────┼───────────┼──────────┼────────────────────┤\n",
       "│ 1     │ 3551019  │ 18-Oct-2019 │ N         │ 6        │ North Sydney Oval  │\n",
       "│ 2     │ 3551019  │ 18-Oct-2019 │ N         │ 6        │ North Sydney Oval  │\n",
       "│ 3     │ 3551019  │ 18-Oct-2019 │ N         │ 6        │ North Sydney Oval  │\n",
       "│ 4     │ 3551019  │ 18-Oct-2019 │ N         │ 6        │ North Sydney Oval  │\n",
       "│ 5     │ 3551019  │ 18-Oct-2019 │ N         │ 6        │ North Sydney Oval  │\n",
       "│ 6     │ 3551019  │ 18-Oct-2019 │ N         │ 6        │ North Sydney Oval  │\n",
       "│ 7     │ 3551019  │ 18-Oct-2019 │ N         │ 6        │ North Sydney Oval  │\n",
       "│ 8     │ 3551019  │ 18-Oct-2019 │ N         │ 6        │ North Sydney Oval  │\n",
       "│ 9     │ 3551019  │ 18-Oct-2019 │ N         │ 6        │ North Sydney Oval  │\n",
       "│ 10    │ 3551019  │ 18-Oct-2019 │ N         │ 6        │ North Sydney Oval  │\n",
       "⋮\n",
       "│ 13741 │ 4390125  │ 08-Dec-2019 │ N         │ 1002     │ Allan Border Field │\n",
       "│ 13742 │ 4390125  │ 08-Dec-2019 │ N         │ 1002     │ Allan Border Field │\n",
       "│ 13743 │ 4390125  │ 08-Dec-2019 │ N         │ 1002     │ Allan Border Field │\n",
       "│ 13744 │ 4390125  │ 08-Dec-2019 │ N         │ 1002     │ Allan Border Field │\n",
       "│ 13745 │ 4390125  │ 08-Dec-2019 │ N         │ 1002     │ Allan Border Field │\n",
       "│ 13746 │ 4390125  │ 08-Dec-2019 │ N         │ 1002     │ Allan Border Field │\n",
       "│ 13747 │ 4390125  │ 08-Dec-2019 │ N         │ 1002     │ Allan Border Field │\n",
       "│ 13748 │ 4390125  │ 08-Dec-2019 │ N         │ 1002     │ Allan Border Field │\n",
       "│ 13749 │ 4390125  │ 08-Dec-2019 │ N         │ 1002     │ Allan Border Field │\n",
       "│ 13750 │ 4390125  │ 08-Dec-2019 │ N         │ 1002     │ Allan Border Field │\n",
       "│ 13751 │ 4390125  │ 08-Dec-2019 │ N         │ 1002     │ Allan Border Field │"
      ]
     },
     "execution_count": 110,
     "metadata": {},
     "output_type": "execute_result"
    }
   ],
   "source": [
    "select!(df, Not([\"Bowler_Id\", \"Bowler_Hand_Id\"]))"
   ]
  },
  {
   "cell_type": "code",
   "execution_count": 123,
   "metadata": {},
   "outputs": [
    {
     "data": {
      "text/html": [
       "<table class=\"data-frame\"><thead><tr><th></th><th>Match_Id</th><th>Match_Date</th><th>Day_Night</th><th>Venue_Id</th><th>Venue</th><th>TeamB_At_Home</th><th>Team_Batting_At_Home</th></tr><tr><th></th><th>Int64</th><th>String</th><th>String</th><th>Int64</th><th>String</th><th>String</th><th>String</th></tr></thead><tbody><p>13,751 rows × 189 columns (omitted printing of 182 columns)</p><tr><th>1</th><td>3551019</td><td>18-Oct-2019</td><td>N</td><td>6</td><td>North Sydney Oval</td><td>N</td><td>Y</td></tr><tr><th>2</th><td>3551019</td><td>18-Oct-2019</td><td>N</td><td>6</td><td>North Sydney Oval</td><td>N</td><td>Y</td></tr><tr><th>3</th><td>3551019</td><td>18-Oct-2019</td><td>N</td><td>6</td><td>North Sydney Oval</td><td>N</td><td>Y</td></tr><tr><th>4</th><td>3551019</td><td>18-Oct-2019</td><td>N</td><td>6</td><td>North Sydney Oval</td><td>N</td><td>Y</td></tr><tr><th>5</th><td>3551019</td><td>18-Oct-2019</td><td>N</td><td>6</td><td>North Sydney Oval</td><td>N</td><td>Y</td></tr><tr><th>6</th><td>3551019</td><td>18-Oct-2019</td><td>N</td><td>6</td><td>North Sydney Oval</td><td>N</td><td>Y</td></tr><tr><th>7</th><td>3551019</td><td>18-Oct-2019</td><td>N</td><td>6</td><td>North Sydney Oval</td><td>N</td><td>Y</td></tr><tr><th>8</th><td>3551019</td><td>18-Oct-2019</td><td>N</td><td>6</td><td>North Sydney Oval</td><td>N</td><td>Y</td></tr><tr><th>9</th><td>3551019</td><td>18-Oct-2019</td><td>N</td><td>6</td><td>North Sydney Oval</td><td>N</td><td>Y</td></tr><tr><th>10</th><td>3551019</td><td>18-Oct-2019</td><td>N</td><td>6</td><td>North Sydney Oval</td><td>N</td><td>Y</td></tr><tr><th>11</th><td>3551019</td><td>18-Oct-2019</td><td>N</td><td>6</td><td>North Sydney Oval</td><td>N</td><td>Y</td></tr><tr><th>12</th><td>3551019</td><td>18-Oct-2019</td><td>N</td><td>6</td><td>North Sydney Oval</td><td>N</td><td>Y</td></tr><tr><th>13</th><td>3551019</td><td>18-Oct-2019</td><td>N</td><td>6</td><td>North Sydney Oval</td><td>N</td><td>Y</td></tr><tr><th>14</th><td>3551019</td><td>18-Oct-2019</td><td>N</td><td>6</td><td>North Sydney Oval</td><td>N</td><td>Y</td></tr><tr><th>15</th><td>3551019</td><td>18-Oct-2019</td><td>N</td><td>6</td><td>North Sydney Oval</td><td>N</td><td>Y</td></tr><tr><th>16</th><td>3551019</td><td>18-Oct-2019</td><td>N</td><td>6</td><td>North Sydney Oval</td><td>N</td><td>Y</td></tr><tr><th>17</th><td>3551019</td><td>18-Oct-2019</td><td>N</td><td>6</td><td>North Sydney Oval</td><td>N</td><td>Y</td></tr><tr><th>18</th><td>3551019</td><td>18-Oct-2019</td><td>N</td><td>6</td><td>North Sydney Oval</td><td>N</td><td>Y</td></tr><tr><th>19</th><td>3551019</td><td>18-Oct-2019</td><td>N</td><td>6</td><td>North Sydney Oval</td><td>N</td><td>Y</td></tr><tr><th>20</th><td>3551019</td><td>18-Oct-2019</td><td>N</td><td>6</td><td>North Sydney Oval</td><td>N</td><td>Y</td></tr><tr><th>21</th><td>3551019</td><td>18-Oct-2019</td><td>N</td><td>6</td><td>North Sydney Oval</td><td>N</td><td>Y</td></tr><tr><th>22</th><td>3551019</td><td>18-Oct-2019</td><td>N</td><td>6</td><td>North Sydney Oval</td><td>N</td><td>Y</td></tr><tr><th>23</th><td>3551019</td><td>18-Oct-2019</td><td>N</td><td>6</td><td>North Sydney Oval</td><td>N</td><td>Y</td></tr><tr><th>24</th><td>3551019</td><td>18-Oct-2019</td><td>N</td><td>6</td><td>North Sydney Oval</td><td>N</td><td>Y</td></tr><tr><th>25</th><td>3551019</td><td>18-Oct-2019</td><td>N</td><td>6</td><td>North Sydney Oval</td><td>N</td><td>Y</td></tr><tr><th>26</th><td>3551019</td><td>18-Oct-2019</td><td>N</td><td>6</td><td>North Sydney Oval</td><td>N</td><td>Y</td></tr><tr><th>27</th><td>3551019</td><td>18-Oct-2019</td><td>N</td><td>6</td><td>North Sydney Oval</td><td>N</td><td>Y</td></tr><tr><th>28</th><td>3551019</td><td>18-Oct-2019</td><td>N</td><td>6</td><td>North Sydney Oval</td><td>N</td><td>Y</td></tr><tr><th>29</th><td>3551019</td><td>18-Oct-2019</td><td>N</td><td>6</td><td>North Sydney Oval</td><td>N</td><td>Y</td></tr><tr><th>30</th><td>3551019</td><td>18-Oct-2019</td><td>N</td><td>6</td><td>North Sydney Oval</td><td>N</td><td>Y</td></tr><tr><th>&vellip;</th><td>&vellip;</td><td>&vellip;</td><td>&vellip;</td><td>&vellip;</td><td>&vellip;</td><td>&vellip;</td><td>&vellip;</td></tr></tbody></table>"
      ],
      "text/latex": [
       "\\begin{tabular}{r|cccccccc}\n",
       "\t& Match\\_Id & Match\\_Date & Day\\_Night & Venue\\_Id & Venue & TeamB\\_At\\_Home & Team\\_Batting\\_At\\_Home & \\\\\n",
       "\t\\hline\n",
       "\t& Int64 & String & String & Int64 & String & String & String & \\\\\n",
       "\t\\hline\n",
       "\t1 & 3551019 & 18-Oct-2019 & N & 6 & North Sydney Oval & N & Y & $\\dots$ \\\\\n",
       "\t2 & 3551019 & 18-Oct-2019 & N & 6 & North Sydney Oval & N & Y & $\\dots$ \\\\\n",
       "\t3 & 3551019 & 18-Oct-2019 & N & 6 & North Sydney Oval & N & Y & $\\dots$ \\\\\n",
       "\t4 & 3551019 & 18-Oct-2019 & N & 6 & North Sydney Oval & N & Y & $\\dots$ \\\\\n",
       "\t5 & 3551019 & 18-Oct-2019 & N & 6 & North Sydney Oval & N & Y & $\\dots$ \\\\\n",
       "\t6 & 3551019 & 18-Oct-2019 & N & 6 & North Sydney Oval & N & Y & $\\dots$ \\\\\n",
       "\t7 & 3551019 & 18-Oct-2019 & N & 6 & North Sydney Oval & N & Y & $\\dots$ \\\\\n",
       "\t8 & 3551019 & 18-Oct-2019 & N & 6 & North Sydney Oval & N & Y & $\\dots$ \\\\\n",
       "\t9 & 3551019 & 18-Oct-2019 & N & 6 & North Sydney Oval & N & Y & $\\dots$ \\\\\n",
       "\t10 & 3551019 & 18-Oct-2019 & N & 6 & North Sydney Oval & N & Y & $\\dots$ \\\\\n",
       "\t11 & 3551019 & 18-Oct-2019 & N & 6 & North Sydney Oval & N & Y & $\\dots$ \\\\\n",
       "\t12 & 3551019 & 18-Oct-2019 & N & 6 & North Sydney Oval & N & Y & $\\dots$ \\\\\n",
       "\t13 & 3551019 & 18-Oct-2019 & N & 6 & North Sydney Oval & N & Y & $\\dots$ \\\\\n",
       "\t14 & 3551019 & 18-Oct-2019 & N & 6 & North Sydney Oval & N & Y & $\\dots$ \\\\\n",
       "\t15 & 3551019 & 18-Oct-2019 & N & 6 & North Sydney Oval & N & Y & $\\dots$ \\\\\n",
       "\t16 & 3551019 & 18-Oct-2019 & N & 6 & North Sydney Oval & N & Y & $\\dots$ \\\\\n",
       "\t17 & 3551019 & 18-Oct-2019 & N & 6 & North Sydney Oval & N & Y & $\\dots$ \\\\\n",
       "\t18 & 3551019 & 18-Oct-2019 & N & 6 & North Sydney Oval & N & Y & $\\dots$ \\\\\n",
       "\t19 & 3551019 & 18-Oct-2019 & N & 6 & North Sydney Oval & N & Y & $\\dots$ \\\\\n",
       "\t20 & 3551019 & 18-Oct-2019 & N & 6 & North Sydney Oval & N & Y & $\\dots$ \\\\\n",
       "\t21 & 3551019 & 18-Oct-2019 & N & 6 & North Sydney Oval & N & Y & $\\dots$ \\\\\n",
       "\t22 & 3551019 & 18-Oct-2019 & N & 6 & North Sydney Oval & N & Y & $\\dots$ \\\\\n",
       "\t23 & 3551019 & 18-Oct-2019 & N & 6 & North Sydney Oval & N & Y & $\\dots$ \\\\\n",
       "\t24 & 3551019 & 18-Oct-2019 & N & 6 & North Sydney Oval & N & Y & $\\dots$ \\\\\n",
       "\t25 & 3551019 & 18-Oct-2019 & N & 6 & North Sydney Oval & N & Y & $\\dots$ \\\\\n",
       "\t26 & 3551019 & 18-Oct-2019 & N & 6 & North Sydney Oval & N & Y & $\\dots$ \\\\\n",
       "\t27 & 3551019 & 18-Oct-2019 & N & 6 & North Sydney Oval & N & Y & $\\dots$ \\\\\n",
       "\t28 & 3551019 & 18-Oct-2019 & N & 6 & North Sydney Oval & N & Y & $\\dots$ \\\\\n",
       "\t29 & 3551019 & 18-Oct-2019 & N & 6 & North Sydney Oval & N & Y & $\\dots$ \\\\\n",
       "\t30 & 3551019 & 18-Oct-2019 & N & 6 & North Sydney Oval & N & Y & $\\dots$ \\\\\n",
       "\t$\\dots$ & $\\dots$ & $\\dots$ & $\\dots$ & $\\dots$ & $\\dots$ & $\\dots$ & $\\dots$ &  \\\\\n",
       "\\end{tabular}\n"
      ],
      "text/plain": [
       "13751×189 DataFrame. Omitted printing of 184 columns\n",
       "│ Row   │ Match_Id │ Match_Date  │ Day_Night │ Venue_Id │ Venue              │\n",
       "│       │ \u001b[90mInt64\u001b[39m    │ \u001b[90mString\u001b[39m      │ \u001b[90mString\u001b[39m    │ \u001b[90mInt64\u001b[39m    │ \u001b[90mString\u001b[39m             │\n",
       "├───────┼──────────┼─────────────┼───────────┼──────────┼────────────────────┤\n",
       "│ 1     │ 3551019  │ 18-Oct-2019 │ N         │ 6        │ North Sydney Oval  │\n",
       "│ 2     │ 3551019  │ 18-Oct-2019 │ N         │ 6        │ North Sydney Oval  │\n",
       "│ 3     │ 3551019  │ 18-Oct-2019 │ N         │ 6        │ North Sydney Oval  │\n",
       "│ 4     │ 3551019  │ 18-Oct-2019 │ N         │ 6        │ North Sydney Oval  │\n",
       "│ 5     │ 3551019  │ 18-Oct-2019 │ N         │ 6        │ North Sydney Oval  │\n",
       "│ 6     │ 3551019  │ 18-Oct-2019 │ N         │ 6        │ North Sydney Oval  │\n",
       "│ 7     │ 3551019  │ 18-Oct-2019 │ N         │ 6        │ North Sydney Oval  │\n",
       "│ 8     │ 3551019  │ 18-Oct-2019 │ N         │ 6        │ North Sydney Oval  │\n",
       "│ 9     │ 3551019  │ 18-Oct-2019 │ N         │ 6        │ North Sydney Oval  │\n",
       "│ 10    │ 3551019  │ 18-Oct-2019 │ N         │ 6        │ North Sydney Oval  │\n",
       "⋮\n",
       "│ 13741 │ 4390125  │ 08-Dec-2019 │ N         │ 1002     │ Allan Border Field │\n",
       "│ 13742 │ 4390125  │ 08-Dec-2019 │ N         │ 1002     │ Allan Border Field │\n",
       "│ 13743 │ 4390125  │ 08-Dec-2019 │ N         │ 1002     │ Allan Border Field │\n",
       "│ 13744 │ 4390125  │ 08-Dec-2019 │ N         │ 1002     │ Allan Border Field │\n",
       "│ 13745 │ 4390125  │ 08-Dec-2019 │ N         │ 1002     │ Allan Border Field │\n",
       "│ 13746 │ 4390125  │ 08-Dec-2019 │ N         │ 1002     │ Allan Border Field │\n",
       "│ 13747 │ 4390125  │ 08-Dec-2019 │ N         │ 1002     │ Allan Border Field │\n",
       "│ 13748 │ 4390125  │ 08-Dec-2019 │ N         │ 1002     │ Allan Border Field │\n",
       "│ 13749 │ 4390125  │ 08-Dec-2019 │ N         │ 1002     │ Allan Border Field │\n",
       "│ 13750 │ 4390125  │ 08-Dec-2019 │ N         │ 1002     │ Allan Border Field │\n",
       "│ 13751 │ 4390125  │ 08-Dec-2019 │ N         │ 1002     │ Allan Border Field │"
      ]
     },
     "execution_count": 123,
     "metadata": {},
     "output_type": "execute_result"
    }
   ],
   "source": [
    "select!(df, Not(\"Batter_Out_Id\"))"
   ]
  },
  {
   "cell_type": "code",
   "execution_count": 125,
   "metadata": {},
   "outputs": [
    {
     "data": {
      "text/html": [
       "<table class=\"data-frame\"><thead><tr><th></th><th>Match_Id</th><th>Match_Date</th><th>Day_Night</th><th>Venue_Id</th><th>Venue</th><th>TeamB_At_Home</th><th>Team_Batting_At_Home</th></tr><tr><th></th><th>Int64</th><th>String</th><th>String</th><th>Int64</th><th>String</th><th>String</th><th>String</th></tr></thead><tbody><p>13,751 rows × 188 columns (omitted printing of 181 columns)</p><tr><th>1</th><td>3551019</td><td>18-Oct-2019</td><td>N</td><td>6</td><td>North Sydney Oval</td><td>N</td><td>Y</td></tr><tr><th>2</th><td>3551019</td><td>18-Oct-2019</td><td>N</td><td>6</td><td>North Sydney Oval</td><td>N</td><td>Y</td></tr><tr><th>3</th><td>3551019</td><td>18-Oct-2019</td><td>N</td><td>6</td><td>North Sydney Oval</td><td>N</td><td>Y</td></tr><tr><th>4</th><td>3551019</td><td>18-Oct-2019</td><td>N</td><td>6</td><td>North Sydney Oval</td><td>N</td><td>Y</td></tr><tr><th>5</th><td>3551019</td><td>18-Oct-2019</td><td>N</td><td>6</td><td>North Sydney Oval</td><td>N</td><td>Y</td></tr><tr><th>6</th><td>3551019</td><td>18-Oct-2019</td><td>N</td><td>6</td><td>North Sydney Oval</td><td>N</td><td>Y</td></tr><tr><th>7</th><td>3551019</td><td>18-Oct-2019</td><td>N</td><td>6</td><td>North Sydney Oval</td><td>N</td><td>Y</td></tr><tr><th>8</th><td>3551019</td><td>18-Oct-2019</td><td>N</td><td>6</td><td>North Sydney Oval</td><td>N</td><td>Y</td></tr><tr><th>9</th><td>3551019</td><td>18-Oct-2019</td><td>N</td><td>6</td><td>North Sydney Oval</td><td>N</td><td>Y</td></tr><tr><th>10</th><td>3551019</td><td>18-Oct-2019</td><td>N</td><td>6</td><td>North Sydney Oval</td><td>N</td><td>Y</td></tr><tr><th>11</th><td>3551019</td><td>18-Oct-2019</td><td>N</td><td>6</td><td>North Sydney Oval</td><td>N</td><td>Y</td></tr><tr><th>12</th><td>3551019</td><td>18-Oct-2019</td><td>N</td><td>6</td><td>North Sydney Oval</td><td>N</td><td>Y</td></tr><tr><th>13</th><td>3551019</td><td>18-Oct-2019</td><td>N</td><td>6</td><td>North Sydney Oval</td><td>N</td><td>Y</td></tr><tr><th>14</th><td>3551019</td><td>18-Oct-2019</td><td>N</td><td>6</td><td>North Sydney Oval</td><td>N</td><td>Y</td></tr><tr><th>15</th><td>3551019</td><td>18-Oct-2019</td><td>N</td><td>6</td><td>North Sydney Oval</td><td>N</td><td>Y</td></tr><tr><th>16</th><td>3551019</td><td>18-Oct-2019</td><td>N</td><td>6</td><td>North Sydney Oval</td><td>N</td><td>Y</td></tr><tr><th>17</th><td>3551019</td><td>18-Oct-2019</td><td>N</td><td>6</td><td>North Sydney Oval</td><td>N</td><td>Y</td></tr><tr><th>18</th><td>3551019</td><td>18-Oct-2019</td><td>N</td><td>6</td><td>North Sydney Oval</td><td>N</td><td>Y</td></tr><tr><th>19</th><td>3551019</td><td>18-Oct-2019</td><td>N</td><td>6</td><td>North Sydney Oval</td><td>N</td><td>Y</td></tr><tr><th>20</th><td>3551019</td><td>18-Oct-2019</td><td>N</td><td>6</td><td>North Sydney Oval</td><td>N</td><td>Y</td></tr><tr><th>21</th><td>3551019</td><td>18-Oct-2019</td><td>N</td><td>6</td><td>North Sydney Oval</td><td>N</td><td>Y</td></tr><tr><th>22</th><td>3551019</td><td>18-Oct-2019</td><td>N</td><td>6</td><td>North Sydney Oval</td><td>N</td><td>Y</td></tr><tr><th>23</th><td>3551019</td><td>18-Oct-2019</td><td>N</td><td>6</td><td>North Sydney Oval</td><td>N</td><td>Y</td></tr><tr><th>24</th><td>3551019</td><td>18-Oct-2019</td><td>N</td><td>6</td><td>North Sydney Oval</td><td>N</td><td>Y</td></tr><tr><th>25</th><td>3551019</td><td>18-Oct-2019</td><td>N</td><td>6</td><td>North Sydney Oval</td><td>N</td><td>Y</td></tr><tr><th>26</th><td>3551019</td><td>18-Oct-2019</td><td>N</td><td>6</td><td>North Sydney Oval</td><td>N</td><td>Y</td></tr><tr><th>27</th><td>3551019</td><td>18-Oct-2019</td><td>N</td><td>6</td><td>North Sydney Oval</td><td>N</td><td>Y</td></tr><tr><th>28</th><td>3551019</td><td>18-Oct-2019</td><td>N</td><td>6</td><td>North Sydney Oval</td><td>N</td><td>Y</td></tr><tr><th>29</th><td>3551019</td><td>18-Oct-2019</td><td>N</td><td>6</td><td>North Sydney Oval</td><td>N</td><td>Y</td></tr><tr><th>30</th><td>3551019</td><td>18-Oct-2019</td><td>N</td><td>6</td><td>North Sydney Oval</td><td>N</td><td>Y</td></tr><tr><th>&vellip;</th><td>&vellip;</td><td>&vellip;</td><td>&vellip;</td><td>&vellip;</td><td>&vellip;</td><td>&vellip;</td><td>&vellip;</td></tr></tbody></table>"
      ],
      "text/latex": [
       "\\begin{tabular}{r|cccccccc}\n",
       "\t& Match\\_Id & Match\\_Date & Day\\_Night & Venue\\_Id & Venue & TeamB\\_At\\_Home & Team\\_Batting\\_At\\_Home & \\\\\n",
       "\t\\hline\n",
       "\t& Int64 & String & String & Int64 & String & String & String & \\\\\n",
       "\t\\hline\n",
       "\t1 & 3551019 & 18-Oct-2019 & N & 6 & North Sydney Oval & N & Y & $\\dots$ \\\\\n",
       "\t2 & 3551019 & 18-Oct-2019 & N & 6 & North Sydney Oval & N & Y & $\\dots$ \\\\\n",
       "\t3 & 3551019 & 18-Oct-2019 & N & 6 & North Sydney Oval & N & Y & $\\dots$ \\\\\n",
       "\t4 & 3551019 & 18-Oct-2019 & N & 6 & North Sydney Oval & N & Y & $\\dots$ \\\\\n",
       "\t5 & 3551019 & 18-Oct-2019 & N & 6 & North Sydney Oval & N & Y & $\\dots$ \\\\\n",
       "\t6 & 3551019 & 18-Oct-2019 & N & 6 & North Sydney Oval & N & Y & $\\dots$ \\\\\n",
       "\t7 & 3551019 & 18-Oct-2019 & N & 6 & North Sydney Oval & N & Y & $\\dots$ \\\\\n",
       "\t8 & 3551019 & 18-Oct-2019 & N & 6 & North Sydney Oval & N & Y & $\\dots$ \\\\\n",
       "\t9 & 3551019 & 18-Oct-2019 & N & 6 & North Sydney Oval & N & Y & $\\dots$ \\\\\n",
       "\t10 & 3551019 & 18-Oct-2019 & N & 6 & North Sydney Oval & N & Y & $\\dots$ \\\\\n",
       "\t11 & 3551019 & 18-Oct-2019 & N & 6 & North Sydney Oval & N & Y & $\\dots$ \\\\\n",
       "\t12 & 3551019 & 18-Oct-2019 & N & 6 & North Sydney Oval & N & Y & $\\dots$ \\\\\n",
       "\t13 & 3551019 & 18-Oct-2019 & N & 6 & North Sydney Oval & N & Y & $\\dots$ \\\\\n",
       "\t14 & 3551019 & 18-Oct-2019 & N & 6 & North Sydney Oval & N & Y & $\\dots$ \\\\\n",
       "\t15 & 3551019 & 18-Oct-2019 & N & 6 & North Sydney Oval & N & Y & $\\dots$ \\\\\n",
       "\t16 & 3551019 & 18-Oct-2019 & N & 6 & North Sydney Oval & N & Y & $\\dots$ \\\\\n",
       "\t17 & 3551019 & 18-Oct-2019 & N & 6 & North Sydney Oval & N & Y & $\\dots$ \\\\\n",
       "\t18 & 3551019 & 18-Oct-2019 & N & 6 & North Sydney Oval & N & Y & $\\dots$ \\\\\n",
       "\t19 & 3551019 & 18-Oct-2019 & N & 6 & North Sydney Oval & N & Y & $\\dots$ \\\\\n",
       "\t20 & 3551019 & 18-Oct-2019 & N & 6 & North Sydney Oval & N & Y & $\\dots$ \\\\\n",
       "\t21 & 3551019 & 18-Oct-2019 & N & 6 & North Sydney Oval & N & Y & $\\dots$ \\\\\n",
       "\t22 & 3551019 & 18-Oct-2019 & N & 6 & North Sydney Oval & N & Y & $\\dots$ \\\\\n",
       "\t23 & 3551019 & 18-Oct-2019 & N & 6 & North Sydney Oval & N & Y & $\\dots$ \\\\\n",
       "\t24 & 3551019 & 18-Oct-2019 & N & 6 & North Sydney Oval & N & Y & $\\dots$ \\\\\n",
       "\t25 & 3551019 & 18-Oct-2019 & N & 6 & North Sydney Oval & N & Y & $\\dots$ \\\\\n",
       "\t26 & 3551019 & 18-Oct-2019 & N & 6 & North Sydney Oval & N & Y & $\\dots$ \\\\\n",
       "\t27 & 3551019 & 18-Oct-2019 & N & 6 & North Sydney Oval & N & Y & $\\dots$ \\\\\n",
       "\t28 & 3551019 & 18-Oct-2019 & N & 6 & North Sydney Oval & N & Y & $\\dots$ \\\\\n",
       "\t29 & 3551019 & 18-Oct-2019 & N & 6 & North Sydney Oval & N & Y & $\\dots$ \\\\\n",
       "\t30 & 3551019 & 18-Oct-2019 & N & 6 & North Sydney Oval & N & Y & $\\dots$ \\\\\n",
       "\t$\\dots$ & $\\dots$ & $\\dots$ & $\\dots$ & $\\dots$ & $\\dots$ & $\\dots$ & $\\dots$ &  \\\\\n",
       "\\end{tabular}\n"
      ],
      "text/plain": [
       "13751×188 DataFrame. Omitted printing of 183 columns\n",
       "│ Row   │ Match_Id │ Match_Date  │ Day_Night │ Venue_Id │ Venue              │\n",
       "│       │ \u001b[90mInt64\u001b[39m    │ \u001b[90mString\u001b[39m      │ \u001b[90mString\u001b[39m    │ \u001b[90mInt64\u001b[39m    │ \u001b[90mString\u001b[39m             │\n",
       "├───────┼──────────┼─────────────┼───────────┼──────────┼────────────────────┤\n",
       "│ 1     │ 3551019  │ 18-Oct-2019 │ N         │ 6        │ North Sydney Oval  │\n",
       "│ 2     │ 3551019  │ 18-Oct-2019 │ N         │ 6        │ North Sydney Oval  │\n",
       "│ 3     │ 3551019  │ 18-Oct-2019 │ N         │ 6        │ North Sydney Oval  │\n",
       "│ 4     │ 3551019  │ 18-Oct-2019 │ N         │ 6        │ North Sydney Oval  │\n",
       "│ 5     │ 3551019  │ 18-Oct-2019 │ N         │ 6        │ North Sydney Oval  │\n",
       "│ 6     │ 3551019  │ 18-Oct-2019 │ N         │ 6        │ North Sydney Oval  │\n",
       "│ 7     │ 3551019  │ 18-Oct-2019 │ N         │ 6        │ North Sydney Oval  │\n",
       "│ 8     │ 3551019  │ 18-Oct-2019 │ N         │ 6        │ North Sydney Oval  │\n",
       "│ 9     │ 3551019  │ 18-Oct-2019 │ N         │ 6        │ North Sydney Oval  │\n",
       "│ 10    │ 3551019  │ 18-Oct-2019 │ N         │ 6        │ North Sydney Oval  │\n",
       "⋮\n",
       "│ 13741 │ 4390125  │ 08-Dec-2019 │ N         │ 1002     │ Allan Border Field │\n",
       "│ 13742 │ 4390125  │ 08-Dec-2019 │ N         │ 1002     │ Allan Border Field │\n",
       "│ 13743 │ 4390125  │ 08-Dec-2019 │ N         │ 1002     │ Allan Border Field │\n",
       "│ 13744 │ 4390125  │ 08-Dec-2019 │ N         │ 1002     │ Allan Border Field │\n",
       "│ 13745 │ 4390125  │ 08-Dec-2019 │ N         │ 1002     │ Allan Border Field │\n",
       "│ 13746 │ 4390125  │ 08-Dec-2019 │ N         │ 1002     │ Allan Border Field │\n",
       "│ 13747 │ 4390125  │ 08-Dec-2019 │ N         │ 1002     │ Allan Border Field │\n",
       "│ 13748 │ 4390125  │ 08-Dec-2019 │ N         │ 1002     │ Allan Border Field │\n",
       "│ 13749 │ 4390125  │ 08-Dec-2019 │ N         │ 1002     │ Allan Border Field │\n",
       "│ 13750 │ 4390125  │ 08-Dec-2019 │ N         │ 1002     │ Allan Border Field │\n",
       "│ 13751 │ 4390125  │ 08-Dec-2019 │ N         │ 1002     │ Allan Border Field │"
      ]
     },
     "execution_count": 125,
     "metadata": {},
     "output_type": "execute_result"
    }
   ],
   "source": [
    "select!(df, Not(\"Fielder1_Id\"))"
   ]
  },
  {
   "cell_type": "code",
   "execution_count": 156,
   "metadata": {},
   "outputs": [
    {
     "data": {
      "text/html": [
       "<table class=\"data-frame\"><thead><tr><th></th><th>Match_Id</th><th>Match_Date</th><th>Day_Night</th><th>Venue_Id</th><th>Venue</th><th>TeamB_At_Home</th><th>Team_Batting_At_Home</th></tr><tr><th></th><th>Int64</th><th>String</th><th>String</th><th>Int64</th><th>String</th><th>String</th><th>String</th></tr></thead><tbody><p>13,751 rows × 178 columns (omitted printing of 171 columns)</p><tr><th>1</th><td>3551019</td><td>18-Oct-2019</td><td>N</td><td>6</td><td>North Sydney Oval</td><td>N</td><td>Y</td></tr><tr><th>2</th><td>3551019</td><td>18-Oct-2019</td><td>N</td><td>6</td><td>North Sydney Oval</td><td>N</td><td>Y</td></tr><tr><th>3</th><td>3551019</td><td>18-Oct-2019</td><td>N</td><td>6</td><td>North Sydney Oval</td><td>N</td><td>Y</td></tr><tr><th>4</th><td>3551019</td><td>18-Oct-2019</td><td>N</td><td>6</td><td>North Sydney Oval</td><td>N</td><td>Y</td></tr><tr><th>5</th><td>3551019</td><td>18-Oct-2019</td><td>N</td><td>6</td><td>North Sydney Oval</td><td>N</td><td>Y</td></tr><tr><th>6</th><td>3551019</td><td>18-Oct-2019</td><td>N</td><td>6</td><td>North Sydney Oval</td><td>N</td><td>Y</td></tr><tr><th>7</th><td>3551019</td><td>18-Oct-2019</td><td>N</td><td>6</td><td>North Sydney Oval</td><td>N</td><td>Y</td></tr><tr><th>8</th><td>3551019</td><td>18-Oct-2019</td><td>N</td><td>6</td><td>North Sydney Oval</td><td>N</td><td>Y</td></tr><tr><th>9</th><td>3551019</td><td>18-Oct-2019</td><td>N</td><td>6</td><td>North Sydney Oval</td><td>N</td><td>Y</td></tr><tr><th>10</th><td>3551019</td><td>18-Oct-2019</td><td>N</td><td>6</td><td>North Sydney Oval</td><td>N</td><td>Y</td></tr><tr><th>11</th><td>3551019</td><td>18-Oct-2019</td><td>N</td><td>6</td><td>North Sydney Oval</td><td>N</td><td>Y</td></tr><tr><th>12</th><td>3551019</td><td>18-Oct-2019</td><td>N</td><td>6</td><td>North Sydney Oval</td><td>N</td><td>Y</td></tr><tr><th>13</th><td>3551019</td><td>18-Oct-2019</td><td>N</td><td>6</td><td>North Sydney Oval</td><td>N</td><td>Y</td></tr><tr><th>14</th><td>3551019</td><td>18-Oct-2019</td><td>N</td><td>6</td><td>North Sydney Oval</td><td>N</td><td>Y</td></tr><tr><th>15</th><td>3551019</td><td>18-Oct-2019</td><td>N</td><td>6</td><td>North Sydney Oval</td><td>N</td><td>Y</td></tr><tr><th>16</th><td>3551019</td><td>18-Oct-2019</td><td>N</td><td>6</td><td>North Sydney Oval</td><td>N</td><td>Y</td></tr><tr><th>17</th><td>3551019</td><td>18-Oct-2019</td><td>N</td><td>6</td><td>North Sydney Oval</td><td>N</td><td>Y</td></tr><tr><th>18</th><td>3551019</td><td>18-Oct-2019</td><td>N</td><td>6</td><td>North Sydney Oval</td><td>N</td><td>Y</td></tr><tr><th>19</th><td>3551019</td><td>18-Oct-2019</td><td>N</td><td>6</td><td>North Sydney Oval</td><td>N</td><td>Y</td></tr><tr><th>20</th><td>3551019</td><td>18-Oct-2019</td><td>N</td><td>6</td><td>North Sydney Oval</td><td>N</td><td>Y</td></tr><tr><th>21</th><td>3551019</td><td>18-Oct-2019</td><td>N</td><td>6</td><td>North Sydney Oval</td><td>N</td><td>Y</td></tr><tr><th>22</th><td>3551019</td><td>18-Oct-2019</td><td>N</td><td>6</td><td>North Sydney Oval</td><td>N</td><td>Y</td></tr><tr><th>23</th><td>3551019</td><td>18-Oct-2019</td><td>N</td><td>6</td><td>North Sydney Oval</td><td>N</td><td>Y</td></tr><tr><th>24</th><td>3551019</td><td>18-Oct-2019</td><td>N</td><td>6</td><td>North Sydney Oval</td><td>N</td><td>Y</td></tr><tr><th>25</th><td>3551019</td><td>18-Oct-2019</td><td>N</td><td>6</td><td>North Sydney Oval</td><td>N</td><td>Y</td></tr><tr><th>26</th><td>3551019</td><td>18-Oct-2019</td><td>N</td><td>6</td><td>North Sydney Oval</td><td>N</td><td>Y</td></tr><tr><th>27</th><td>3551019</td><td>18-Oct-2019</td><td>N</td><td>6</td><td>North Sydney Oval</td><td>N</td><td>Y</td></tr><tr><th>28</th><td>3551019</td><td>18-Oct-2019</td><td>N</td><td>6</td><td>North Sydney Oval</td><td>N</td><td>Y</td></tr><tr><th>29</th><td>3551019</td><td>18-Oct-2019</td><td>N</td><td>6</td><td>North Sydney Oval</td><td>N</td><td>Y</td></tr><tr><th>30</th><td>3551019</td><td>18-Oct-2019</td><td>N</td><td>6</td><td>North Sydney Oval</td><td>N</td><td>Y</td></tr><tr><th>&vellip;</th><td>&vellip;</td><td>&vellip;</td><td>&vellip;</td><td>&vellip;</td><td>&vellip;</td><td>&vellip;</td><td>&vellip;</td></tr></tbody></table>"
      ],
      "text/latex": [
       "\\begin{tabular}{r|cccccccc}\n",
       "\t& Match\\_Id & Match\\_Date & Day\\_Night & Venue\\_Id & Venue & TeamB\\_At\\_Home & Team\\_Batting\\_At\\_Home & \\\\\n",
       "\t\\hline\n",
       "\t& Int64 & String & String & Int64 & String & String & String & \\\\\n",
       "\t\\hline\n",
       "\t1 & 3551019 & 18-Oct-2019 & N & 6 & North Sydney Oval & N & Y & $\\dots$ \\\\\n",
       "\t2 & 3551019 & 18-Oct-2019 & N & 6 & North Sydney Oval & N & Y & $\\dots$ \\\\\n",
       "\t3 & 3551019 & 18-Oct-2019 & N & 6 & North Sydney Oval & N & Y & $\\dots$ \\\\\n",
       "\t4 & 3551019 & 18-Oct-2019 & N & 6 & North Sydney Oval & N & Y & $\\dots$ \\\\\n",
       "\t5 & 3551019 & 18-Oct-2019 & N & 6 & North Sydney Oval & N & Y & $\\dots$ \\\\\n",
       "\t6 & 3551019 & 18-Oct-2019 & N & 6 & North Sydney Oval & N & Y & $\\dots$ \\\\\n",
       "\t7 & 3551019 & 18-Oct-2019 & N & 6 & North Sydney Oval & N & Y & $\\dots$ \\\\\n",
       "\t8 & 3551019 & 18-Oct-2019 & N & 6 & North Sydney Oval & N & Y & $\\dots$ \\\\\n",
       "\t9 & 3551019 & 18-Oct-2019 & N & 6 & North Sydney Oval & N & Y & $\\dots$ \\\\\n",
       "\t10 & 3551019 & 18-Oct-2019 & N & 6 & North Sydney Oval & N & Y & $\\dots$ \\\\\n",
       "\t11 & 3551019 & 18-Oct-2019 & N & 6 & North Sydney Oval & N & Y & $\\dots$ \\\\\n",
       "\t12 & 3551019 & 18-Oct-2019 & N & 6 & North Sydney Oval & N & Y & $\\dots$ \\\\\n",
       "\t13 & 3551019 & 18-Oct-2019 & N & 6 & North Sydney Oval & N & Y & $\\dots$ \\\\\n",
       "\t14 & 3551019 & 18-Oct-2019 & N & 6 & North Sydney Oval & N & Y & $\\dots$ \\\\\n",
       "\t15 & 3551019 & 18-Oct-2019 & N & 6 & North Sydney Oval & N & Y & $\\dots$ \\\\\n",
       "\t16 & 3551019 & 18-Oct-2019 & N & 6 & North Sydney Oval & N & Y & $\\dots$ \\\\\n",
       "\t17 & 3551019 & 18-Oct-2019 & N & 6 & North Sydney Oval & N & Y & $\\dots$ \\\\\n",
       "\t18 & 3551019 & 18-Oct-2019 & N & 6 & North Sydney Oval & N & Y & $\\dots$ \\\\\n",
       "\t19 & 3551019 & 18-Oct-2019 & N & 6 & North Sydney Oval & N & Y & $\\dots$ \\\\\n",
       "\t20 & 3551019 & 18-Oct-2019 & N & 6 & North Sydney Oval & N & Y & $\\dots$ \\\\\n",
       "\t21 & 3551019 & 18-Oct-2019 & N & 6 & North Sydney Oval & N & Y & $\\dots$ \\\\\n",
       "\t22 & 3551019 & 18-Oct-2019 & N & 6 & North Sydney Oval & N & Y & $\\dots$ \\\\\n",
       "\t23 & 3551019 & 18-Oct-2019 & N & 6 & North Sydney Oval & N & Y & $\\dots$ \\\\\n",
       "\t24 & 3551019 & 18-Oct-2019 & N & 6 & North Sydney Oval & N & Y & $\\dots$ \\\\\n",
       "\t25 & 3551019 & 18-Oct-2019 & N & 6 & North Sydney Oval & N & Y & $\\dots$ \\\\\n",
       "\t26 & 3551019 & 18-Oct-2019 & N & 6 & North Sydney Oval & N & Y & $\\dots$ \\\\\n",
       "\t27 & 3551019 & 18-Oct-2019 & N & 6 & North Sydney Oval & N & Y & $\\dots$ \\\\\n",
       "\t28 & 3551019 & 18-Oct-2019 & N & 6 & North Sydney Oval & N & Y & $\\dots$ \\\\\n",
       "\t29 & 3551019 & 18-Oct-2019 & N & 6 & North Sydney Oval & N & Y & $\\dots$ \\\\\n",
       "\t30 & 3551019 & 18-Oct-2019 & N & 6 & North Sydney Oval & N & Y & $\\dots$ \\\\\n",
       "\t$\\dots$ & $\\dots$ & $\\dots$ & $\\dots$ & $\\dots$ & $\\dots$ & $\\dots$ & $\\dots$ &  \\\\\n",
       "\\end{tabular}\n"
      ],
      "text/plain": [
       "13751×178 DataFrame. Omitted printing of 173 columns\n",
       "│ Row   │ Match_Id │ Match_Date  │ Day_Night │ Venue_Id │ Venue              │\n",
       "│       │ \u001b[90mInt64\u001b[39m    │ \u001b[90mString\u001b[39m      │ \u001b[90mString\u001b[39m    │ \u001b[90mInt64\u001b[39m    │ \u001b[90mString\u001b[39m             │\n",
       "├───────┼──────────┼─────────────┼───────────┼──────────┼────────────────────┤\n",
       "│ 1     │ 3551019  │ 18-Oct-2019 │ N         │ 6        │ North Sydney Oval  │\n",
       "│ 2     │ 3551019  │ 18-Oct-2019 │ N         │ 6        │ North Sydney Oval  │\n",
       "│ 3     │ 3551019  │ 18-Oct-2019 │ N         │ 6        │ North Sydney Oval  │\n",
       "│ 4     │ 3551019  │ 18-Oct-2019 │ N         │ 6        │ North Sydney Oval  │\n",
       "│ 5     │ 3551019  │ 18-Oct-2019 │ N         │ 6        │ North Sydney Oval  │\n",
       "│ 6     │ 3551019  │ 18-Oct-2019 │ N         │ 6        │ North Sydney Oval  │\n",
       "│ 7     │ 3551019  │ 18-Oct-2019 │ N         │ 6        │ North Sydney Oval  │\n",
       "│ 8     │ 3551019  │ 18-Oct-2019 │ N         │ 6        │ North Sydney Oval  │\n",
       "│ 9     │ 3551019  │ 18-Oct-2019 │ N         │ 6        │ North Sydney Oval  │\n",
       "│ 10    │ 3551019  │ 18-Oct-2019 │ N         │ 6        │ North Sydney Oval  │\n",
       "⋮\n",
       "│ 13741 │ 4390125  │ 08-Dec-2019 │ N         │ 1002     │ Allan Border Field │\n",
       "│ 13742 │ 4390125  │ 08-Dec-2019 │ N         │ 1002     │ Allan Border Field │\n",
       "│ 13743 │ 4390125  │ 08-Dec-2019 │ N         │ 1002     │ Allan Border Field │\n",
       "│ 13744 │ 4390125  │ 08-Dec-2019 │ N         │ 1002     │ Allan Border Field │\n",
       "│ 13745 │ 4390125  │ 08-Dec-2019 │ N         │ 1002     │ Allan Border Field │\n",
       "│ 13746 │ 4390125  │ 08-Dec-2019 │ N         │ 1002     │ Allan Border Field │\n",
       "│ 13747 │ 4390125  │ 08-Dec-2019 │ N         │ 1002     │ Allan Border Field │\n",
       "│ 13748 │ 4390125  │ 08-Dec-2019 │ N         │ 1002     │ Allan Border Field │\n",
       "│ 13749 │ 4390125  │ 08-Dec-2019 │ N         │ 1002     │ Allan Border Field │\n",
       "│ 13750 │ 4390125  │ 08-Dec-2019 │ N         │ 1002     │ Allan Border Field │\n",
       "│ 13751 │ 4390125  │ 08-Dec-2019 │ N         │ 1002     │ Allan Border Field │"
      ]
     },
     "execution_count": 156,
     "metadata": {},
     "output_type": "execute_result"
    }
   ],
   "source": [
    "select!(df, Not([\"TeamA_Id\", \"TeamB_Result\", \"Team_Bowling_Result\", \n",
    "            \"Individual_100\", \"Partnership_50\", \"Partnership_100\", \"Partnership_150\", \"Event_Grade\", \"Event_Infield\",\n",
    "            ]))"
   ]
  },
  {
   "cell_type": "code",
   "execution_count": 181,
   "metadata": {},
   "outputs": [
    {
     "data": {
      "text/html": [
       "<table class=\"data-frame\"><thead><tr><th></th><th>Match_Id</th><th>Match_Date</th><th>Day_Night</th><th>Venue_Id</th><th>Venue</th><th>TeamB_At_Home</th><th>Team_Batting_At_Home</th></tr><tr><th></th><th>Int64</th><th>String</th><th>String</th><th>Int64</th><th>String</th><th>String</th><th>String</th></tr></thead><tbody><p>13,751 rows × 173 columns (omitted printing of 166 columns)</p><tr><th>1</th><td>3551019</td><td>18-Oct-2019</td><td>N</td><td>6</td><td>North Sydney Oval</td><td>N</td><td>Y</td></tr><tr><th>2</th><td>3551019</td><td>18-Oct-2019</td><td>N</td><td>6</td><td>North Sydney Oval</td><td>N</td><td>Y</td></tr><tr><th>3</th><td>3551019</td><td>18-Oct-2019</td><td>N</td><td>6</td><td>North Sydney Oval</td><td>N</td><td>Y</td></tr><tr><th>4</th><td>3551019</td><td>18-Oct-2019</td><td>N</td><td>6</td><td>North Sydney Oval</td><td>N</td><td>Y</td></tr><tr><th>5</th><td>3551019</td><td>18-Oct-2019</td><td>N</td><td>6</td><td>North Sydney Oval</td><td>N</td><td>Y</td></tr><tr><th>6</th><td>3551019</td><td>18-Oct-2019</td><td>N</td><td>6</td><td>North Sydney Oval</td><td>N</td><td>Y</td></tr><tr><th>7</th><td>3551019</td><td>18-Oct-2019</td><td>N</td><td>6</td><td>North Sydney Oval</td><td>N</td><td>Y</td></tr><tr><th>8</th><td>3551019</td><td>18-Oct-2019</td><td>N</td><td>6</td><td>North Sydney Oval</td><td>N</td><td>Y</td></tr><tr><th>9</th><td>3551019</td><td>18-Oct-2019</td><td>N</td><td>6</td><td>North Sydney Oval</td><td>N</td><td>Y</td></tr><tr><th>10</th><td>3551019</td><td>18-Oct-2019</td><td>N</td><td>6</td><td>North Sydney Oval</td><td>N</td><td>Y</td></tr><tr><th>11</th><td>3551019</td><td>18-Oct-2019</td><td>N</td><td>6</td><td>North Sydney Oval</td><td>N</td><td>Y</td></tr><tr><th>12</th><td>3551019</td><td>18-Oct-2019</td><td>N</td><td>6</td><td>North Sydney Oval</td><td>N</td><td>Y</td></tr><tr><th>13</th><td>3551019</td><td>18-Oct-2019</td><td>N</td><td>6</td><td>North Sydney Oval</td><td>N</td><td>Y</td></tr><tr><th>14</th><td>3551019</td><td>18-Oct-2019</td><td>N</td><td>6</td><td>North Sydney Oval</td><td>N</td><td>Y</td></tr><tr><th>15</th><td>3551019</td><td>18-Oct-2019</td><td>N</td><td>6</td><td>North Sydney Oval</td><td>N</td><td>Y</td></tr><tr><th>16</th><td>3551019</td><td>18-Oct-2019</td><td>N</td><td>6</td><td>North Sydney Oval</td><td>N</td><td>Y</td></tr><tr><th>17</th><td>3551019</td><td>18-Oct-2019</td><td>N</td><td>6</td><td>North Sydney Oval</td><td>N</td><td>Y</td></tr><tr><th>18</th><td>3551019</td><td>18-Oct-2019</td><td>N</td><td>6</td><td>North Sydney Oval</td><td>N</td><td>Y</td></tr><tr><th>19</th><td>3551019</td><td>18-Oct-2019</td><td>N</td><td>6</td><td>North Sydney Oval</td><td>N</td><td>Y</td></tr><tr><th>20</th><td>3551019</td><td>18-Oct-2019</td><td>N</td><td>6</td><td>North Sydney Oval</td><td>N</td><td>Y</td></tr><tr><th>21</th><td>3551019</td><td>18-Oct-2019</td><td>N</td><td>6</td><td>North Sydney Oval</td><td>N</td><td>Y</td></tr><tr><th>22</th><td>3551019</td><td>18-Oct-2019</td><td>N</td><td>6</td><td>North Sydney Oval</td><td>N</td><td>Y</td></tr><tr><th>23</th><td>3551019</td><td>18-Oct-2019</td><td>N</td><td>6</td><td>North Sydney Oval</td><td>N</td><td>Y</td></tr><tr><th>24</th><td>3551019</td><td>18-Oct-2019</td><td>N</td><td>6</td><td>North Sydney Oval</td><td>N</td><td>Y</td></tr><tr><th>25</th><td>3551019</td><td>18-Oct-2019</td><td>N</td><td>6</td><td>North Sydney Oval</td><td>N</td><td>Y</td></tr><tr><th>26</th><td>3551019</td><td>18-Oct-2019</td><td>N</td><td>6</td><td>North Sydney Oval</td><td>N</td><td>Y</td></tr><tr><th>27</th><td>3551019</td><td>18-Oct-2019</td><td>N</td><td>6</td><td>North Sydney Oval</td><td>N</td><td>Y</td></tr><tr><th>28</th><td>3551019</td><td>18-Oct-2019</td><td>N</td><td>6</td><td>North Sydney Oval</td><td>N</td><td>Y</td></tr><tr><th>29</th><td>3551019</td><td>18-Oct-2019</td><td>N</td><td>6</td><td>North Sydney Oval</td><td>N</td><td>Y</td></tr><tr><th>30</th><td>3551019</td><td>18-Oct-2019</td><td>N</td><td>6</td><td>North Sydney Oval</td><td>N</td><td>Y</td></tr><tr><th>&vellip;</th><td>&vellip;</td><td>&vellip;</td><td>&vellip;</td><td>&vellip;</td><td>&vellip;</td><td>&vellip;</td><td>&vellip;</td></tr></tbody></table>"
      ],
      "text/latex": [
       "\\begin{tabular}{r|cccccccc}\n",
       "\t& Match\\_Id & Match\\_Date & Day\\_Night & Venue\\_Id & Venue & TeamB\\_At\\_Home & Team\\_Batting\\_At\\_Home & \\\\\n",
       "\t\\hline\n",
       "\t& Int64 & String & String & Int64 & String & String & String & \\\\\n",
       "\t\\hline\n",
       "\t1 & 3551019 & 18-Oct-2019 & N & 6 & North Sydney Oval & N & Y & $\\dots$ \\\\\n",
       "\t2 & 3551019 & 18-Oct-2019 & N & 6 & North Sydney Oval & N & Y & $\\dots$ \\\\\n",
       "\t3 & 3551019 & 18-Oct-2019 & N & 6 & North Sydney Oval & N & Y & $\\dots$ \\\\\n",
       "\t4 & 3551019 & 18-Oct-2019 & N & 6 & North Sydney Oval & N & Y & $\\dots$ \\\\\n",
       "\t5 & 3551019 & 18-Oct-2019 & N & 6 & North Sydney Oval & N & Y & $\\dots$ \\\\\n",
       "\t6 & 3551019 & 18-Oct-2019 & N & 6 & North Sydney Oval & N & Y & $\\dots$ \\\\\n",
       "\t7 & 3551019 & 18-Oct-2019 & N & 6 & North Sydney Oval & N & Y & $\\dots$ \\\\\n",
       "\t8 & 3551019 & 18-Oct-2019 & N & 6 & North Sydney Oval & N & Y & $\\dots$ \\\\\n",
       "\t9 & 3551019 & 18-Oct-2019 & N & 6 & North Sydney Oval & N & Y & $\\dots$ \\\\\n",
       "\t10 & 3551019 & 18-Oct-2019 & N & 6 & North Sydney Oval & N & Y & $\\dots$ \\\\\n",
       "\t11 & 3551019 & 18-Oct-2019 & N & 6 & North Sydney Oval & N & Y & $\\dots$ \\\\\n",
       "\t12 & 3551019 & 18-Oct-2019 & N & 6 & North Sydney Oval & N & Y & $\\dots$ \\\\\n",
       "\t13 & 3551019 & 18-Oct-2019 & N & 6 & North Sydney Oval & N & Y & $\\dots$ \\\\\n",
       "\t14 & 3551019 & 18-Oct-2019 & N & 6 & North Sydney Oval & N & Y & $\\dots$ \\\\\n",
       "\t15 & 3551019 & 18-Oct-2019 & N & 6 & North Sydney Oval & N & Y & $\\dots$ \\\\\n",
       "\t16 & 3551019 & 18-Oct-2019 & N & 6 & North Sydney Oval & N & Y & $\\dots$ \\\\\n",
       "\t17 & 3551019 & 18-Oct-2019 & N & 6 & North Sydney Oval & N & Y & $\\dots$ \\\\\n",
       "\t18 & 3551019 & 18-Oct-2019 & N & 6 & North Sydney Oval & N & Y & $\\dots$ \\\\\n",
       "\t19 & 3551019 & 18-Oct-2019 & N & 6 & North Sydney Oval & N & Y & $\\dots$ \\\\\n",
       "\t20 & 3551019 & 18-Oct-2019 & N & 6 & North Sydney Oval & N & Y & $\\dots$ \\\\\n",
       "\t21 & 3551019 & 18-Oct-2019 & N & 6 & North Sydney Oval & N & Y & $\\dots$ \\\\\n",
       "\t22 & 3551019 & 18-Oct-2019 & N & 6 & North Sydney Oval & N & Y & $\\dots$ \\\\\n",
       "\t23 & 3551019 & 18-Oct-2019 & N & 6 & North Sydney Oval & N & Y & $\\dots$ \\\\\n",
       "\t24 & 3551019 & 18-Oct-2019 & N & 6 & North Sydney Oval & N & Y & $\\dots$ \\\\\n",
       "\t25 & 3551019 & 18-Oct-2019 & N & 6 & North Sydney Oval & N & Y & $\\dots$ \\\\\n",
       "\t26 & 3551019 & 18-Oct-2019 & N & 6 & North Sydney Oval & N & Y & $\\dots$ \\\\\n",
       "\t27 & 3551019 & 18-Oct-2019 & N & 6 & North Sydney Oval & N & Y & $\\dots$ \\\\\n",
       "\t28 & 3551019 & 18-Oct-2019 & N & 6 & North Sydney Oval & N & Y & $\\dots$ \\\\\n",
       "\t29 & 3551019 & 18-Oct-2019 & N & 6 & North Sydney Oval & N & Y & $\\dots$ \\\\\n",
       "\t30 & 3551019 & 18-Oct-2019 & N & 6 & North Sydney Oval & N & Y & $\\dots$ \\\\\n",
       "\t$\\dots$ & $\\dots$ & $\\dots$ & $\\dots$ & $\\dots$ & $\\dots$ & $\\dots$ & $\\dots$ &  \\\\\n",
       "\\end{tabular}\n"
      ],
      "text/plain": [
       "13751×173 DataFrame. Omitted printing of 168 columns\n",
       "│ Row   │ Match_Id │ Match_Date  │ Day_Night │ Venue_Id │ Venue              │\n",
       "│       │ \u001b[90mInt64\u001b[39m    │ \u001b[90mString\u001b[39m      │ \u001b[90mString\u001b[39m    │ \u001b[90mInt64\u001b[39m    │ \u001b[90mString\u001b[39m             │\n",
       "├───────┼──────────┼─────────────┼───────────┼──────────┼────────────────────┤\n",
       "│ 1     │ 3551019  │ 18-Oct-2019 │ N         │ 6        │ North Sydney Oval  │\n",
       "│ 2     │ 3551019  │ 18-Oct-2019 │ N         │ 6        │ North Sydney Oval  │\n",
       "│ 3     │ 3551019  │ 18-Oct-2019 │ N         │ 6        │ North Sydney Oval  │\n",
       "│ 4     │ 3551019  │ 18-Oct-2019 │ N         │ 6        │ North Sydney Oval  │\n",
       "│ 5     │ 3551019  │ 18-Oct-2019 │ N         │ 6        │ North Sydney Oval  │\n",
       "│ 6     │ 3551019  │ 18-Oct-2019 │ N         │ 6        │ North Sydney Oval  │\n",
       "│ 7     │ 3551019  │ 18-Oct-2019 │ N         │ 6        │ North Sydney Oval  │\n",
       "│ 8     │ 3551019  │ 18-Oct-2019 │ N         │ 6        │ North Sydney Oval  │\n",
       "│ 9     │ 3551019  │ 18-Oct-2019 │ N         │ 6        │ North Sydney Oval  │\n",
       "│ 10    │ 3551019  │ 18-Oct-2019 │ N         │ 6        │ North Sydney Oval  │\n",
       "⋮\n",
       "│ 13741 │ 4390125  │ 08-Dec-2019 │ N         │ 1002     │ Allan Border Field │\n",
       "│ 13742 │ 4390125  │ 08-Dec-2019 │ N         │ 1002     │ Allan Border Field │\n",
       "│ 13743 │ 4390125  │ 08-Dec-2019 │ N         │ 1002     │ Allan Border Field │\n",
       "│ 13744 │ 4390125  │ 08-Dec-2019 │ N         │ 1002     │ Allan Border Field │\n",
       "│ 13745 │ 4390125  │ 08-Dec-2019 │ N         │ 1002     │ Allan Border Field │\n",
       "│ 13746 │ 4390125  │ 08-Dec-2019 │ N         │ 1002     │ Allan Border Field │\n",
       "│ 13747 │ 4390125  │ 08-Dec-2019 │ N         │ 1002     │ Allan Border Field │\n",
       "│ 13748 │ 4390125  │ 08-Dec-2019 │ N         │ 1002     │ Allan Border Field │\n",
       "│ 13749 │ 4390125  │ 08-Dec-2019 │ N         │ 1002     │ Allan Border Field │\n",
       "│ 13750 │ 4390125  │ 08-Dec-2019 │ N         │ 1002     │ Allan Border Field │\n",
       "│ 13751 │ 4390125  │ 08-Dec-2019 │ N         │ 1002     │ Allan Border Field │"
      ]
     },
     "execution_count": 181,
     "metadata": {},
     "output_type": "execute_result"
    }
   ],
   "source": [
    "select!(df, Not([\"TeamB_Id\", \"TeamBattingIdMatchInnings1\", \"TeamBattingIdMatchInnings2\",\n",
    "            \"TeamBattingIdMatchInnings3\", \"TeamBattingIdMatchInnings4\"]))"
   ]
  },
  {
   "cell_type": "code",
   "execution_count": 183,
   "metadata": {},
   "outputs": [
    {
     "data": {
      "text/html": [
       "<table class=\"data-frame\"><thead><tr><th></th><th>Match_Id</th><th>Match_Date</th><th>Day_Night</th><th>Venue_Id</th><th>Venue</th><th>TeamB_At_Home</th><th>Team_Batting_At_Home</th></tr><tr><th></th><th>Int64</th><th>String</th><th>String</th><th>Int64</th><th>String</th><th>String</th><th>String</th></tr></thead><tbody><p>13,751 rows × 171 columns (omitted printing of 164 columns)</p><tr><th>1</th><td>3551019</td><td>18-Oct-2019</td><td>N</td><td>6</td><td>North Sydney Oval</td><td>N</td><td>Y</td></tr><tr><th>2</th><td>3551019</td><td>18-Oct-2019</td><td>N</td><td>6</td><td>North Sydney Oval</td><td>N</td><td>Y</td></tr><tr><th>3</th><td>3551019</td><td>18-Oct-2019</td><td>N</td><td>6</td><td>North Sydney Oval</td><td>N</td><td>Y</td></tr><tr><th>4</th><td>3551019</td><td>18-Oct-2019</td><td>N</td><td>6</td><td>North Sydney Oval</td><td>N</td><td>Y</td></tr><tr><th>5</th><td>3551019</td><td>18-Oct-2019</td><td>N</td><td>6</td><td>North Sydney Oval</td><td>N</td><td>Y</td></tr><tr><th>6</th><td>3551019</td><td>18-Oct-2019</td><td>N</td><td>6</td><td>North Sydney Oval</td><td>N</td><td>Y</td></tr><tr><th>7</th><td>3551019</td><td>18-Oct-2019</td><td>N</td><td>6</td><td>North Sydney Oval</td><td>N</td><td>Y</td></tr><tr><th>8</th><td>3551019</td><td>18-Oct-2019</td><td>N</td><td>6</td><td>North Sydney Oval</td><td>N</td><td>Y</td></tr><tr><th>9</th><td>3551019</td><td>18-Oct-2019</td><td>N</td><td>6</td><td>North Sydney Oval</td><td>N</td><td>Y</td></tr><tr><th>10</th><td>3551019</td><td>18-Oct-2019</td><td>N</td><td>6</td><td>North Sydney Oval</td><td>N</td><td>Y</td></tr><tr><th>11</th><td>3551019</td><td>18-Oct-2019</td><td>N</td><td>6</td><td>North Sydney Oval</td><td>N</td><td>Y</td></tr><tr><th>12</th><td>3551019</td><td>18-Oct-2019</td><td>N</td><td>6</td><td>North Sydney Oval</td><td>N</td><td>Y</td></tr><tr><th>13</th><td>3551019</td><td>18-Oct-2019</td><td>N</td><td>6</td><td>North Sydney Oval</td><td>N</td><td>Y</td></tr><tr><th>14</th><td>3551019</td><td>18-Oct-2019</td><td>N</td><td>6</td><td>North Sydney Oval</td><td>N</td><td>Y</td></tr><tr><th>15</th><td>3551019</td><td>18-Oct-2019</td><td>N</td><td>6</td><td>North Sydney Oval</td><td>N</td><td>Y</td></tr><tr><th>16</th><td>3551019</td><td>18-Oct-2019</td><td>N</td><td>6</td><td>North Sydney Oval</td><td>N</td><td>Y</td></tr><tr><th>17</th><td>3551019</td><td>18-Oct-2019</td><td>N</td><td>6</td><td>North Sydney Oval</td><td>N</td><td>Y</td></tr><tr><th>18</th><td>3551019</td><td>18-Oct-2019</td><td>N</td><td>6</td><td>North Sydney Oval</td><td>N</td><td>Y</td></tr><tr><th>19</th><td>3551019</td><td>18-Oct-2019</td><td>N</td><td>6</td><td>North Sydney Oval</td><td>N</td><td>Y</td></tr><tr><th>20</th><td>3551019</td><td>18-Oct-2019</td><td>N</td><td>6</td><td>North Sydney Oval</td><td>N</td><td>Y</td></tr><tr><th>21</th><td>3551019</td><td>18-Oct-2019</td><td>N</td><td>6</td><td>North Sydney Oval</td><td>N</td><td>Y</td></tr><tr><th>22</th><td>3551019</td><td>18-Oct-2019</td><td>N</td><td>6</td><td>North Sydney Oval</td><td>N</td><td>Y</td></tr><tr><th>23</th><td>3551019</td><td>18-Oct-2019</td><td>N</td><td>6</td><td>North Sydney Oval</td><td>N</td><td>Y</td></tr><tr><th>24</th><td>3551019</td><td>18-Oct-2019</td><td>N</td><td>6</td><td>North Sydney Oval</td><td>N</td><td>Y</td></tr><tr><th>25</th><td>3551019</td><td>18-Oct-2019</td><td>N</td><td>6</td><td>North Sydney Oval</td><td>N</td><td>Y</td></tr><tr><th>26</th><td>3551019</td><td>18-Oct-2019</td><td>N</td><td>6</td><td>North Sydney Oval</td><td>N</td><td>Y</td></tr><tr><th>27</th><td>3551019</td><td>18-Oct-2019</td><td>N</td><td>6</td><td>North Sydney Oval</td><td>N</td><td>Y</td></tr><tr><th>28</th><td>3551019</td><td>18-Oct-2019</td><td>N</td><td>6</td><td>North Sydney Oval</td><td>N</td><td>Y</td></tr><tr><th>29</th><td>3551019</td><td>18-Oct-2019</td><td>N</td><td>6</td><td>North Sydney Oval</td><td>N</td><td>Y</td></tr><tr><th>30</th><td>3551019</td><td>18-Oct-2019</td><td>N</td><td>6</td><td>North Sydney Oval</td><td>N</td><td>Y</td></tr><tr><th>&vellip;</th><td>&vellip;</td><td>&vellip;</td><td>&vellip;</td><td>&vellip;</td><td>&vellip;</td><td>&vellip;</td><td>&vellip;</td></tr></tbody></table>"
      ],
      "text/latex": [
       "\\begin{tabular}{r|cccccccc}\n",
       "\t& Match\\_Id & Match\\_Date & Day\\_Night & Venue\\_Id & Venue & TeamB\\_At\\_Home & Team\\_Batting\\_At\\_Home & \\\\\n",
       "\t\\hline\n",
       "\t& Int64 & String & String & Int64 & String & String & String & \\\\\n",
       "\t\\hline\n",
       "\t1 & 3551019 & 18-Oct-2019 & N & 6 & North Sydney Oval & N & Y & $\\dots$ \\\\\n",
       "\t2 & 3551019 & 18-Oct-2019 & N & 6 & North Sydney Oval & N & Y & $\\dots$ \\\\\n",
       "\t3 & 3551019 & 18-Oct-2019 & N & 6 & North Sydney Oval & N & Y & $\\dots$ \\\\\n",
       "\t4 & 3551019 & 18-Oct-2019 & N & 6 & North Sydney Oval & N & Y & $\\dots$ \\\\\n",
       "\t5 & 3551019 & 18-Oct-2019 & N & 6 & North Sydney Oval & N & Y & $\\dots$ \\\\\n",
       "\t6 & 3551019 & 18-Oct-2019 & N & 6 & North Sydney Oval & N & Y & $\\dots$ \\\\\n",
       "\t7 & 3551019 & 18-Oct-2019 & N & 6 & North Sydney Oval & N & Y & $\\dots$ \\\\\n",
       "\t8 & 3551019 & 18-Oct-2019 & N & 6 & North Sydney Oval & N & Y & $\\dots$ \\\\\n",
       "\t9 & 3551019 & 18-Oct-2019 & N & 6 & North Sydney Oval & N & Y & $\\dots$ \\\\\n",
       "\t10 & 3551019 & 18-Oct-2019 & N & 6 & North Sydney Oval & N & Y & $\\dots$ \\\\\n",
       "\t11 & 3551019 & 18-Oct-2019 & N & 6 & North Sydney Oval & N & Y & $\\dots$ \\\\\n",
       "\t12 & 3551019 & 18-Oct-2019 & N & 6 & North Sydney Oval & N & Y & $\\dots$ \\\\\n",
       "\t13 & 3551019 & 18-Oct-2019 & N & 6 & North Sydney Oval & N & Y & $\\dots$ \\\\\n",
       "\t14 & 3551019 & 18-Oct-2019 & N & 6 & North Sydney Oval & N & Y & $\\dots$ \\\\\n",
       "\t15 & 3551019 & 18-Oct-2019 & N & 6 & North Sydney Oval & N & Y & $\\dots$ \\\\\n",
       "\t16 & 3551019 & 18-Oct-2019 & N & 6 & North Sydney Oval & N & Y & $\\dots$ \\\\\n",
       "\t17 & 3551019 & 18-Oct-2019 & N & 6 & North Sydney Oval & N & Y & $\\dots$ \\\\\n",
       "\t18 & 3551019 & 18-Oct-2019 & N & 6 & North Sydney Oval & N & Y & $\\dots$ \\\\\n",
       "\t19 & 3551019 & 18-Oct-2019 & N & 6 & North Sydney Oval & N & Y & $\\dots$ \\\\\n",
       "\t20 & 3551019 & 18-Oct-2019 & N & 6 & North Sydney Oval & N & Y & $\\dots$ \\\\\n",
       "\t21 & 3551019 & 18-Oct-2019 & N & 6 & North Sydney Oval & N & Y & $\\dots$ \\\\\n",
       "\t22 & 3551019 & 18-Oct-2019 & N & 6 & North Sydney Oval & N & Y & $\\dots$ \\\\\n",
       "\t23 & 3551019 & 18-Oct-2019 & N & 6 & North Sydney Oval & N & Y & $\\dots$ \\\\\n",
       "\t24 & 3551019 & 18-Oct-2019 & N & 6 & North Sydney Oval & N & Y & $\\dots$ \\\\\n",
       "\t25 & 3551019 & 18-Oct-2019 & N & 6 & North Sydney Oval & N & Y & $\\dots$ \\\\\n",
       "\t26 & 3551019 & 18-Oct-2019 & N & 6 & North Sydney Oval & N & Y & $\\dots$ \\\\\n",
       "\t27 & 3551019 & 18-Oct-2019 & N & 6 & North Sydney Oval & N & Y & $\\dots$ \\\\\n",
       "\t28 & 3551019 & 18-Oct-2019 & N & 6 & North Sydney Oval & N & Y & $\\dots$ \\\\\n",
       "\t29 & 3551019 & 18-Oct-2019 & N & 6 & North Sydney Oval & N & Y & $\\dots$ \\\\\n",
       "\t30 & 3551019 & 18-Oct-2019 & N & 6 & North Sydney Oval & N & Y & $\\dots$ \\\\\n",
       "\t$\\dots$ & $\\dots$ & $\\dots$ & $\\dots$ & $\\dots$ & $\\dots$ & $\\dots$ & $\\dots$ &  \\\\\n",
       "\\end{tabular}\n"
      ],
      "text/plain": [
       "13751×171 DataFrame. Omitted printing of 166 columns\n",
       "│ Row   │ Match_Id │ Match_Date  │ Day_Night │ Venue_Id │ Venue              │\n",
       "│       │ \u001b[90mInt64\u001b[39m    │ \u001b[90mString\u001b[39m      │ \u001b[90mString\u001b[39m    │ \u001b[90mInt64\u001b[39m    │ \u001b[90mString\u001b[39m             │\n",
       "├───────┼──────────┼─────────────┼───────────┼──────────┼────────────────────┤\n",
       "│ 1     │ 3551019  │ 18-Oct-2019 │ N         │ 6        │ North Sydney Oval  │\n",
       "│ 2     │ 3551019  │ 18-Oct-2019 │ N         │ 6        │ North Sydney Oval  │\n",
       "│ 3     │ 3551019  │ 18-Oct-2019 │ N         │ 6        │ North Sydney Oval  │\n",
       "│ 4     │ 3551019  │ 18-Oct-2019 │ N         │ 6        │ North Sydney Oval  │\n",
       "│ 5     │ 3551019  │ 18-Oct-2019 │ N         │ 6        │ North Sydney Oval  │\n",
       "│ 6     │ 3551019  │ 18-Oct-2019 │ N         │ 6        │ North Sydney Oval  │\n",
       "│ 7     │ 3551019  │ 18-Oct-2019 │ N         │ 6        │ North Sydney Oval  │\n",
       "│ 8     │ 3551019  │ 18-Oct-2019 │ N         │ 6        │ North Sydney Oval  │\n",
       "│ 9     │ 3551019  │ 18-Oct-2019 │ N         │ 6        │ North Sydney Oval  │\n",
       "│ 10    │ 3551019  │ 18-Oct-2019 │ N         │ 6        │ North Sydney Oval  │\n",
       "⋮\n",
       "│ 13741 │ 4390125  │ 08-Dec-2019 │ N         │ 1002     │ Allan Border Field │\n",
       "│ 13742 │ 4390125  │ 08-Dec-2019 │ N         │ 1002     │ Allan Border Field │\n",
       "│ 13743 │ 4390125  │ 08-Dec-2019 │ N         │ 1002     │ Allan Border Field │\n",
       "│ 13744 │ 4390125  │ 08-Dec-2019 │ N         │ 1002     │ Allan Border Field │\n",
       "│ 13745 │ 4390125  │ 08-Dec-2019 │ N         │ 1002     │ Allan Border Field │\n",
       "│ 13746 │ 4390125  │ 08-Dec-2019 │ N         │ 1002     │ Allan Border Field │\n",
       "│ 13747 │ 4390125  │ 08-Dec-2019 │ N         │ 1002     │ Allan Border Field │\n",
       "│ 13748 │ 4390125  │ 08-Dec-2019 │ N         │ 1002     │ Allan Border Field │\n",
       "│ 13749 │ 4390125  │ 08-Dec-2019 │ N         │ 1002     │ Allan Border Field │\n",
       "│ 13750 │ 4390125  │ 08-Dec-2019 │ N         │ 1002     │ Allan Border Field │\n",
       "│ 13751 │ 4390125  │ 08-Dec-2019 │ N         │ 1002     │ Allan Border Field │"
      ]
     },
     "execution_count": 183,
     "metadata": {},
     "output_type": "execute_result"
    }
   ],
   "source": [
    "select!(df, Not([\"TeamB_ResultId\",\n",
    "             \"Team_Batting_ResultId\"]))"
   ]
  },
  {
   "cell_type": "code",
   "execution_count": 186,
   "metadata": {},
   "outputs": [
    {
     "data": {
      "text/html": [
       "<table class=\"data-frame\"><thead><tr><th></th><th>Match_Id</th><th>Match_Date</th><th>Day_Night</th><th>Venue_Id</th><th>Venue</th><th>TeamB_At_Home</th><th>Team_Batting_At_Home</th></tr><tr><th></th><th>Int64</th><th>String</th><th>String</th><th>Int64</th><th>String</th><th>String</th><th>String</th></tr></thead><tbody><p>13,751 rows × 149 columns (omitted printing of 142 columns)</p><tr><th>1</th><td>3551019</td><td>18-Oct-2019</td><td>N</td><td>6</td><td>North Sydney Oval</td><td>N</td><td>Y</td></tr><tr><th>2</th><td>3551019</td><td>18-Oct-2019</td><td>N</td><td>6</td><td>North Sydney Oval</td><td>N</td><td>Y</td></tr><tr><th>3</th><td>3551019</td><td>18-Oct-2019</td><td>N</td><td>6</td><td>North Sydney Oval</td><td>N</td><td>Y</td></tr><tr><th>4</th><td>3551019</td><td>18-Oct-2019</td><td>N</td><td>6</td><td>North Sydney Oval</td><td>N</td><td>Y</td></tr><tr><th>5</th><td>3551019</td><td>18-Oct-2019</td><td>N</td><td>6</td><td>North Sydney Oval</td><td>N</td><td>Y</td></tr><tr><th>6</th><td>3551019</td><td>18-Oct-2019</td><td>N</td><td>6</td><td>North Sydney Oval</td><td>N</td><td>Y</td></tr><tr><th>7</th><td>3551019</td><td>18-Oct-2019</td><td>N</td><td>6</td><td>North Sydney Oval</td><td>N</td><td>Y</td></tr><tr><th>8</th><td>3551019</td><td>18-Oct-2019</td><td>N</td><td>6</td><td>North Sydney Oval</td><td>N</td><td>Y</td></tr><tr><th>9</th><td>3551019</td><td>18-Oct-2019</td><td>N</td><td>6</td><td>North Sydney Oval</td><td>N</td><td>Y</td></tr><tr><th>10</th><td>3551019</td><td>18-Oct-2019</td><td>N</td><td>6</td><td>North Sydney Oval</td><td>N</td><td>Y</td></tr><tr><th>11</th><td>3551019</td><td>18-Oct-2019</td><td>N</td><td>6</td><td>North Sydney Oval</td><td>N</td><td>Y</td></tr><tr><th>12</th><td>3551019</td><td>18-Oct-2019</td><td>N</td><td>6</td><td>North Sydney Oval</td><td>N</td><td>Y</td></tr><tr><th>13</th><td>3551019</td><td>18-Oct-2019</td><td>N</td><td>6</td><td>North Sydney Oval</td><td>N</td><td>Y</td></tr><tr><th>14</th><td>3551019</td><td>18-Oct-2019</td><td>N</td><td>6</td><td>North Sydney Oval</td><td>N</td><td>Y</td></tr><tr><th>15</th><td>3551019</td><td>18-Oct-2019</td><td>N</td><td>6</td><td>North Sydney Oval</td><td>N</td><td>Y</td></tr><tr><th>16</th><td>3551019</td><td>18-Oct-2019</td><td>N</td><td>6</td><td>North Sydney Oval</td><td>N</td><td>Y</td></tr><tr><th>17</th><td>3551019</td><td>18-Oct-2019</td><td>N</td><td>6</td><td>North Sydney Oval</td><td>N</td><td>Y</td></tr><tr><th>18</th><td>3551019</td><td>18-Oct-2019</td><td>N</td><td>6</td><td>North Sydney Oval</td><td>N</td><td>Y</td></tr><tr><th>19</th><td>3551019</td><td>18-Oct-2019</td><td>N</td><td>6</td><td>North Sydney Oval</td><td>N</td><td>Y</td></tr><tr><th>20</th><td>3551019</td><td>18-Oct-2019</td><td>N</td><td>6</td><td>North Sydney Oval</td><td>N</td><td>Y</td></tr><tr><th>21</th><td>3551019</td><td>18-Oct-2019</td><td>N</td><td>6</td><td>North Sydney Oval</td><td>N</td><td>Y</td></tr><tr><th>22</th><td>3551019</td><td>18-Oct-2019</td><td>N</td><td>6</td><td>North Sydney Oval</td><td>N</td><td>Y</td></tr><tr><th>23</th><td>3551019</td><td>18-Oct-2019</td><td>N</td><td>6</td><td>North Sydney Oval</td><td>N</td><td>Y</td></tr><tr><th>24</th><td>3551019</td><td>18-Oct-2019</td><td>N</td><td>6</td><td>North Sydney Oval</td><td>N</td><td>Y</td></tr><tr><th>25</th><td>3551019</td><td>18-Oct-2019</td><td>N</td><td>6</td><td>North Sydney Oval</td><td>N</td><td>Y</td></tr><tr><th>26</th><td>3551019</td><td>18-Oct-2019</td><td>N</td><td>6</td><td>North Sydney Oval</td><td>N</td><td>Y</td></tr><tr><th>27</th><td>3551019</td><td>18-Oct-2019</td><td>N</td><td>6</td><td>North Sydney Oval</td><td>N</td><td>Y</td></tr><tr><th>28</th><td>3551019</td><td>18-Oct-2019</td><td>N</td><td>6</td><td>North Sydney Oval</td><td>N</td><td>Y</td></tr><tr><th>29</th><td>3551019</td><td>18-Oct-2019</td><td>N</td><td>6</td><td>North Sydney Oval</td><td>N</td><td>Y</td></tr><tr><th>30</th><td>3551019</td><td>18-Oct-2019</td><td>N</td><td>6</td><td>North Sydney Oval</td><td>N</td><td>Y</td></tr><tr><th>&vellip;</th><td>&vellip;</td><td>&vellip;</td><td>&vellip;</td><td>&vellip;</td><td>&vellip;</td><td>&vellip;</td><td>&vellip;</td></tr></tbody></table>"
      ],
      "text/latex": [
       "\\begin{tabular}{r|cccccccc}\n",
       "\t& Match\\_Id & Match\\_Date & Day\\_Night & Venue\\_Id & Venue & TeamB\\_At\\_Home & Team\\_Batting\\_At\\_Home & \\\\\n",
       "\t\\hline\n",
       "\t& Int64 & String & String & Int64 & String & String & String & \\\\\n",
       "\t\\hline\n",
       "\t1 & 3551019 & 18-Oct-2019 & N & 6 & North Sydney Oval & N & Y & $\\dots$ \\\\\n",
       "\t2 & 3551019 & 18-Oct-2019 & N & 6 & North Sydney Oval & N & Y & $\\dots$ \\\\\n",
       "\t3 & 3551019 & 18-Oct-2019 & N & 6 & North Sydney Oval & N & Y & $\\dots$ \\\\\n",
       "\t4 & 3551019 & 18-Oct-2019 & N & 6 & North Sydney Oval & N & Y & $\\dots$ \\\\\n",
       "\t5 & 3551019 & 18-Oct-2019 & N & 6 & North Sydney Oval & N & Y & $\\dots$ \\\\\n",
       "\t6 & 3551019 & 18-Oct-2019 & N & 6 & North Sydney Oval & N & Y & $\\dots$ \\\\\n",
       "\t7 & 3551019 & 18-Oct-2019 & N & 6 & North Sydney Oval & N & Y & $\\dots$ \\\\\n",
       "\t8 & 3551019 & 18-Oct-2019 & N & 6 & North Sydney Oval & N & Y & $\\dots$ \\\\\n",
       "\t9 & 3551019 & 18-Oct-2019 & N & 6 & North Sydney Oval & N & Y & $\\dots$ \\\\\n",
       "\t10 & 3551019 & 18-Oct-2019 & N & 6 & North Sydney Oval & N & Y & $\\dots$ \\\\\n",
       "\t11 & 3551019 & 18-Oct-2019 & N & 6 & North Sydney Oval & N & Y & $\\dots$ \\\\\n",
       "\t12 & 3551019 & 18-Oct-2019 & N & 6 & North Sydney Oval & N & Y & $\\dots$ \\\\\n",
       "\t13 & 3551019 & 18-Oct-2019 & N & 6 & North Sydney Oval & N & Y & $\\dots$ \\\\\n",
       "\t14 & 3551019 & 18-Oct-2019 & N & 6 & North Sydney Oval & N & Y & $\\dots$ \\\\\n",
       "\t15 & 3551019 & 18-Oct-2019 & N & 6 & North Sydney Oval & N & Y & $\\dots$ \\\\\n",
       "\t16 & 3551019 & 18-Oct-2019 & N & 6 & North Sydney Oval & N & Y & $\\dots$ \\\\\n",
       "\t17 & 3551019 & 18-Oct-2019 & N & 6 & North Sydney Oval & N & Y & $\\dots$ \\\\\n",
       "\t18 & 3551019 & 18-Oct-2019 & N & 6 & North Sydney Oval & N & Y & $\\dots$ \\\\\n",
       "\t19 & 3551019 & 18-Oct-2019 & N & 6 & North Sydney Oval & N & Y & $\\dots$ \\\\\n",
       "\t20 & 3551019 & 18-Oct-2019 & N & 6 & North Sydney Oval & N & Y & $\\dots$ \\\\\n",
       "\t21 & 3551019 & 18-Oct-2019 & N & 6 & North Sydney Oval & N & Y & $\\dots$ \\\\\n",
       "\t22 & 3551019 & 18-Oct-2019 & N & 6 & North Sydney Oval & N & Y & $\\dots$ \\\\\n",
       "\t23 & 3551019 & 18-Oct-2019 & N & 6 & North Sydney Oval & N & Y & $\\dots$ \\\\\n",
       "\t24 & 3551019 & 18-Oct-2019 & N & 6 & North Sydney Oval & N & Y & $\\dots$ \\\\\n",
       "\t25 & 3551019 & 18-Oct-2019 & N & 6 & North Sydney Oval & N & Y & $\\dots$ \\\\\n",
       "\t26 & 3551019 & 18-Oct-2019 & N & 6 & North Sydney Oval & N & Y & $\\dots$ \\\\\n",
       "\t27 & 3551019 & 18-Oct-2019 & N & 6 & North Sydney Oval & N & Y & $\\dots$ \\\\\n",
       "\t28 & 3551019 & 18-Oct-2019 & N & 6 & North Sydney Oval & N & Y & $\\dots$ \\\\\n",
       "\t29 & 3551019 & 18-Oct-2019 & N & 6 & North Sydney Oval & N & Y & $\\dots$ \\\\\n",
       "\t30 & 3551019 & 18-Oct-2019 & N & 6 & North Sydney Oval & N & Y & $\\dots$ \\\\\n",
       "\t$\\dots$ & $\\dots$ & $\\dots$ & $\\dots$ & $\\dots$ & $\\dots$ & $\\dots$ & $\\dots$ &  \\\\\n",
       "\\end{tabular}\n"
      ],
      "text/plain": [
       "13751×149 DataFrame. Omitted printing of 144 columns\n",
       "│ Row   │ Match_Id │ Match_Date  │ Day_Night │ Venue_Id │ Venue              │\n",
       "│       │ \u001b[90mInt64\u001b[39m    │ \u001b[90mString\u001b[39m      │ \u001b[90mString\u001b[39m    │ \u001b[90mInt64\u001b[39m    │ \u001b[90mString\u001b[39m             │\n",
       "├───────┼──────────┼─────────────┼───────────┼──────────┼────────────────────┤\n",
       "│ 1     │ 3551019  │ 18-Oct-2019 │ N         │ 6        │ North Sydney Oval  │\n",
       "│ 2     │ 3551019  │ 18-Oct-2019 │ N         │ 6        │ North Sydney Oval  │\n",
       "│ 3     │ 3551019  │ 18-Oct-2019 │ N         │ 6        │ North Sydney Oval  │\n",
       "│ 4     │ 3551019  │ 18-Oct-2019 │ N         │ 6        │ North Sydney Oval  │\n",
       "│ 5     │ 3551019  │ 18-Oct-2019 │ N         │ 6        │ North Sydney Oval  │\n",
       "│ 6     │ 3551019  │ 18-Oct-2019 │ N         │ 6        │ North Sydney Oval  │\n",
       "│ 7     │ 3551019  │ 18-Oct-2019 │ N         │ 6        │ North Sydney Oval  │\n",
       "│ 8     │ 3551019  │ 18-Oct-2019 │ N         │ 6        │ North Sydney Oval  │\n",
       "│ 9     │ 3551019  │ 18-Oct-2019 │ N         │ 6        │ North Sydney Oval  │\n",
       "│ 10    │ 3551019  │ 18-Oct-2019 │ N         │ 6        │ North Sydney Oval  │\n",
       "⋮\n",
       "│ 13741 │ 4390125  │ 08-Dec-2019 │ N         │ 1002     │ Allan Border Field │\n",
       "│ 13742 │ 4390125  │ 08-Dec-2019 │ N         │ 1002     │ Allan Border Field │\n",
       "│ 13743 │ 4390125  │ 08-Dec-2019 │ N         │ 1002     │ Allan Border Field │\n",
       "│ 13744 │ 4390125  │ 08-Dec-2019 │ N         │ 1002     │ Allan Border Field │\n",
       "│ 13745 │ 4390125  │ 08-Dec-2019 │ N         │ 1002     │ Allan Border Field │\n",
       "│ 13746 │ 4390125  │ 08-Dec-2019 │ N         │ 1002     │ Allan Border Field │\n",
       "│ 13747 │ 4390125  │ 08-Dec-2019 │ N         │ 1002     │ Allan Border Field │\n",
       "│ 13748 │ 4390125  │ 08-Dec-2019 │ N         │ 1002     │ Allan Border Field │\n",
       "│ 13749 │ 4390125  │ 08-Dec-2019 │ N         │ 1002     │ Allan Border Field │\n",
       "│ 13750 │ 4390125  │ 08-Dec-2019 │ N         │ 1002     │ Allan Border Field │\n",
       "│ 13751 │ 4390125  │ 08-Dec-2019 │ N         │ 1002     │ Allan Border Field │"
      ]
     },
     "execution_count": 186,
     "metadata": {},
     "output_type": "execute_result"
    }
   ],
   "source": [
    "select!(df, Not([\"Team_Bowling_ResultId\",\n",
    "\"Individual_50\",\n",
    "\"Injury_Striker_Other\",           \n",
    "\"Injury_Bowler_Other_1\",          \n",
    " \"Injury_Fielder_Other\",\n",
    " \"Cum_Inning_Noball_Runs\",         \n",
    " \"Cum_Inning_Wides\",               \n",
    " \"Cum_Inning_Wide_Runs\",           \n",
    " \"Cum_Inning_Byes\",                \n",
    " \"Cum_Inning_Legbyes\",             \n",
    " \"Cum_Inning_Extras\",                             \n",
    " \"Cum_Inning_Wickets\",\n",
    "\"Pitch_X_Coded\",                  \n",
    " \"Pitch_Y_Coded\",                  \n",
    " \"At_Batter_X_Coded\",              \n",
    " \"At_Batter_Y_Coded\",\n",
    "\"Time_of_Day_Sec_\",               \n",
    " \"Video_Start_Time_UTC\",           \n",
    " \"Video_Stop_Time_UTC\",            \n",
    " \"Video_UTC_Offset_Minutes\",       \n",
    " \"Video_Start_Time_Local\",         \n",
    " \"Video_Stop_Time_Local\",\n",
    "            ]))"
   ]
  },
  {
   "cell_type": "code",
   "execution_count": 187,
   "metadata": {
    "scrolled": false
   },
   "outputs": [
    {
     "data": {
      "text/html": [
       "<table class=\"data-frame\"><thead><tr><th></th><th>Match_Id</th><th>Match_Date</th><th>Day_Night</th><th>Venue_Id</th><th>Venue</th><th>TeamB_At_Home</th><th>Team_Batting_At_Home</th></tr><tr><th></th><th>Int64</th><th>String</th><th>String</th><th>Int64</th><th>String</th><th>String</th><th>String</th></tr></thead><tbody><p>13,751 rows × 149 columns (omitted printing of 142 columns)</p><tr><th>1</th><td>3551019</td><td>18-Oct-2019</td><td>N</td><td>6</td><td>North Sydney Oval</td><td>N</td><td>Y</td></tr><tr><th>2</th><td>3551019</td><td>18-Oct-2019</td><td>N</td><td>6</td><td>North Sydney Oval</td><td>N</td><td>Y</td></tr><tr><th>3</th><td>3551019</td><td>18-Oct-2019</td><td>N</td><td>6</td><td>North Sydney Oval</td><td>N</td><td>Y</td></tr><tr><th>4</th><td>3551019</td><td>18-Oct-2019</td><td>N</td><td>6</td><td>North Sydney Oval</td><td>N</td><td>Y</td></tr><tr><th>5</th><td>3551019</td><td>18-Oct-2019</td><td>N</td><td>6</td><td>North Sydney Oval</td><td>N</td><td>Y</td></tr><tr><th>6</th><td>3551019</td><td>18-Oct-2019</td><td>N</td><td>6</td><td>North Sydney Oval</td><td>N</td><td>Y</td></tr><tr><th>7</th><td>3551019</td><td>18-Oct-2019</td><td>N</td><td>6</td><td>North Sydney Oval</td><td>N</td><td>Y</td></tr><tr><th>8</th><td>3551019</td><td>18-Oct-2019</td><td>N</td><td>6</td><td>North Sydney Oval</td><td>N</td><td>Y</td></tr><tr><th>9</th><td>3551019</td><td>18-Oct-2019</td><td>N</td><td>6</td><td>North Sydney Oval</td><td>N</td><td>Y</td></tr><tr><th>10</th><td>3551019</td><td>18-Oct-2019</td><td>N</td><td>6</td><td>North Sydney Oval</td><td>N</td><td>Y</td></tr><tr><th>11</th><td>3551019</td><td>18-Oct-2019</td><td>N</td><td>6</td><td>North Sydney Oval</td><td>N</td><td>Y</td></tr><tr><th>12</th><td>3551019</td><td>18-Oct-2019</td><td>N</td><td>6</td><td>North Sydney Oval</td><td>N</td><td>Y</td></tr><tr><th>13</th><td>3551019</td><td>18-Oct-2019</td><td>N</td><td>6</td><td>North Sydney Oval</td><td>N</td><td>Y</td></tr><tr><th>14</th><td>3551019</td><td>18-Oct-2019</td><td>N</td><td>6</td><td>North Sydney Oval</td><td>N</td><td>Y</td></tr><tr><th>15</th><td>3551019</td><td>18-Oct-2019</td><td>N</td><td>6</td><td>North Sydney Oval</td><td>N</td><td>Y</td></tr><tr><th>16</th><td>3551019</td><td>18-Oct-2019</td><td>N</td><td>6</td><td>North Sydney Oval</td><td>N</td><td>Y</td></tr><tr><th>17</th><td>3551019</td><td>18-Oct-2019</td><td>N</td><td>6</td><td>North Sydney Oval</td><td>N</td><td>Y</td></tr><tr><th>18</th><td>3551019</td><td>18-Oct-2019</td><td>N</td><td>6</td><td>North Sydney Oval</td><td>N</td><td>Y</td></tr><tr><th>19</th><td>3551019</td><td>18-Oct-2019</td><td>N</td><td>6</td><td>North Sydney Oval</td><td>N</td><td>Y</td></tr><tr><th>20</th><td>3551019</td><td>18-Oct-2019</td><td>N</td><td>6</td><td>North Sydney Oval</td><td>N</td><td>Y</td></tr><tr><th>21</th><td>3551019</td><td>18-Oct-2019</td><td>N</td><td>6</td><td>North Sydney Oval</td><td>N</td><td>Y</td></tr><tr><th>22</th><td>3551019</td><td>18-Oct-2019</td><td>N</td><td>6</td><td>North Sydney Oval</td><td>N</td><td>Y</td></tr><tr><th>23</th><td>3551019</td><td>18-Oct-2019</td><td>N</td><td>6</td><td>North Sydney Oval</td><td>N</td><td>Y</td></tr><tr><th>24</th><td>3551019</td><td>18-Oct-2019</td><td>N</td><td>6</td><td>North Sydney Oval</td><td>N</td><td>Y</td></tr><tr><th>25</th><td>3551019</td><td>18-Oct-2019</td><td>N</td><td>6</td><td>North Sydney Oval</td><td>N</td><td>Y</td></tr><tr><th>26</th><td>3551019</td><td>18-Oct-2019</td><td>N</td><td>6</td><td>North Sydney Oval</td><td>N</td><td>Y</td></tr><tr><th>27</th><td>3551019</td><td>18-Oct-2019</td><td>N</td><td>6</td><td>North Sydney Oval</td><td>N</td><td>Y</td></tr><tr><th>28</th><td>3551019</td><td>18-Oct-2019</td><td>N</td><td>6</td><td>North Sydney Oval</td><td>N</td><td>Y</td></tr><tr><th>29</th><td>3551019</td><td>18-Oct-2019</td><td>N</td><td>6</td><td>North Sydney Oval</td><td>N</td><td>Y</td></tr><tr><th>30</th><td>3551019</td><td>18-Oct-2019</td><td>N</td><td>6</td><td>North Sydney Oval</td><td>N</td><td>Y</td></tr><tr><th>&vellip;</th><td>&vellip;</td><td>&vellip;</td><td>&vellip;</td><td>&vellip;</td><td>&vellip;</td><td>&vellip;</td><td>&vellip;</td></tr></tbody></table>"
      ],
      "text/latex": [
       "\\begin{tabular}{r|cccccccc}\n",
       "\t& Match\\_Id & Match\\_Date & Day\\_Night & Venue\\_Id & Venue & TeamB\\_At\\_Home & Team\\_Batting\\_At\\_Home & \\\\\n",
       "\t\\hline\n",
       "\t& Int64 & String & String & Int64 & String & String & String & \\\\\n",
       "\t\\hline\n",
       "\t1 & 3551019 & 18-Oct-2019 & N & 6 & North Sydney Oval & N & Y & $\\dots$ \\\\\n",
       "\t2 & 3551019 & 18-Oct-2019 & N & 6 & North Sydney Oval & N & Y & $\\dots$ \\\\\n",
       "\t3 & 3551019 & 18-Oct-2019 & N & 6 & North Sydney Oval & N & Y & $\\dots$ \\\\\n",
       "\t4 & 3551019 & 18-Oct-2019 & N & 6 & North Sydney Oval & N & Y & $\\dots$ \\\\\n",
       "\t5 & 3551019 & 18-Oct-2019 & N & 6 & North Sydney Oval & N & Y & $\\dots$ \\\\\n",
       "\t6 & 3551019 & 18-Oct-2019 & N & 6 & North Sydney Oval & N & Y & $\\dots$ \\\\\n",
       "\t7 & 3551019 & 18-Oct-2019 & N & 6 & North Sydney Oval & N & Y & $\\dots$ \\\\\n",
       "\t8 & 3551019 & 18-Oct-2019 & N & 6 & North Sydney Oval & N & Y & $\\dots$ \\\\\n",
       "\t9 & 3551019 & 18-Oct-2019 & N & 6 & North Sydney Oval & N & Y & $\\dots$ \\\\\n",
       "\t10 & 3551019 & 18-Oct-2019 & N & 6 & North Sydney Oval & N & Y & $\\dots$ \\\\\n",
       "\t11 & 3551019 & 18-Oct-2019 & N & 6 & North Sydney Oval & N & Y & $\\dots$ \\\\\n",
       "\t12 & 3551019 & 18-Oct-2019 & N & 6 & North Sydney Oval & N & Y & $\\dots$ \\\\\n",
       "\t13 & 3551019 & 18-Oct-2019 & N & 6 & North Sydney Oval & N & Y & $\\dots$ \\\\\n",
       "\t14 & 3551019 & 18-Oct-2019 & N & 6 & North Sydney Oval & N & Y & $\\dots$ \\\\\n",
       "\t15 & 3551019 & 18-Oct-2019 & N & 6 & North Sydney Oval & N & Y & $\\dots$ \\\\\n",
       "\t16 & 3551019 & 18-Oct-2019 & N & 6 & North Sydney Oval & N & Y & $\\dots$ \\\\\n",
       "\t17 & 3551019 & 18-Oct-2019 & N & 6 & North Sydney Oval & N & Y & $\\dots$ \\\\\n",
       "\t18 & 3551019 & 18-Oct-2019 & N & 6 & North Sydney Oval & N & Y & $\\dots$ \\\\\n",
       "\t19 & 3551019 & 18-Oct-2019 & N & 6 & North Sydney Oval & N & Y & $\\dots$ \\\\\n",
       "\t20 & 3551019 & 18-Oct-2019 & N & 6 & North Sydney Oval & N & Y & $\\dots$ \\\\\n",
       "\t21 & 3551019 & 18-Oct-2019 & N & 6 & North Sydney Oval & N & Y & $\\dots$ \\\\\n",
       "\t22 & 3551019 & 18-Oct-2019 & N & 6 & North Sydney Oval & N & Y & $\\dots$ \\\\\n",
       "\t23 & 3551019 & 18-Oct-2019 & N & 6 & North Sydney Oval & N & Y & $\\dots$ \\\\\n",
       "\t24 & 3551019 & 18-Oct-2019 & N & 6 & North Sydney Oval & N & Y & $\\dots$ \\\\\n",
       "\t25 & 3551019 & 18-Oct-2019 & N & 6 & North Sydney Oval & N & Y & $\\dots$ \\\\\n",
       "\t26 & 3551019 & 18-Oct-2019 & N & 6 & North Sydney Oval & N & Y & $\\dots$ \\\\\n",
       "\t27 & 3551019 & 18-Oct-2019 & N & 6 & North Sydney Oval & N & Y & $\\dots$ \\\\\n",
       "\t28 & 3551019 & 18-Oct-2019 & N & 6 & North Sydney Oval & N & Y & $\\dots$ \\\\\n",
       "\t29 & 3551019 & 18-Oct-2019 & N & 6 & North Sydney Oval & N & Y & $\\dots$ \\\\\n",
       "\t30 & 3551019 & 18-Oct-2019 & N & 6 & North Sydney Oval & N & Y & $\\dots$ \\\\\n",
       "\t$\\dots$ & $\\dots$ & $\\dots$ & $\\dots$ & $\\dots$ & $\\dots$ & $\\dots$ & $\\dots$ &  \\\\\n",
       "\\end{tabular}\n"
      ],
      "text/plain": [
       "13751×149 DataFrame. Omitted printing of 144 columns\n",
       "│ Row   │ Match_Id │ Match_Date  │ Day_Night │ Venue_Id │ Venue              │\n",
       "│       │ \u001b[90mInt64\u001b[39m    │ \u001b[90mString\u001b[39m      │ \u001b[90mString\u001b[39m    │ \u001b[90mInt64\u001b[39m    │ \u001b[90mString\u001b[39m             │\n",
       "├───────┼──────────┼─────────────┼───────────┼──────────┼────────────────────┤\n",
       "│ 1     │ 3551019  │ 18-Oct-2019 │ N         │ 6        │ North Sydney Oval  │\n",
       "│ 2     │ 3551019  │ 18-Oct-2019 │ N         │ 6        │ North Sydney Oval  │\n",
       "│ 3     │ 3551019  │ 18-Oct-2019 │ N         │ 6        │ North Sydney Oval  │\n",
       "│ 4     │ 3551019  │ 18-Oct-2019 │ N         │ 6        │ North Sydney Oval  │\n",
       "│ 5     │ 3551019  │ 18-Oct-2019 │ N         │ 6        │ North Sydney Oval  │\n",
       "│ 6     │ 3551019  │ 18-Oct-2019 │ N         │ 6        │ North Sydney Oval  │\n",
       "│ 7     │ 3551019  │ 18-Oct-2019 │ N         │ 6        │ North Sydney Oval  │\n",
       "│ 8     │ 3551019  │ 18-Oct-2019 │ N         │ 6        │ North Sydney Oval  │\n",
       "│ 9     │ 3551019  │ 18-Oct-2019 │ N         │ 6        │ North Sydney Oval  │\n",
       "│ 10    │ 3551019  │ 18-Oct-2019 │ N         │ 6        │ North Sydney Oval  │\n",
       "⋮\n",
       "│ 13741 │ 4390125  │ 08-Dec-2019 │ N         │ 1002     │ Allan Border Field │\n",
       "│ 13742 │ 4390125  │ 08-Dec-2019 │ N         │ 1002     │ Allan Border Field │\n",
       "│ 13743 │ 4390125  │ 08-Dec-2019 │ N         │ 1002     │ Allan Border Field │\n",
       "│ 13744 │ 4390125  │ 08-Dec-2019 │ N         │ 1002     │ Allan Border Field │\n",
       "│ 13745 │ 4390125  │ 08-Dec-2019 │ N         │ 1002     │ Allan Border Field │\n",
       "│ 13746 │ 4390125  │ 08-Dec-2019 │ N         │ 1002     │ Allan Border Field │\n",
       "│ 13747 │ 4390125  │ 08-Dec-2019 │ N         │ 1002     │ Allan Border Field │\n",
       "│ 13748 │ 4390125  │ 08-Dec-2019 │ N         │ 1002     │ Allan Border Field │\n",
       "│ 13749 │ 4390125  │ 08-Dec-2019 │ N         │ 1002     │ Allan Border Field │\n",
       "│ 13750 │ 4390125  │ 08-Dec-2019 │ N         │ 1002     │ Allan Border Field │\n",
       "│ 13751 │ 4390125  │ 08-Dec-2019 │ N         │ 1002     │ Allan Border Field │"
      ]
     },
     "execution_count": 187,
     "metadata": {},
     "output_type": "execute_result"
    }
   ],
   "source": [
    "df"
   ]
  },
  {
   "cell_type": "code",
   "execution_count": 176,
   "metadata": {},
   "outputs": [
    {
     "data": {
      "text/plain": [
       "7-element Array{String,1}:\n",
       " \"Off Stump\"   \n",
       " \"Middle Stump\"\n",
       " \"Outside Off\" \n",
       " \"Leg Stump\"   \n",
       " \"Outside Leg\" \n",
       " \"Wide of Leg\" \n",
       " \"Wide of Off\" "
      ]
     },
     "execution_count": 176,
     "metadata": {},
     "output_type": "execute_result"
    }
   ],
   "source": [
    "unique(df.Pitch_X_Description)"
   ]
  },
  {
   "cell_type": "code",
   "execution_count": 164,
   "metadata": {},
   "outputs": [
    {
     "data": {
      "text/plain": [
       "4-element Array{Int64,1}:\n",
       " 1\n",
       " 2\n",
       " 4\n",
       " 3"
      ]
     },
     "execution_count": 164,
     "metadata": {},
     "output_type": "execute_result"
    }
   ],
   "source": [
    "unique(df.MatchInnings)"
   ]
  },
  {
   "cell_type": "code",
   "execution_count": null,
   "metadata": {},
   "outputs": [],
   "source": []
  }
 ],
 "metadata": {
  "kernelspec": {
   "display_name": "Julia 1.1.1",
   "language": "julia",
   "name": "julia-1.1"
  },
  "language_info": {
   "file_extension": ".jl",
   "mimetype": "application/julia",
   "name": "julia",
   "version": "1.1.1"
  }
 },
 "nbformat": 4,
 "nbformat_minor": 2
}
