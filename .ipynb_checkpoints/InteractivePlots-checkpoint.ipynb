{
 "cells": [
  {
   "cell_type": "code",
   "execution_count": 1,
   "metadata": {},
   "outputs": [
    {
     "data": {
      "text/html": [
       "<script>\n",
       "// Immediately-invoked-function-expression to avoid global variables.\n",
       "(function() {\n",
       "    var warning_div = document.getElementById(\"webio-warning-10365549624237570792\");\n",
       "    var hide = function () {\n",
       "        var script = document.getElementById(\"webio-setup-137259973751307160\");\n",
       "        var parent = script && script.parentElement;\n",
       "        var grandparent = parent && parent.parentElement;\n",
       "        if (grandparent) {\n",
       "            grandparent.style.display = \"none\";\n",
       "        }\n",
       "        warning_div.style.display = \"none\";\n",
       "    };\n",
       "    if (typeof Jupyter !== \"undefined\") {\n",
       "        console.log(\"WebIO detected Jupyter notebook environment.\");\n",
       "        // Jupyter notebook.\n",
       "        var extensions = (\n",
       "            Jupyter\n",
       "            && Jupyter.notebook.config.data\n",
       "            && Jupyter.notebook.config.data.load_extensions\n",
       "        );\n",
       "        if (extensions && extensions[\"webio-jupyter-notebook\"]) {\n",
       "            // Extension already loaded.\n",
       "            console.log(\"Jupyter WebIO nbextension detected; not loading ad-hoc.\");\n",
       "            hide();\n",
       "            return;\n",
       "        }\n",
       "    } else if (window.location.pathname.includes(\"/lab\")) {\n",
       "        // Guessing JupyterLa\n",
       "        console.log(\"Jupyter Lab detected; make sure the @webio/jupyter-lab-provider labextension is installed.\");\n",
       "        hide();\n",
       "        return;\n",
       "    }\n",
       "})();\n",
       "\n",
       "</script>\n",
       "<p\n",
       "    id=\"webio-warning-10365549624237570792\"\n",
       "    class=\"output_text output_stderr\"\n",
       "    style=\"padding: 1em; font-weight: bold;\"\n",
       ">\n",
       "    Unable to load WebIO. Please make sure WebIO works for your Jupyter client.\n",
       "    For troubleshooting, please see <a href=\"https://juliagizmos.github.io/WebIO.jl/latest/providers/ijulia/\">\n",
       "    the WebIO/IJulia documentation</a>.\n",
       "    <!-- TODO: link to installation docs. -->\n",
       "</p>\n"
      ],
      "text/plain": [
       "HTML{String}(\"<script>\\n// Immediately-invoked-function-expression to avoid global variables.\\n(function() {\\n    var warning_div = document.getElementById(\\\"webio-warning-10365549624237570792\\\");\\n    var hide = function () {\\n        var script = document.getElementById(\\\"webio-setup-137259973751307160\\\");\\n        var parent = script && script.parentElement;\\n        var grandparent = parent && parent.parentElement;\\n        if (grandparent) {\\n            grandparent.style.display = \\\"none\\\";\\n        }\\n        warning_div.style.display = \\\"none\\\";\\n    };\\n    if (typeof Jupyter !== \\\"undefined\\\") {\\n        console.log(\\\"WebIO detected Jupyter notebook environment.\\\");\\n        // Jupyter notebook.\\n        var extensions = (\\n            Jupyter\\n            && Jupyter.notebook.config.data\\n            && Jupyter.notebook.config.data.load_extensions\\n        );\\n        if (extensions && extensions[\\\"webio-jupyter-notebook\\\"]) {\\n            // Extension already loaded.\\n            console.log(\\\"Jupyter WebIO nbextension detected; not loading ad-hoc.\\\");\\n            hide();\\n            return;\\n        }\\n    } else if (window.location.pathname.includes(\\\"/lab\\\")) {\\n        // Guessing JupyterLa\\n        console.log(\\\"Jupyter Lab detected; make sure the @webio/jupyter-lab-provider labextension is installed.\\\");\\n        hide();\\n        return;\\n    }\\n})();\\n\\n</script>\\n<p\\n    id=\\\"webio-warning-10365549624237570792\\\"\\n    class=\\\"output_text output_stderr\\\"\\n    style=\\\"padding: 1em; font-weight: bold;\\\"\\n>\\n    Unable to load WebIO. Please make sure WebIO works for your Jupyter client.\\n    For troubleshooting, please see <a href=\\\"https://juliagizmos.github.io/WebIO.jl/latest/providers/ijulia/\\\">\\n    the WebIO/IJulia documentation</a>.\\n    <!-- TODO: link to installation docs. -->\\n</p>\\n\")"
      ]
     },
     "metadata": {},
     "output_type": "display_data"
    },
    {
     "data": {
      "text/plain": [
       "myprint (generic function with 1 method)"
      ]
     },
     "execution_count": 1,
     "metadata": {},
     "output_type": "execute_result"
    }
   ],
   "source": [
    "using DataFrames, Plots, CSV, KernelDensity, Statistics, Interact\n",
    "include(\"PlottingTools.jl\")\n",
    "function myprint(Obj)\n",
    "    show(stdout, \"text/plain\", Obj)\n",
    "end"
   ]
  },
  {
   "cell_type": "code",
   "execution_count": 2,
   "metadata": {},
   "outputs": [
    {
     "name": "stderr",
     "output_type": "stream",
     "text": [
      "┌ Warning: changed directory to: /Users/angus2/Documents/Cricket\n",
      "└ @ Main In[2]:3\n"
     ]
    },
    {
     "data": {
      "text/html": [
       "<table class=\"data-frame\"><thead><tr><th></th><th>Match_Id</th><th>Match_Date</th><th>Day_Night</th><th>Venue_Id</th><th>Venue</th><th>TeamB_At_Home</th><th>Team_Batting_At_Home</th></tr><tr><th></th><th>Int64</th><th>String</th><th>String</th><th>Int64</th><th>String</th><th>String</th><th>String</th></tr></thead><tbody><p>13,751 rows × 136 columns (omitted printing of 129 columns)</p><tr><th>1</th><td>3551019</td><td>18-Oct-2019</td><td>N</td><td>6</td><td>North Sydney Oval</td><td>N</td><td>Y</td></tr><tr><th>2</th><td>3551019</td><td>18-Oct-2019</td><td>N</td><td>6</td><td>North Sydney Oval</td><td>N</td><td>Y</td></tr><tr><th>3</th><td>3551019</td><td>18-Oct-2019</td><td>N</td><td>6</td><td>North Sydney Oval</td><td>N</td><td>Y</td></tr><tr><th>4</th><td>3551019</td><td>18-Oct-2019</td><td>N</td><td>6</td><td>North Sydney Oval</td><td>N</td><td>Y</td></tr><tr><th>5</th><td>3551019</td><td>18-Oct-2019</td><td>N</td><td>6</td><td>North Sydney Oval</td><td>N</td><td>Y</td></tr><tr><th>6</th><td>3551019</td><td>18-Oct-2019</td><td>N</td><td>6</td><td>North Sydney Oval</td><td>N</td><td>Y</td></tr><tr><th>7</th><td>3551019</td><td>18-Oct-2019</td><td>N</td><td>6</td><td>North Sydney Oval</td><td>N</td><td>Y</td></tr><tr><th>8</th><td>3551019</td><td>18-Oct-2019</td><td>N</td><td>6</td><td>North Sydney Oval</td><td>N</td><td>Y</td></tr><tr><th>9</th><td>3551019</td><td>18-Oct-2019</td><td>N</td><td>6</td><td>North Sydney Oval</td><td>N</td><td>Y</td></tr><tr><th>10</th><td>3551019</td><td>18-Oct-2019</td><td>N</td><td>6</td><td>North Sydney Oval</td><td>N</td><td>Y</td></tr><tr><th>11</th><td>3551019</td><td>18-Oct-2019</td><td>N</td><td>6</td><td>North Sydney Oval</td><td>N</td><td>Y</td></tr><tr><th>12</th><td>3551019</td><td>18-Oct-2019</td><td>N</td><td>6</td><td>North Sydney Oval</td><td>N</td><td>Y</td></tr><tr><th>13</th><td>3551019</td><td>18-Oct-2019</td><td>N</td><td>6</td><td>North Sydney Oval</td><td>N</td><td>Y</td></tr><tr><th>14</th><td>3551019</td><td>18-Oct-2019</td><td>N</td><td>6</td><td>North Sydney Oval</td><td>N</td><td>Y</td></tr><tr><th>15</th><td>3551019</td><td>18-Oct-2019</td><td>N</td><td>6</td><td>North Sydney Oval</td><td>N</td><td>Y</td></tr><tr><th>16</th><td>3551019</td><td>18-Oct-2019</td><td>N</td><td>6</td><td>North Sydney Oval</td><td>N</td><td>Y</td></tr><tr><th>17</th><td>3551019</td><td>18-Oct-2019</td><td>N</td><td>6</td><td>North Sydney Oval</td><td>N</td><td>Y</td></tr><tr><th>18</th><td>3551019</td><td>18-Oct-2019</td><td>N</td><td>6</td><td>North Sydney Oval</td><td>N</td><td>Y</td></tr><tr><th>19</th><td>3551019</td><td>18-Oct-2019</td><td>N</td><td>6</td><td>North Sydney Oval</td><td>N</td><td>Y</td></tr><tr><th>20</th><td>3551019</td><td>18-Oct-2019</td><td>N</td><td>6</td><td>North Sydney Oval</td><td>N</td><td>Y</td></tr><tr><th>21</th><td>3551019</td><td>18-Oct-2019</td><td>N</td><td>6</td><td>North Sydney Oval</td><td>N</td><td>Y</td></tr><tr><th>22</th><td>3551019</td><td>18-Oct-2019</td><td>N</td><td>6</td><td>North Sydney Oval</td><td>N</td><td>Y</td></tr><tr><th>23</th><td>3551019</td><td>18-Oct-2019</td><td>N</td><td>6</td><td>North Sydney Oval</td><td>N</td><td>Y</td></tr><tr><th>24</th><td>3551019</td><td>18-Oct-2019</td><td>N</td><td>6</td><td>North Sydney Oval</td><td>N</td><td>Y</td></tr><tr><th>25</th><td>3551019</td><td>18-Oct-2019</td><td>N</td><td>6</td><td>North Sydney Oval</td><td>N</td><td>Y</td></tr><tr><th>26</th><td>3551019</td><td>18-Oct-2019</td><td>N</td><td>6</td><td>North Sydney Oval</td><td>N</td><td>Y</td></tr><tr><th>27</th><td>3551019</td><td>18-Oct-2019</td><td>N</td><td>6</td><td>North Sydney Oval</td><td>N</td><td>Y</td></tr><tr><th>28</th><td>3551019</td><td>18-Oct-2019</td><td>N</td><td>6</td><td>North Sydney Oval</td><td>N</td><td>Y</td></tr><tr><th>29</th><td>3551019</td><td>18-Oct-2019</td><td>N</td><td>6</td><td>North Sydney Oval</td><td>N</td><td>Y</td></tr><tr><th>30</th><td>3551019</td><td>18-Oct-2019</td><td>N</td><td>6</td><td>North Sydney Oval</td><td>N</td><td>Y</td></tr><tr><th>&vellip;</th><td>&vellip;</td><td>&vellip;</td><td>&vellip;</td><td>&vellip;</td><td>&vellip;</td><td>&vellip;</td><td>&vellip;</td></tr></tbody></table>"
      ],
      "text/latex": [
       "\\begin{tabular}{r|cccccccc}\n",
       "\t& Match\\_Id & Match\\_Date & Day\\_Night & Venue\\_Id & Venue & TeamB\\_At\\_Home & Team\\_Batting\\_At\\_Home & \\\\\n",
       "\t\\hline\n",
       "\t& Int64 & String & String & Int64 & String & String & String & \\\\\n",
       "\t\\hline\n",
       "\t1 & 3551019 & 18-Oct-2019 & N & 6 & North Sydney Oval & N & Y & $\\dots$ \\\\\n",
       "\t2 & 3551019 & 18-Oct-2019 & N & 6 & North Sydney Oval & N & Y & $\\dots$ \\\\\n",
       "\t3 & 3551019 & 18-Oct-2019 & N & 6 & North Sydney Oval & N & Y & $\\dots$ \\\\\n",
       "\t4 & 3551019 & 18-Oct-2019 & N & 6 & North Sydney Oval & N & Y & $\\dots$ \\\\\n",
       "\t5 & 3551019 & 18-Oct-2019 & N & 6 & North Sydney Oval & N & Y & $\\dots$ \\\\\n",
       "\t6 & 3551019 & 18-Oct-2019 & N & 6 & North Sydney Oval & N & Y & $\\dots$ \\\\\n",
       "\t7 & 3551019 & 18-Oct-2019 & N & 6 & North Sydney Oval & N & Y & $\\dots$ \\\\\n",
       "\t8 & 3551019 & 18-Oct-2019 & N & 6 & North Sydney Oval & N & Y & $\\dots$ \\\\\n",
       "\t9 & 3551019 & 18-Oct-2019 & N & 6 & North Sydney Oval & N & Y & $\\dots$ \\\\\n",
       "\t10 & 3551019 & 18-Oct-2019 & N & 6 & North Sydney Oval & N & Y & $\\dots$ \\\\\n",
       "\t11 & 3551019 & 18-Oct-2019 & N & 6 & North Sydney Oval & N & Y & $\\dots$ \\\\\n",
       "\t12 & 3551019 & 18-Oct-2019 & N & 6 & North Sydney Oval & N & Y & $\\dots$ \\\\\n",
       "\t13 & 3551019 & 18-Oct-2019 & N & 6 & North Sydney Oval & N & Y & $\\dots$ \\\\\n",
       "\t14 & 3551019 & 18-Oct-2019 & N & 6 & North Sydney Oval & N & Y & $\\dots$ \\\\\n",
       "\t15 & 3551019 & 18-Oct-2019 & N & 6 & North Sydney Oval & N & Y & $\\dots$ \\\\\n",
       "\t16 & 3551019 & 18-Oct-2019 & N & 6 & North Sydney Oval & N & Y & $\\dots$ \\\\\n",
       "\t17 & 3551019 & 18-Oct-2019 & N & 6 & North Sydney Oval & N & Y & $\\dots$ \\\\\n",
       "\t18 & 3551019 & 18-Oct-2019 & N & 6 & North Sydney Oval & N & Y & $\\dots$ \\\\\n",
       "\t19 & 3551019 & 18-Oct-2019 & N & 6 & North Sydney Oval & N & Y & $\\dots$ \\\\\n",
       "\t20 & 3551019 & 18-Oct-2019 & N & 6 & North Sydney Oval & N & Y & $\\dots$ \\\\\n",
       "\t21 & 3551019 & 18-Oct-2019 & N & 6 & North Sydney Oval & N & Y & $\\dots$ \\\\\n",
       "\t22 & 3551019 & 18-Oct-2019 & N & 6 & North Sydney Oval & N & Y & $\\dots$ \\\\\n",
       "\t23 & 3551019 & 18-Oct-2019 & N & 6 & North Sydney Oval & N & Y & $\\dots$ \\\\\n",
       "\t24 & 3551019 & 18-Oct-2019 & N & 6 & North Sydney Oval & N & Y & $\\dots$ \\\\\n",
       "\t25 & 3551019 & 18-Oct-2019 & N & 6 & North Sydney Oval & N & Y & $\\dots$ \\\\\n",
       "\t26 & 3551019 & 18-Oct-2019 & N & 6 & North Sydney Oval & N & Y & $\\dots$ \\\\\n",
       "\t27 & 3551019 & 18-Oct-2019 & N & 6 & North Sydney Oval & N & Y & $\\dots$ \\\\\n",
       "\t28 & 3551019 & 18-Oct-2019 & N & 6 & North Sydney Oval & N & Y & $\\dots$ \\\\\n",
       "\t29 & 3551019 & 18-Oct-2019 & N & 6 & North Sydney Oval & N & Y & $\\dots$ \\\\\n",
       "\t30 & 3551019 & 18-Oct-2019 & N & 6 & North Sydney Oval & N & Y & $\\dots$ \\\\\n",
       "\t$\\dots$ & $\\dots$ & $\\dots$ & $\\dots$ & $\\dots$ & $\\dots$ & $\\dots$ & $\\dots$ &  \\\\\n",
       "\\end{tabular}\n"
      ],
      "text/plain": [
       "13751×136 DataFrame. Omitted printing of 131 columns\n",
       "│ Row   │ Match_Id │ Match_Date  │ Day_Night │ Venue_Id │ Venue              │\n",
       "│       │ \u001b[90mInt64\u001b[39m    │ \u001b[90mString\u001b[39m      │ \u001b[90mString\u001b[39m    │ \u001b[90mInt64\u001b[39m    │ \u001b[90mString\u001b[39m             │\n",
       "├───────┼──────────┼─────────────┼───────────┼──────────┼────────────────────┤\n",
       "│ 1     │ 3551019  │ 18-Oct-2019 │ N         │ 6        │ North Sydney Oval  │\n",
       "│ 2     │ 3551019  │ 18-Oct-2019 │ N         │ 6        │ North Sydney Oval  │\n",
       "│ 3     │ 3551019  │ 18-Oct-2019 │ N         │ 6        │ North Sydney Oval  │\n",
       "│ 4     │ 3551019  │ 18-Oct-2019 │ N         │ 6        │ North Sydney Oval  │\n",
       "│ 5     │ 3551019  │ 18-Oct-2019 │ N         │ 6        │ North Sydney Oval  │\n",
       "│ 6     │ 3551019  │ 18-Oct-2019 │ N         │ 6        │ North Sydney Oval  │\n",
       "│ 7     │ 3551019  │ 18-Oct-2019 │ N         │ 6        │ North Sydney Oval  │\n",
       "│ 8     │ 3551019  │ 18-Oct-2019 │ N         │ 6        │ North Sydney Oval  │\n",
       "│ 9     │ 3551019  │ 18-Oct-2019 │ N         │ 6        │ North Sydney Oval  │\n",
       "│ 10    │ 3551019  │ 18-Oct-2019 │ N         │ 6        │ North Sydney Oval  │\n",
       "⋮\n",
       "│ 13741 │ 4390125  │ 08-Dec-2019 │ N         │ 1002     │ Allan Border Field │\n",
       "│ 13742 │ 4390125  │ 08-Dec-2019 │ N         │ 1002     │ Allan Border Field │\n",
       "│ 13743 │ 4390125  │ 08-Dec-2019 │ N         │ 1002     │ Allan Border Field │\n",
       "│ 13744 │ 4390125  │ 08-Dec-2019 │ N         │ 1002     │ Allan Border Field │\n",
       "│ 13745 │ 4390125  │ 08-Dec-2019 │ N         │ 1002     │ Allan Border Field │\n",
       "│ 13746 │ 4390125  │ 08-Dec-2019 │ N         │ 1002     │ Allan Border Field │\n",
       "│ 13747 │ 4390125  │ 08-Dec-2019 │ N         │ 1002     │ Allan Border Field │\n",
       "│ 13748 │ 4390125  │ 08-Dec-2019 │ N         │ 1002     │ Allan Border Field │\n",
       "│ 13749 │ 4390125  │ 08-Dec-2019 │ N         │ 1002     │ Allan Border Field │\n",
       "│ 13750 │ 4390125  │ 08-Dec-2019 │ N         │ 1002     │ Allan Border Field │\n",
       "│ 13751 │ 4390125  │ 08-Dec-2019 │ N         │ 1002     │ Allan Border Field │"
      ]
     },
     "execution_count": 2,
     "metadata": {},
     "output_type": "execute_result"
    }
   ],
   "source": [
    "try\n",
    "    cd(\"/Users/angus2/Documents/Cricket\")\n",
    "    @warn \"changed directory to: /Users/angus2/Documents/Cricket\"\n",
    "catch\n",
    "end\n",
    "try\n",
    "    cd(\"/Users/a1627293/Documents/Cricket\")\n",
    "    @warn \"changed directory to: /Users/a1627293/Documents/Cricket\"\n",
    "catch\n",
    "end\n",
    "\n",
    "df = DataFrame!(CSV.File(\"data/DeliveriesProcessed_all.txt\", normalizenames = true))"
   ]
  },
  {
   "cell_type": "code",
   "execution_count": 41,
   "metadata": {},
   "outputs": [],
   "source": [
    "handdict = Dict{String, String}()\n",
    "hands = unique(df[:,:Striker_Hand])\n",
    "for hand in hands\n",
    "    handdict[hand] = hand\n",
    "end\n"
   ]
  },
  {
   "cell_type": "code",
   "execution_count": 42,
   "metadata": {},
   "outputs": [
    {
     "data": {
      "application/vnd.webio.node+json": {
       "children": [
        {
         "children": [
          {
           "children": [
            "Striker Hand",
            {
             "children": [
              {
               "children": [],
               "instanceArgs": {
                "namespace": "html",
                "tag": "select"
               },
               "nodeType": "DOM",
               "props": {
                "attributes": {
                 "data-bind": "options : options_js, value : index, optionsText: 'key', optionsValue: 'val', valueAllowUnset: true, optionsAfterRender: disablePlaceholder"
                }
               },
               "type": "node"
              }
             ],
             "instanceArgs": {
              "namespace": "html",
              "tag": "div"
             },
             "nodeType": "DOM",
             "props": {
              "className": "select "
             },
             "type": "node"
            }
           ],
           "instanceArgs": {
            "namespace": "html",
            "tag": "div"
           },
           "nodeType": "DOM",
           "props": {
            "style": {
             "display": "flex",
             "flex-direction": "column"
            }
           },
           "type": "node"
          }
         ],
         "instanceArgs": {
          "handlers": {
           "index": [
            "(function (val){return (val!=this.model[\"index\"]()) ? (this.valueFromJulia[\"index\"]=true, this.model[\"index\"](val)) : undefined})"
           ],
           "options_js": [
            "(function (val){return (val!=this.model[\"options_js\"]()) ? (this.valueFromJulia[\"options_js\"]=true, this.model[\"options_js\"](val)) : undefined})"
           ]
          },
          "id": "14010768112788014073",
          "imports": {
           "data": [
            {
             "name": "knockout",
             "type": "js",
             "url": "/assetserver/e01b84c0d0af2eebde3fc7b16369c948739023fb-knockout.js"
            },
            {
             "name": "knockout_punches",
             "type": "js",
             "url": "/assetserver/b353703eab22061a08f8de9baa0405ae441777c9-knockout_punches.js"
            },
            {
             "name": null,
             "type": "js",
             "url": "/assetserver/c038d2feabdafaf5e303e30df82a7853ffbcf174-all.js"
            },
            {
             "name": null,
             "type": "css",
             "url": "/assetserver/376adac1c7dc75236e9b6928ec691f6c24367d43-style.css"
            },
            {
             "name": null,
             "type": "css",
             "url": "/assetserver/d6af41566a3b0e476684825e38a7b0cd5778e505-bulma_confined.min.css"
            }
           ],
           "type": "async_block"
          },
          "mount_callbacks": [
           "function () {\n    var handler = (function (ko, koPunches) {\n    ko.punches.enableAll();\n    ko.bindingHandlers.numericValue = {\n        init: function(element, valueAccessor, allBindings, data, context) {\n            var stringified = ko.observable(ko.unwrap(valueAccessor()));\n            stringified.subscribe(function(value) {\n                var val = parseFloat(value);\n                if (!isNaN(val)) {\n                    valueAccessor()(val);\n                }\n            });\n            valueAccessor().subscribe(function(value) {\n                var str = JSON.stringify(value);\n                if ((str == \"0\") && ([\"-0\", \"-0.\"].indexOf(stringified()) >= 0))\n                     return;\n                 if ([\"null\", \"\"].indexOf(str) >= 0)\n                     return;\n                stringified(str);\n            });\n            ko.applyBindingsToNode(\n                element,\n                {\n                    value: stringified,\n                    valueUpdate: allBindings.get('valueUpdate'),\n                },\n                context,\n            );\n        }\n    };\n    var json_data = {\"options_js\":WebIO.getval({\"name\":\"options_js\",\"scope\":\"14010768112788014073\",\"id\":\"9304593749139619314\",\"type\":\"observable\"}),\"index\":WebIO.getval({\"name\":\"index\",\"scope\":\"14010768112788014073\",\"id\":\"12188204721803290531\",\"type\":\"observable\"})};\n    var self = this;\n    function AppViewModel() {\n        for (var key in json_data) {\n            var el = json_data[key];\n            this[key] = Array.isArray(el) ? ko.observableArray(el) : ko.observable(el);\n        }\n        [this[\"disablePlaceholder\"]=function(option, item) {\n    ko.applyBindingsToNode(option, {disable: item.val == 0}, item);\n}\n]\n        \n        [this[\"options_js\"].subscribe((function (val){!(this.valueFromJulia[\"options_js\"]) ? (WebIO.setval({\"name\":\"options_js\",\"scope\":\"14010768112788014073\",\"id\":\"9304593749139619314\",\"type\":\"observable\"},val)) : undefined; return this.valueFromJulia[\"options_js\"]=false}),self),this[\"index\"].subscribe((function (val){!(this.valueFromJulia[\"index\"]) ? (WebIO.setval({\"name\":\"index\",\"scope\":\"14010768112788014073\",\"id\":\"12188204721803290531\",\"type\":\"observable\"},val)) : undefined; return this.valueFromJulia[\"index\"]=false}),self)]\n        \n    }\n    self.model = new AppViewModel();\n    self.valueFromJulia = {};\n    for (var key in json_data) {\n        self.valueFromJulia[key] = false;\n    }\n    ko.applyBindings(self.model, self.dom);\n}\n);\n    (WebIO.importBlock({\"data\":[{\"name\":\"knockout\",\"type\":\"js\",\"url\":\"/assetserver/e01b84c0d0af2eebde3fc7b16369c948739023fb-knockout.js\"},{\"name\":\"knockout_punches\",\"type\":\"js\",\"url\":\"/assetserver/b353703eab22061a08f8de9baa0405ae441777c9-knockout_punches.js\"}],\"type\":\"async_block\"})).then((imports) => handler.apply(this, imports));\n}\n"
          ],
          "observables": {
           "index": {
            "id": "12188204721803290531",
            "sync": true,
            "value": 1
           },
           "options_js": {
            "id": "9304593749139619314",
            "sync": false,
            "value": [
             {
              "id": "idbTHSSrQC",
              "key": "Right",
              "val": 1
             },
             {
              "id": "idK1GyBZ7x",
              "key": "Left",
              "val": 2
             }
            ]
           }
          },
          "systemjs_options": null
         },
         "nodeType": "Scope",
         "props": {},
         "type": "node"
        }
       ],
       "instanceArgs": {
        "namespace": "html",
        "tag": "div"
       },
       "nodeType": "DOM",
       "props": {
        "className": "field interact-widget"
       },
       "type": "node"
      },
      "text/html": [
       "<div\n",
       "    class=\"webio-mountpoint\"\n",
       "    data-webio-mountpoint=\"13268674756835095817\"\n",
       ">\n",
       "    <script>\n",
       "    if (window.require && require.defined && require.defined(\"nbextensions/webio-jupyter-notebook\")) {\n",
       "        console.log(\"Jupyter WebIO extension detected, not mounting.\");\n",
       "    } else if (window.WebIO) {\n",
       "        WebIO.mount(\n",
       "            document.querySelector('[data-webio-mountpoint=\"13268674756835095817\"]'),\n",
       "            {\"props\":{\"className\":\"field interact-widget\"},\"nodeType\":\"DOM\",\"type\":\"node\",\"instanceArgs\":{\"namespace\":\"html\",\"tag\":\"div\"},\"children\":[{\"props\":{},\"nodeType\":\"Scope\",\"type\":\"node\",\"instanceArgs\":{\"imports\":{\"data\":[{\"name\":\"knockout\",\"type\":\"js\",\"url\":\"\\/assetserver\\/e01b84c0d0af2eebde3fc7b16369c948739023fb-knockout.js\"},{\"name\":\"knockout_punches\",\"type\":\"js\",\"url\":\"\\/assetserver\\/b353703eab22061a08f8de9baa0405ae441777c9-knockout_punches.js\"},{\"name\":null,\"type\":\"js\",\"url\":\"\\/assetserver\\/c038d2feabdafaf5e303e30df82a7853ffbcf174-all.js\"},{\"name\":null,\"type\":\"css\",\"url\":\"\\/assetserver\\/376adac1c7dc75236e9b6928ec691f6c24367d43-style.css\"},{\"name\":null,\"type\":\"css\",\"url\":\"\\/assetserver\\/d6af41566a3b0e476684825e38a7b0cd5778e505-bulma_confined.min.css\"}],\"type\":\"async_block\"},\"id\":\"14010768112788014073\",\"handlers\":{\"options_js\":[\"(function (val){return (val!=this.model[\\\"options_js\\\"]()) ? (this.valueFromJulia[\\\"options_js\\\"]=true, this.model[\\\"options_js\\\"](val)) : undefined})\"],\"index\":[\"(function (val){return (val!=this.model[\\\"index\\\"]()) ? (this.valueFromJulia[\\\"index\\\"]=true, this.model[\\\"index\\\"](val)) : undefined})\"]},\"systemjs_options\":null,\"mount_callbacks\":[\"function () {\\n    var handler = (function (ko, koPunches) {\\n    ko.punches.enableAll();\\n    ko.bindingHandlers.numericValue = {\\n        init: function(element, valueAccessor, allBindings, data, context) {\\n            var stringified = ko.observable(ko.unwrap(valueAccessor()));\\n            stringified.subscribe(function(value) {\\n                var val = parseFloat(value);\\n                if (!isNaN(val)) {\\n                    valueAccessor()(val);\\n                }\\n            });\\n            valueAccessor().subscribe(function(value) {\\n                var str = JSON.stringify(value);\\n                if ((str == \\\"0\\\") && ([\\\"-0\\\", \\\"-0.\\\"].indexOf(stringified()) >= 0))\\n                     return;\\n                 if ([\\\"null\\\", \\\"\\\"].indexOf(str) >= 0)\\n                     return;\\n                stringified(str);\\n            });\\n            ko.applyBindingsToNode(\\n                element,\\n                {\\n                    value: stringified,\\n                    valueUpdate: allBindings.get('valueUpdate'),\\n                },\\n                context,\\n            );\\n        }\\n    };\\n    var json_data = {\\\"options_js\\\":WebIO.getval({\\\"name\\\":\\\"options_js\\\",\\\"scope\\\":\\\"14010768112788014073\\\",\\\"id\\\":\\\"9304593749139619314\\\",\\\"type\\\":\\\"observable\\\"}),\\\"index\\\":WebIO.getval({\\\"name\\\":\\\"index\\\",\\\"scope\\\":\\\"14010768112788014073\\\",\\\"id\\\":\\\"12188204721803290531\\\",\\\"type\\\":\\\"observable\\\"})};\\n    var self = this;\\n    function AppViewModel() {\\n        for (var key in json_data) {\\n            var el = json_data[key];\\n            this[key] = Array.isArray(el) ? ko.observableArray(el) : ko.observable(el);\\n        }\\n        [this[\\\"disablePlaceholder\\\"]=function(option, item) {\\n    ko.applyBindingsToNode(option, {disable: item.val == 0}, item);\\n}\\n]\\n        \\n        [this[\\\"options_js\\\"].subscribe((function (val){!(this.valueFromJulia[\\\"options_js\\\"]) ? (WebIO.setval({\\\"name\\\":\\\"options_js\\\",\\\"scope\\\":\\\"14010768112788014073\\\",\\\"id\\\":\\\"9304593749139619314\\\",\\\"type\\\":\\\"observable\\\"},val)) : undefined; return this.valueFromJulia[\\\"options_js\\\"]=false}),self),this[\\\"index\\\"].subscribe((function (val){!(this.valueFromJulia[\\\"index\\\"]) ? (WebIO.setval({\\\"name\\\":\\\"index\\\",\\\"scope\\\":\\\"14010768112788014073\\\",\\\"id\\\":\\\"12188204721803290531\\\",\\\"type\\\":\\\"observable\\\"},val)) : undefined; return this.valueFromJulia[\\\"index\\\"]=false}),self)]\\n        \\n    }\\n    self.model = new AppViewModel();\\n    self.valueFromJulia = {};\\n    for (var key in json_data) {\\n        self.valueFromJulia[key] = false;\\n    }\\n    ko.applyBindings(self.model, self.dom);\\n}\\n);\\n    (WebIO.importBlock({\\\"data\\\":[{\\\"name\\\":\\\"knockout\\\",\\\"type\\\":\\\"js\\\",\\\"url\\\":\\\"\\/assetserver\\/e01b84c0d0af2eebde3fc7b16369c948739023fb-knockout.js\\\"},{\\\"name\\\":\\\"knockout_punches\\\",\\\"type\\\":\\\"js\\\",\\\"url\\\":\\\"\\/assetserver\\/b353703eab22061a08f8de9baa0405ae441777c9-knockout_punches.js\\\"}],\\\"type\\\":\\\"async_block\\\"})).then((imports) => handler.apply(this, imports));\\n}\\n\"],\"observables\":{\"options_js\":{\"sync\":false,\"id\":\"9304593749139619314\",\"value\":[{\"key\":\"Right\",\"val\":1,\"id\":\"idbTHSSrQC\"},{\"key\":\"Left\",\"val\":2,\"id\":\"idK1GyBZ7x\"}]},\"index\":{\"sync\":true,\"id\":\"12188204721803290531\",\"value\":1}}},\"children\":[{\"props\":{\"style\":{\"display\":\"flex\",\"flex-direction\":\"column\"}},\"nodeType\":\"DOM\",\"type\":\"node\",\"instanceArgs\":{\"namespace\":\"html\",\"tag\":\"div\"},\"children\":[\"Striker Hand\",{\"props\":{\"className\":\"select \"},\"nodeType\":\"DOM\",\"type\":\"node\",\"instanceArgs\":{\"namespace\":\"html\",\"tag\":\"div\"},\"children\":[{\"props\":{\"attributes\":{\"data-bind\":\"options : options_js, value : index, optionsText: 'key', optionsValue: 'val', valueAllowUnset: true, optionsAfterRender: disablePlaceholder\"}},\"nodeType\":\"DOM\",\"type\":\"node\",\"instanceArgs\":{\"namespace\":\"html\",\"tag\":\"select\"},\"children\":[]}]}]}]}]},\n",
       "            window,\n",
       "        );\n",
       "    } else {\n",
       "        document\n",
       "            .querySelector('[data-webio-mountpoint=\"13268674756835095817\"]')\n",
       "            .innerHTML = (\n",
       "                '<div style=\"padding: 1em; background-color: #f8d6da; border: 1px solid #f5c6cb\">' +\n",
       "                '<p><strong>WebIO not detected.</strong></p>' +\n",
       "                '<p>Please read ' +\n",
       "                '<a href=\"https://juliagizmos.github.io/WebIO.jl/latest/troubleshooting/not-detected/\" target=\"_blank\">the troubleshooting guide</a> ' +\n",
       "                'for more information on how to resolve this issue.</p>' +\n",
       "                '<p><a href=\"https://juliagizmos.github.io/WebIO.jl/latest/troubleshooting/not-detected/\" target=\"_blank\">https://juliagizmos.github.io/WebIO.jl/latest/troubleshooting/not-detected/</a></p>' +\n",
       "                '</div>'\n",
       "            );\n",
       "    }\n",
       "    </script>\n",
       "</div>\n"
      ],
      "text/plain": [
       "(div { className=\"field interact-widget\" }\n",
       "    (div { style=Dict(\"display\" => \"flex\",\"flex-direction\" => \"column\") }\n",
       "    \"Striker Hand\"\n",
       "    (div { className=\"select \" }\n",
       "      (select { attributes=Dict{Union{String, Symbol},Any}(Symbol(\"data-bind\") => \"options : options_js, value : index, optionsText: 'key', optionsValue: 'val', valueAllowUnset: true, optionsAfterRender: disablePlaceholder\") }))))"
      ]
     },
     "metadata": {
      "application/vnd.webio.node+json": {
       "kernelId": "ed1b62ea-172f-4ef5-972d-454002e6a062"
      }
     },
     "output_type": "display_data"
    },
    {
     "data": {
      "application/vnd.webio.node+json": {
       "children": [
        {
         "children": [
          {
           "children": [
            "Bowler Hand",
            {
             "children": [
              {
               "children": [],
               "instanceArgs": {
                "namespace": "html",
                "tag": "select"
               },
               "nodeType": "DOM",
               "props": {
                "attributes": {
                 "data-bind": "options : options_js, value : index, optionsText: 'key', optionsValue: 'val', valueAllowUnset: true, optionsAfterRender: disablePlaceholder"
                }
               },
               "type": "node"
              }
             ],
             "instanceArgs": {
              "namespace": "html",
              "tag": "div"
             },
             "nodeType": "DOM",
             "props": {
              "className": "select "
             },
             "type": "node"
            }
           ],
           "instanceArgs": {
            "namespace": "html",
            "tag": "div"
           },
           "nodeType": "DOM",
           "props": {
            "style": {
             "display": "flex",
             "flex-direction": "column"
            }
           },
           "type": "node"
          }
         ],
         "instanceArgs": {
          "handlers": {
           "index": [
            "(function (val){return (val!=this.model[\"index\"]()) ? (this.valueFromJulia[\"index\"]=true, this.model[\"index\"](val)) : undefined})"
           ],
           "options_js": [
            "(function (val){return (val!=this.model[\"options_js\"]()) ? (this.valueFromJulia[\"options_js\"]=true, this.model[\"options_js\"](val)) : undefined})"
           ]
          },
          "id": "15700399299256225930",
          "imports": {
           "data": [
            {
             "name": "knockout",
             "type": "js",
             "url": "/assetserver/e01b84c0d0af2eebde3fc7b16369c948739023fb-knockout.js"
            },
            {
             "name": "knockout_punches",
             "type": "js",
             "url": "/assetserver/b353703eab22061a08f8de9baa0405ae441777c9-knockout_punches.js"
            },
            {
             "name": null,
             "type": "js",
             "url": "/assetserver/c038d2feabdafaf5e303e30df82a7853ffbcf174-all.js"
            },
            {
             "name": null,
             "type": "css",
             "url": "/assetserver/376adac1c7dc75236e9b6928ec691f6c24367d43-style.css"
            },
            {
             "name": null,
             "type": "css",
             "url": "/assetserver/d6af41566a3b0e476684825e38a7b0cd5778e505-bulma_confined.min.css"
            }
           ],
           "type": "async_block"
          },
          "mount_callbacks": [
           "function () {\n    var handler = (function (ko, koPunches) {\n    ko.punches.enableAll();\n    ko.bindingHandlers.numericValue = {\n        init: function(element, valueAccessor, allBindings, data, context) {\n            var stringified = ko.observable(ko.unwrap(valueAccessor()));\n            stringified.subscribe(function(value) {\n                var val = parseFloat(value);\n                if (!isNaN(val)) {\n                    valueAccessor()(val);\n                }\n            });\n            valueAccessor().subscribe(function(value) {\n                var str = JSON.stringify(value);\n                if ((str == \"0\") && ([\"-0\", \"-0.\"].indexOf(stringified()) >= 0))\n                     return;\n                 if ([\"null\", \"\"].indexOf(str) >= 0)\n                     return;\n                stringified(str);\n            });\n            ko.applyBindingsToNode(\n                element,\n                {\n                    value: stringified,\n                    valueUpdate: allBindings.get('valueUpdate'),\n                },\n                context,\n            );\n        }\n    };\n    var json_data = {\"options_js\":WebIO.getval({\"name\":\"options_js\",\"scope\":\"15700399299256225930\",\"id\":\"8814036570919086247\",\"type\":\"observable\"}),\"index\":WebIO.getval({\"name\":\"index\",\"scope\":\"15700399299256225930\",\"id\":\"12425867196795640929\",\"type\":\"observable\"})};\n    var self = this;\n    function AppViewModel() {\n        for (var key in json_data) {\n            var el = json_data[key];\n            this[key] = Array.isArray(el) ? ko.observableArray(el) : ko.observable(el);\n        }\n        [this[\"disablePlaceholder\"]=function(option, item) {\n    ko.applyBindingsToNode(option, {disable: item.val == 0}, item);\n}\n]\n        \n        [this[\"options_js\"].subscribe((function (val){!(this.valueFromJulia[\"options_js\"]) ? (WebIO.setval({\"name\":\"options_js\",\"scope\":\"15700399299256225930\",\"id\":\"8814036570919086247\",\"type\":\"observable\"},val)) : undefined; return this.valueFromJulia[\"options_js\"]=false}),self),this[\"index\"].subscribe((function (val){!(this.valueFromJulia[\"index\"]) ? (WebIO.setval({\"name\":\"index\",\"scope\":\"15700399299256225930\",\"id\":\"12425867196795640929\",\"type\":\"observable\"},val)) : undefined; return this.valueFromJulia[\"index\"]=false}),self)]\n        \n    }\n    self.model = new AppViewModel();\n    self.valueFromJulia = {};\n    for (var key in json_data) {\n        self.valueFromJulia[key] = false;\n    }\n    ko.applyBindings(self.model, self.dom);\n}\n);\n    (WebIO.importBlock({\"data\":[{\"name\":\"knockout\",\"type\":\"js\",\"url\":\"/assetserver/e01b84c0d0af2eebde3fc7b16369c948739023fb-knockout.js\"},{\"name\":\"knockout_punches\",\"type\":\"js\",\"url\":\"/assetserver/b353703eab22061a08f8de9baa0405ae441777c9-knockout_punches.js\"}],\"type\":\"async_block\"})).then((imports) => handler.apply(this, imports));\n}\n"
          ],
          "observables": {
           "index": {
            "id": "12425867196795640929",
            "sync": true,
            "value": 1
           },
           "options_js": {
            "id": "8814036570919086247",
            "sync": false,
            "value": [
             {
              "id": "idlmD63ayU",
              "key": "Right",
              "val": 1
             },
             {
              "id": "idrvLwgYlD",
              "key": "Left",
              "val": 2
             }
            ]
           }
          },
          "systemjs_options": null
         },
         "nodeType": "Scope",
         "props": {},
         "type": "node"
        }
       ],
       "instanceArgs": {
        "namespace": "html",
        "tag": "div"
       },
       "nodeType": "DOM",
       "props": {
        "className": "field interact-widget"
       },
       "type": "node"
      },
      "text/html": [
       "<div\n",
       "    class=\"webio-mountpoint\"\n",
       "    data-webio-mountpoint=\"5503350517700740900\"\n",
       ">\n",
       "    <script>\n",
       "    if (window.require && require.defined && require.defined(\"nbextensions/webio-jupyter-notebook\")) {\n",
       "        console.log(\"Jupyter WebIO extension detected, not mounting.\");\n",
       "    } else if (window.WebIO) {\n",
       "        WebIO.mount(\n",
       "            document.querySelector('[data-webio-mountpoint=\"5503350517700740900\"]'),\n",
       "            {\"props\":{\"className\":\"field interact-widget\"},\"nodeType\":\"DOM\",\"type\":\"node\",\"instanceArgs\":{\"namespace\":\"html\",\"tag\":\"div\"},\"children\":[{\"props\":{},\"nodeType\":\"Scope\",\"type\":\"node\",\"instanceArgs\":{\"imports\":{\"data\":[{\"name\":\"knockout\",\"type\":\"js\",\"url\":\"\\/assetserver\\/e01b84c0d0af2eebde3fc7b16369c948739023fb-knockout.js\"},{\"name\":\"knockout_punches\",\"type\":\"js\",\"url\":\"\\/assetserver\\/b353703eab22061a08f8de9baa0405ae441777c9-knockout_punches.js\"},{\"name\":null,\"type\":\"js\",\"url\":\"\\/assetserver\\/c038d2feabdafaf5e303e30df82a7853ffbcf174-all.js\"},{\"name\":null,\"type\":\"css\",\"url\":\"\\/assetserver\\/376adac1c7dc75236e9b6928ec691f6c24367d43-style.css\"},{\"name\":null,\"type\":\"css\",\"url\":\"\\/assetserver\\/d6af41566a3b0e476684825e38a7b0cd5778e505-bulma_confined.min.css\"}],\"type\":\"async_block\"},\"id\":\"15700399299256225930\",\"handlers\":{\"options_js\":[\"(function (val){return (val!=this.model[\\\"options_js\\\"]()) ? (this.valueFromJulia[\\\"options_js\\\"]=true, this.model[\\\"options_js\\\"](val)) : undefined})\"],\"index\":[\"(function (val){return (val!=this.model[\\\"index\\\"]()) ? (this.valueFromJulia[\\\"index\\\"]=true, this.model[\\\"index\\\"](val)) : undefined})\"]},\"systemjs_options\":null,\"mount_callbacks\":[\"function () {\\n    var handler = (function (ko, koPunches) {\\n    ko.punches.enableAll();\\n    ko.bindingHandlers.numericValue = {\\n        init: function(element, valueAccessor, allBindings, data, context) {\\n            var stringified = ko.observable(ko.unwrap(valueAccessor()));\\n            stringified.subscribe(function(value) {\\n                var val = parseFloat(value);\\n                if (!isNaN(val)) {\\n                    valueAccessor()(val);\\n                }\\n            });\\n            valueAccessor().subscribe(function(value) {\\n                var str = JSON.stringify(value);\\n                if ((str == \\\"0\\\") && ([\\\"-0\\\", \\\"-0.\\\"].indexOf(stringified()) >= 0))\\n                     return;\\n                 if ([\\\"null\\\", \\\"\\\"].indexOf(str) >= 0)\\n                     return;\\n                stringified(str);\\n            });\\n            ko.applyBindingsToNode(\\n                element,\\n                {\\n                    value: stringified,\\n                    valueUpdate: allBindings.get('valueUpdate'),\\n                },\\n                context,\\n            );\\n        }\\n    };\\n    var json_data = {\\\"options_js\\\":WebIO.getval({\\\"name\\\":\\\"options_js\\\",\\\"scope\\\":\\\"15700399299256225930\\\",\\\"id\\\":\\\"8814036570919086247\\\",\\\"type\\\":\\\"observable\\\"}),\\\"index\\\":WebIO.getval({\\\"name\\\":\\\"index\\\",\\\"scope\\\":\\\"15700399299256225930\\\",\\\"id\\\":\\\"12425867196795640929\\\",\\\"type\\\":\\\"observable\\\"})};\\n    var self = this;\\n    function AppViewModel() {\\n        for (var key in json_data) {\\n            var el = json_data[key];\\n            this[key] = Array.isArray(el) ? ko.observableArray(el) : ko.observable(el);\\n        }\\n        [this[\\\"disablePlaceholder\\\"]=function(option, item) {\\n    ko.applyBindingsToNode(option, {disable: item.val == 0}, item);\\n}\\n]\\n        \\n        [this[\\\"options_js\\\"].subscribe((function (val){!(this.valueFromJulia[\\\"options_js\\\"]) ? (WebIO.setval({\\\"name\\\":\\\"options_js\\\",\\\"scope\\\":\\\"15700399299256225930\\\",\\\"id\\\":\\\"8814036570919086247\\\",\\\"type\\\":\\\"observable\\\"},val)) : undefined; return this.valueFromJulia[\\\"options_js\\\"]=false}),self),this[\\\"index\\\"].subscribe((function (val){!(this.valueFromJulia[\\\"index\\\"]) ? (WebIO.setval({\\\"name\\\":\\\"index\\\",\\\"scope\\\":\\\"15700399299256225930\\\",\\\"id\\\":\\\"12425867196795640929\\\",\\\"type\\\":\\\"observable\\\"},val)) : undefined; return this.valueFromJulia[\\\"index\\\"]=false}),self)]\\n        \\n    }\\n    self.model = new AppViewModel();\\n    self.valueFromJulia = {};\\n    for (var key in json_data) {\\n        self.valueFromJulia[key] = false;\\n    }\\n    ko.applyBindings(self.model, self.dom);\\n}\\n);\\n    (WebIO.importBlock({\\\"data\\\":[{\\\"name\\\":\\\"knockout\\\",\\\"type\\\":\\\"js\\\",\\\"url\\\":\\\"\\/assetserver\\/e01b84c0d0af2eebde3fc7b16369c948739023fb-knockout.js\\\"},{\\\"name\\\":\\\"knockout_punches\\\",\\\"type\\\":\\\"js\\\",\\\"url\\\":\\\"\\/assetserver\\/b353703eab22061a08f8de9baa0405ae441777c9-knockout_punches.js\\\"}],\\\"type\\\":\\\"async_block\\\"})).then((imports) => handler.apply(this, imports));\\n}\\n\"],\"observables\":{\"options_js\":{\"sync\":false,\"id\":\"8814036570919086247\",\"value\":[{\"key\":\"Right\",\"val\":1,\"id\":\"idlmD63ayU\"},{\"key\":\"Left\",\"val\":2,\"id\":\"idrvLwgYlD\"}]},\"index\":{\"sync\":true,\"id\":\"12425867196795640929\",\"value\":1}}},\"children\":[{\"props\":{\"style\":{\"display\":\"flex\",\"flex-direction\":\"column\"}},\"nodeType\":\"DOM\",\"type\":\"node\",\"instanceArgs\":{\"namespace\":\"html\",\"tag\":\"div\"},\"children\":[\"Bowler Hand\",{\"props\":{\"className\":\"select \"},\"nodeType\":\"DOM\",\"type\":\"node\",\"instanceArgs\":{\"namespace\":\"html\",\"tag\":\"div\"},\"children\":[{\"props\":{\"attributes\":{\"data-bind\":\"options : options_js, value : index, optionsText: 'key', optionsValue: 'val', valueAllowUnset: true, optionsAfterRender: disablePlaceholder\"}},\"nodeType\":\"DOM\",\"type\":\"node\",\"instanceArgs\":{\"namespace\":\"html\",\"tag\":\"select\"},\"children\":[]}]}]}]}]},\n",
       "            window,\n",
       "        );\n",
       "    } else {\n",
       "        document\n",
       "            .querySelector('[data-webio-mountpoint=\"5503350517700740900\"]')\n",
       "            .innerHTML = (\n",
       "                '<div style=\"padding: 1em; background-color: #f8d6da; border: 1px solid #f5c6cb\">' +\n",
       "                '<p><strong>WebIO not detected.</strong></p>' +\n",
       "                '<p>Please read ' +\n",
       "                '<a href=\"https://juliagizmos.github.io/WebIO.jl/latest/troubleshooting/not-detected/\" target=\"_blank\">the troubleshooting guide</a> ' +\n",
       "                'for more information on how to resolve this issue.</p>' +\n",
       "                '<p><a href=\"https://juliagizmos.github.io/WebIO.jl/latest/troubleshooting/not-detected/\" target=\"_blank\">https://juliagizmos.github.io/WebIO.jl/latest/troubleshooting/not-detected/</a></p>' +\n",
       "                '</div>'\n",
       "            );\n",
       "    }\n",
       "    </script>\n",
       "</div>\n"
      ],
      "text/plain": [
       "(div { className=\"field interact-widget\" }\n",
       "    (div { style=Dict(\"display\" => \"flex\",\"flex-direction\" => \"column\") }\n",
       "    \"Bowler Hand\"\n",
       "    (div { className=\"select \" }\n",
       "      (select { attributes=Dict{Union{String, Symbol},Any}(Symbol(\"data-bind\") => \"options : options_js, value : index, optionsText: 'key', optionsValue: 'val', valueAllowUnset: true, optionsAfterRender: disablePlaceholder\") }))))"
      ]
     },
     "metadata": {
      "application/vnd.webio.node+json": {
       "kernelId": "ed1b62ea-172f-4ef5-972d-454002e6a062"
      }
     },
     "output_type": "display_data"
    }
   ],
   "source": [
    "display(strikerhand)\n",
    "display(bowlerhand)"
   ]
  },
  {
   "cell_type": "code",
   "execution_count": 59,
   "metadata": {
    "scrolled": true
   },
   "outputs": [
    {
     "ename": "LoadError",
     "evalue": "syntax: extra token \")\" after end of expression",
     "output_type": "error",
     "traceback": [
      "syntax: extra token \")\" after end of expression",
      ""
     ]
    }
   ],
   "source": [
    "filtereddata = map(x -> filter(row -> isequal(row[:Striker_Hand], x), df[1:1000,:]),\n",
    "    strikerhand);\n",
    "filtereddata = map(x -> filter(row -> isequal(row[:Bowler_Hand], x), filtereddata),\n",
    "    bowlerhand);\n",
    "# function oscatterplot(ofiltereddata)    \n",
    "#     hittox = ofiltereddata[].Hit_To_Len.*cos.(ofiltereddata[].Hit_To_Angle)\n",
    "#     hittoy = ofiltereddata[].Hit_To_Len.*sin.(ofiltereddata[].Hit_To_Angle)\n",
    "#     p = plotOval()\n",
    "#     scatter!(hittox, hittoy)\n",
    "# end\n",
    "# map(x -> oscatterplot(x), filtereddata)"
   ]
  },
  {
   "cell_type": "code",
   "execution_count": 117,
   "metadata": {},
   "outputs": [
    {
     "data": {
      "text/html": [
       "<table class=\"data-frame\"><thead><tr><th></th><th>Match_Id</th><th>Match_Date</th><th>Day_Night</th><th>Venue_Id</th><th>Venue</th><th>TeamB_At_Home</th><th>Team_Batting_At_Home</th></tr><tr><th></th><th>Int64</th><th>String</th><th>String</th><th>Int64</th><th>String</th><th>String</th><th>String</th></tr></thead><tbody><p>100 rows × 136 columns (omitted printing of 129 columns)</p><tr><th>1</th><td>3551019</td><td>18-Oct-2019</td><td>N</td><td>6</td><td>North Sydney Oval</td><td>N</td><td>Y</td></tr><tr><th>2</th><td>3551019</td><td>18-Oct-2019</td><td>N</td><td>6</td><td>North Sydney Oval</td><td>N</td><td>Y</td></tr><tr><th>3</th><td>3551019</td><td>18-Oct-2019</td><td>N</td><td>6</td><td>North Sydney Oval</td><td>N</td><td>Y</td></tr><tr><th>4</th><td>3551019</td><td>18-Oct-2019</td><td>N</td><td>6</td><td>North Sydney Oval</td><td>N</td><td>Y</td></tr><tr><th>5</th><td>3551019</td><td>18-Oct-2019</td><td>N</td><td>6</td><td>North Sydney Oval</td><td>N</td><td>Y</td></tr><tr><th>6</th><td>3551019</td><td>18-Oct-2019</td><td>N</td><td>6</td><td>North Sydney Oval</td><td>N</td><td>Y</td></tr><tr><th>7</th><td>3551019</td><td>18-Oct-2019</td><td>N</td><td>6</td><td>North Sydney Oval</td><td>N</td><td>Y</td></tr><tr><th>8</th><td>3551019</td><td>18-Oct-2019</td><td>N</td><td>6</td><td>North Sydney Oval</td><td>N</td><td>Y</td></tr><tr><th>9</th><td>3551019</td><td>18-Oct-2019</td><td>N</td><td>6</td><td>North Sydney Oval</td><td>N</td><td>Y</td></tr><tr><th>10</th><td>3551019</td><td>18-Oct-2019</td><td>N</td><td>6</td><td>North Sydney Oval</td><td>N</td><td>Y</td></tr><tr><th>11</th><td>3551019</td><td>18-Oct-2019</td><td>N</td><td>6</td><td>North Sydney Oval</td><td>N</td><td>Y</td></tr><tr><th>12</th><td>3551019</td><td>18-Oct-2019</td><td>N</td><td>6</td><td>North Sydney Oval</td><td>N</td><td>Y</td></tr><tr><th>13</th><td>3551019</td><td>18-Oct-2019</td><td>N</td><td>6</td><td>North Sydney Oval</td><td>N</td><td>Y</td></tr><tr><th>14</th><td>3551019</td><td>18-Oct-2019</td><td>N</td><td>6</td><td>North Sydney Oval</td><td>N</td><td>Y</td></tr><tr><th>15</th><td>3551019</td><td>18-Oct-2019</td><td>N</td><td>6</td><td>North Sydney Oval</td><td>N</td><td>Y</td></tr><tr><th>16</th><td>3551019</td><td>18-Oct-2019</td><td>N</td><td>6</td><td>North Sydney Oval</td><td>N</td><td>Y</td></tr><tr><th>17</th><td>3551019</td><td>18-Oct-2019</td><td>N</td><td>6</td><td>North Sydney Oval</td><td>N</td><td>Y</td></tr><tr><th>18</th><td>3551019</td><td>18-Oct-2019</td><td>N</td><td>6</td><td>North Sydney Oval</td><td>N</td><td>Y</td></tr><tr><th>19</th><td>3551019</td><td>18-Oct-2019</td><td>N</td><td>6</td><td>North Sydney Oval</td><td>N</td><td>Y</td></tr><tr><th>20</th><td>3551019</td><td>18-Oct-2019</td><td>N</td><td>6</td><td>North Sydney Oval</td><td>N</td><td>Y</td></tr><tr><th>21</th><td>3551019</td><td>18-Oct-2019</td><td>N</td><td>6</td><td>North Sydney Oval</td><td>N</td><td>Y</td></tr><tr><th>22</th><td>3551019</td><td>18-Oct-2019</td><td>N</td><td>6</td><td>North Sydney Oval</td><td>N</td><td>Y</td></tr><tr><th>23</th><td>3551019</td><td>18-Oct-2019</td><td>N</td><td>6</td><td>North Sydney Oval</td><td>N</td><td>Y</td></tr><tr><th>24</th><td>3551019</td><td>18-Oct-2019</td><td>N</td><td>6</td><td>North Sydney Oval</td><td>N</td><td>Y</td></tr><tr><th>25</th><td>3551019</td><td>18-Oct-2019</td><td>N</td><td>6</td><td>North Sydney Oval</td><td>N</td><td>Y</td></tr><tr><th>26</th><td>3551019</td><td>18-Oct-2019</td><td>N</td><td>6</td><td>North Sydney Oval</td><td>N</td><td>Y</td></tr><tr><th>27</th><td>3551019</td><td>18-Oct-2019</td><td>N</td><td>6</td><td>North Sydney Oval</td><td>N</td><td>Y</td></tr><tr><th>28</th><td>3551019</td><td>18-Oct-2019</td><td>N</td><td>6</td><td>North Sydney Oval</td><td>N</td><td>Y</td></tr><tr><th>29</th><td>3551019</td><td>18-Oct-2019</td><td>N</td><td>6</td><td>North Sydney Oval</td><td>N</td><td>Y</td></tr><tr><th>30</th><td>3551019</td><td>18-Oct-2019</td><td>N</td><td>6</td><td>North Sydney Oval</td><td>N</td><td>Y</td></tr><tr><th>&vellip;</th><td>&vellip;</td><td>&vellip;</td><td>&vellip;</td><td>&vellip;</td><td>&vellip;</td><td>&vellip;</td><td>&vellip;</td></tr></tbody></table>"
      ],
      "text/latex": [
       "\\begin{tabular}{r|cccccccc}\n",
       "\t& Match\\_Id & Match\\_Date & Day\\_Night & Venue\\_Id & Venue & TeamB\\_At\\_Home & Team\\_Batting\\_At\\_Home & \\\\\n",
       "\t\\hline\n",
       "\t& Int64 & String & String & Int64 & String & String & String & \\\\\n",
       "\t\\hline\n",
       "\t1 & 3551019 & 18-Oct-2019 & N & 6 & North Sydney Oval & N & Y & $\\dots$ \\\\\n",
       "\t2 & 3551019 & 18-Oct-2019 & N & 6 & North Sydney Oval & N & Y & $\\dots$ \\\\\n",
       "\t3 & 3551019 & 18-Oct-2019 & N & 6 & North Sydney Oval & N & Y & $\\dots$ \\\\\n",
       "\t4 & 3551019 & 18-Oct-2019 & N & 6 & North Sydney Oval & N & Y & $\\dots$ \\\\\n",
       "\t5 & 3551019 & 18-Oct-2019 & N & 6 & North Sydney Oval & N & Y & $\\dots$ \\\\\n",
       "\t6 & 3551019 & 18-Oct-2019 & N & 6 & North Sydney Oval & N & Y & $\\dots$ \\\\\n",
       "\t7 & 3551019 & 18-Oct-2019 & N & 6 & North Sydney Oval & N & Y & $\\dots$ \\\\\n",
       "\t8 & 3551019 & 18-Oct-2019 & N & 6 & North Sydney Oval & N & Y & $\\dots$ \\\\\n",
       "\t9 & 3551019 & 18-Oct-2019 & N & 6 & North Sydney Oval & N & Y & $\\dots$ \\\\\n",
       "\t10 & 3551019 & 18-Oct-2019 & N & 6 & North Sydney Oval & N & Y & $\\dots$ \\\\\n",
       "\t11 & 3551019 & 18-Oct-2019 & N & 6 & North Sydney Oval & N & Y & $\\dots$ \\\\\n",
       "\t12 & 3551019 & 18-Oct-2019 & N & 6 & North Sydney Oval & N & Y & $\\dots$ \\\\\n",
       "\t13 & 3551019 & 18-Oct-2019 & N & 6 & North Sydney Oval & N & Y & $\\dots$ \\\\\n",
       "\t14 & 3551019 & 18-Oct-2019 & N & 6 & North Sydney Oval & N & Y & $\\dots$ \\\\\n",
       "\t15 & 3551019 & 18-Oct-2019 & N & 6 & North Sydney Oval & N & Y & $\\dots$ \\\\\n",
       "\t16 & 3551019 & 18-Oct-2019 & N & 6 & North Sydney Oval & N & Y & $\\dots$ \\\\\n",
       "\t17 & 3551019 & 18-Oct-2019 & N & 6 & North Sydney Oval & N & Y & $\\dots$ \\\\\n",
       "\t18 & 3551019 & 18-Oct-2019 & N & 6 & North Sydney Oval & N & Y & $\\dots$ \\\\\n",
       "\t19 & 3551019 & 18-Oct-2019 & N & 6 & North Sydney Oval & N & Y & $\\dots$ \\\\\n",
       "\t20 & 3551019 & 18-Oct-2019 & N & 6 & North Sydney Oval & N & Y & $\\dots$ \\\\\n",
       "\t21 & 3551019 & 18-Oct-2019 & N & 6 & North Sydney Oval & N & Y & $\\dots$ \\\\\n",
       "\t22 & 3551019 & 18-Oct-2019 & N & 6 & North Sydney Oval & N & Y & $\\dots$ \\\\\n",
       "\t23 & 3551019 & 18-Oct-2019 & N & 6 & North Sydney Oval & N & Y & $\\dots$ \\\\\n",
       "\t24 & 3551019 & 18-Oct-2019 & N & 6 & North Sydney Oval & N & Y & $\\dots$ \\\\\n",
       "\t25 & 3551019 & 18-Oct-2019 & N & 6 & North Sydney Oval & N & Y & $\\dots$ \\\\\n",
       "\t26 & 3551019 & 18-Oct-2019 & N & 6 & North Sydney Oval & N & Y & $\\dots$ \\\\\n",
       "\t27 & 3551019 & 18-Oct-2019 & N & 6 & North Sydney Oval & N & Y & $\\dots$ \\\\\n",
       "\t28 & 3551019 & 18-Oct-2019 & N & 6 & North Sydney Oval & N & Y & $\\dots$ \\\\\n",
       "\t29 & 3551019 & 18-Oct-2019 & N & 6 & North Sydney Oval & N & Y & $\\dots$ \\\\\n",
       "\t30 & 3551019 & 18-Oct-2019 & N & 6 & North Sydney Oval & N & Y & $\\dots$ \\\\\n",
       "\t$\\dots$ & $\\dots$ & $\\dots$ & $\\dots$ & $\\dots$ & $\\dots$ & $\\dots$ & $\\dots$ &  \\\\\n",
       "\\end{tabular}\n"
      ],
      "text/plain": [
       "100×136 DataFrame. Omitted printing of 131 columns\n",
       "│ Row │ Match_Id │ Match_Date  │ Day_Night │ Venue_Id │ Venue             │\n",
       "│     │ \u001b[90mInt64\u001b[39m    │ \u001b[90mString\u001b[39m      │ \u001b[90mString\u001b[39m    │ \u001b[90mInt64\u001b[39m    │ \u001b[90mString\u001b[39m            │\n",
       "├─────┼──────────┼─────────────┼───────────┼──────────┼───────────────────┤\n",
       "│ 1   │ 3551019  │ 18-Oct-2019 │ N         │ 6        │ North Sydney Oval │\n",
       "│ 2   │ 3551019  │ 18-Oct-2019 │ N         │ 6        │ North Sydney Oval │\n",
       "│ 3   │ 3551019  │ 18-Oct-2019 │ N         │ 6        │ North Sydney Oval │\n",
       "│ 4   │ 3551019  │ 18-Oct-2019 │ N         │ 6        │ North Sydney Oval │\n",
       "│ 5   │ 3551019  │ 18-Oct-2019 │ N         │ 6        │ North Sydney Oval │\n",
       "│ 6   │ 3551019  │ 18-Oct-2019 │ N         │ 6        │ North Sydney Oval │\n",
       "│ 7   │ 3551019  │ 18-Oct-2019 │ N         │ 6        │ North Sydney Oval │\n",
       "│ 8   │ 3551019  │ 18-Oct-2019 │ N         │ 6        │ North Sydney Oval │\n",
       "│ 9   │ 3551019  │ 18-Oct-2019 │ N         │ 6        │ North Sydney Oval │\n",
       "│ 10  │ 3551019  │ 18-Oct-2019 │ N         │ 6        │ North Sydney Oval │\n",
       "⋮\n",
       "│ 90  │ 3551019  │ 18-Oct-2019 │ N         │ 6        │ North Sydney Oval │\n",
       "│ 91  │ 3551019  │ 18-Oct-2019 │ N         │ 6        │ North Sydney Oval │\n",
       "│ 92  │ 3551019  │ 18-Oct-2019 │ N         │ 6        │ North Sydney Oval │\n",
       "│ 93  │ 3551019  │ 18-Oct-2019 │ N         │ 6        │ North Sydney Oval │\n",
       "│ 94  │ 3551019  │ 18-Oct-2019 │ N         │ 6        │ North Sydney Oval │\n",
       "│ 95  │ 3551019  │ 18-Oct-2019 │ N         │ 6        │ North Sydney Oval │\n",
       "│ 96  │ 3551019  │ 18-Oct-2019 │ N         │ 6        │ North Sydney Oval │\n",
       "│ 97  │ 3551019  │ 18-Oct-2019 │ N         │ 6        │ North Sydney Oval │\n",
       "│ 98  │ 3551019  │ 18-Oct-2019 │ N         │ 6        │ North Sydney Oval │\n",
       "│ 99  │ 3551019  │ 18-Oct-2019 │ N         │ 6        │ North Sydney Oval │\n",
       "│ 100 │ 3551019  │ 18-Oct-2019 │ N         │ 6        │ North Sydney Oval │"
      ]
     },
     "execution_count": 117,
     "metadata": {},
     "output_type": "execute_result"
    }
   ],
   "source": [
    "dfss = df[1:100,:]"
   ]
  },
  {
   "cell_type": "code",
   "execution_count": 126,
   "metadata": {
    "scrolled": false
   },
   "outputs": [
    {
     "ename": "MethodError",
     "evalue": "MethodError: no method matching getindex(::Observable{Any}, ::Int64)\nClosest candidates are:\n  getindex(::Observable) at /Users/angus2/.julia/packages/Observables/0wrF6/src/Observables.jl:188\n  getindex(::Observables.AbstractObservable) at /Users/angus2/.julia/packages/Observables/0wrF6/src/Observables.jl:190",
     "output_type": "error",
     "traceback": [
      "MethodError: no method matching getindex(::Observable{Any}, ::Int64)\nClosest candidates are:\n  getindex(::Observable) at /Users/angus2/.julia/packages/Observables/0wrF6/src/Observables.jl:188\n  getindex(::Observables.AbstractObservable) at /Users/angus2/.julia/packages/Observables/0wrF6/src/Observables.jl:190",
      "",
      "Stacktrace:",
      " [1] oscatterplot() at ./In[126]:12",
      " [2] top-level scope at In[126]:17"
     ]
    }
   ],
   "source": [
    "function oscatterplot()\n",
    "    strikerhand = dropdown(handdict;\n",
    "             label = \"Striker Hand\",\n",
    "             multiple = false);\n",
    "    bowlerhand = dropdown(handdict;\n",
    "             label = \"Bowler Hand\",\n",
    "             multiple = false);\n",
    "    idxstrikerhand = Interact.@map isequal.(df[:,:Striker_Hand], &strikerhand)\n",
    "    idxbowlerhand = Interact.@map isequal.(df[:,:Bowler_Hand], &bowlerhand)\n",
    "    idx = Interact.@map (&idxstrikerhand .* &idxbowlerhand)\n",
    "    polar = Interact.@map (len = df[&idx,:Hit_To_Len], angle = df[&idx,:Hit_To_Angle])\n",
    "    Interact.@map fieldnames(&polar)\n",
    "    hittox = Interact.@map &polar.len.*cos.(&polar.angle)\n",
    "    hittoy = Interact.@map &polar.len.*sin.(&polar.len)\n",
    "    p = plotOval()\n",
    "    p = Interact.@map scatter!(&hittox, &hittoy)\n",
    "    wdg = Widget([\"Striker Hand\" => strikerhand, \"Bowler Hand\" => bowlerhand], output = p)\n",
    "end\n",
    "oscatterplot()"
   ]
  },
  {
   "cell_type": "code",
   "execution_count": null,
   "metadata": {},
   "outputs": [],
   "source": [
    "display(observe(strikerhand))"
   ]
  },
  {
   "cell_type": "code",
   "execution_count": 67,
   "metadata": {},
   "outputs": [
    {
     "data": {
      "text/plain": [
       "true"
      ]
     },
     "execution_count": 67,
     "metadata": {},
     "output_type": "execute_result"
    }
   ],
   "source": [
    "true*true\n",
    "\n",
    "\n",
    "\n"
   ]
  },
  {
   "cell_type": "code",
   "execution_count": 77,
   "metadata": {},
   "outputs": [
    {
     "data": {
      "text/latex": [
       "\\begin{verbatim}\n",
       "@map(expr)\n",
       "\\end{verbatim}\n",
       "Wrap \\texttt{AbstractObservables} in \\texttt{\\&} to compute expression \\texttt{expr} using their value. The expression will be computed when \\texttt{@map} is called and  every time the \\texttt{AbstractObservables} are updated.\n",
       "\n",
       "\\subsection{Examples}\n",
       "\\begin{verbatim}\n",
       "julia> a = Observable(2);\n",
       "\n",
       "julia> b = Observable(3);\n",
       "\n",
       "julia> c = Observables.@map &a + &b;\n",
       "\n",
       "julia> c[]\n",
       "5\n",
       "\n",
       "julia> a[] = 100\n",
       "100\n",
       "\n",
       "julia> c[]\n",
       "103\n",
       "\\end{verbatim}\n"
      ],
      "text/markdown": [
       "```\n",
       "@map(expr)\n",
       "```\n",
       "\n",
       "Wrap `AbstractObservables` in `&` to compute expression `expr` using their value. The expression will be computed when `@map` is called and  every time the `AbstractObservables` are updated.\n",
       "\n",
       "## Examples\n",
       "\n",
       "```\n",
       "julia> a = Observable(2);\n",
       "\n",
       "julia> b = Observable(3);\n",
       "\n",
       "julia> c = Observables.@map &a + &b;\n",
       "\n",
       "julia> c[]\n",
       "5\n",
       "\n",
       "julia> a[] = 100\n",
       "100\n",
       "\n",
       "julia> c[]\n",
       "103\n",
       "```\n"
      ],
      "text/plain": [
       "\u001b[36m  @map(expr)\u001b[39m\n",
       "\n",
       "  Wrap \u001b[36mAbstractObservables\u001b[39m in \u001b[36m&\u001b[39m to compute expression \u001b[36mexpr\u001b[39m using their value.\n",
       "  The expression will be computed when \u001b[36m@map\u001b[39m is called and every time the\n",
       "  \u001b[36mAbstractObservables\u001b[39m are updated.\n",
       "\n",
       "\u001b[1m  Examples\u001b[22m\n",
       "\u001b[1m  ==========\u001b[22m\n",
       "\n",
       "\u001b[36m  julia> a = Observable(2);\u001b[39m\n",
       "\u001b[36m  \u001b[39m\n",
       "\u001b[36m  julia> b = Observable(3);\u001b[39m\n",
       "\u001b[36m  \u001b[39m\n",
       "\u001b[36m  julia> c = Observables.@map &a + &b;\u001b[39m\n",
       "\u001b[36m  \u001b[39m\n",
       "\u001b[36m  julia> c[]\u001b[39m\n",
       "\u001b[36m  5\u001b[39m\n",
       "\u001b[36m  \u001b[39m\n",
       "\u001b[36m  julia> a[] = 100\u001b[39m\n",
       "\u001b[36m  100\u001b[39m\n",
       "\u001b[36m  \u001b[39m\n",
       "\u001b[36m  julia> c[]\u001b[39m\n",
       "\u001b[36m  103\u001b[39m"
      ]
     },
     "execution_count": 77,
     "metadata": {},
     "output_type": "execute_result"
    }
   ],
   "source": [
    "? Interact.@map\n"
   ]
  },
  {
   "cell_type": "code",
   "execution_count": null,
   "metadata": {},
   "outputs": [],
   "source": []
  }
 ],
 "metadata": {
  "@webio": {
   "lastCommId": "261144c78aef4ab891c1402b21150d1f",
   "lastKernelId": "ed1b62ea-172f-4ef5-972d-454002e6a062"
  },
  "kernelspec": {
   "display_name": "Julia 1.4.2",
   "language": "julia",
   "name": "julia-1.4"
  },
  "language_info": {
   "file_extension": ".jl",
   "mimetype": "application/julia",
   "name": "julia",
   "version": "1.4.2"
  }
 },
 "nbformat": 4,
 "nbformat_minor": 4
}
